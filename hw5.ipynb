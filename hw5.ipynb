{
 "cells": [
  {
   "metadata": {
    "collapsed": true,
    "ExecuteTime": {
     "end_time": "2025-09-27T12:17:13.467749Z",
     "start_time": "2025-09-27T12:17:10.828145Z"
    }
   },
   "cell_type": "code",
   "source": [
    "%pip install langfuse\n",
    "%pip install langchain langgraph langchain_openai langchain_community\n",
    "%pip install --upgrade --quiet  yandexcloud yandex-cloud-ml-sdk\n"
   ],
   "id": "initial_id",
   "outputs": [
    {
     "name": "stdout",
     "output_type": "stream",
     "text": [
      "Requirement already satisfied: langfuse in /home/dmitry/PyCharmMiscProject/.venv/lib/python3.12/site-packages (3.5.1)\r\n",
      "Requirement already satisfied: backoff>=1.10.0 in /home/dmitry/PyCharmMiscProject/.venv/lib/python3.12/site-packages (from langfuse) (2.2.1)\r\n",
      "Requirement already satisfied: httpx<1.0,>=0.15.4 in /home/dmitry/PyCharmMiscProject/.venv/lib/python3.12/site-packages (from langfuse) (0.28.1)\r\n",
      "Requirement already satisfied: opentelemetry-api<2.0.0,>=1.33.1 in /home/dmitry/PyCharmMiscProject/.venv/lib/python3.12/site-packages (from langfuse) (1.37.0)\r\n",
      "Requirement already satisfied: opentelemetry-exporter-otlp-proto-http<2.0.0,>=1.33.1 in /home/dmitry/PyCharmMiscProject/.venv/lib/python3.12/site-packages (from langfuse) (1.37.0)\r\n",
      "Requirement already satisfied: opentelemetry-sdk<2.0.0,>=1.33.1 in /home/dmitry/PyCharmMiscProject/.venv/lib/python3.12/site-packages (from langfuse) (1.37.0)\r\n",
      "Requirement already satisfied: packaging<26.0,>=23.2 in /home/dmitry/PyCharmMiscProject/.venv/lib/python3.12/site-packages (from langfuse) (25.0)\r\n",
      "Requirement already satisfied: pydantic<3.0,>=1.10.7 in /home/dmitry/PyCharmMiscProject/.venv/lib/python3.12/site-packages (from langfuse) (2.11.7)\r\n",
      "Requirement already satisfied: requests<3,>=2 in /home/dmitry/PyCharmMiscProject/.venv/lib/python3.12/site-packages (from langfuse) (2.32.5)\r\n",
      "Requirement already satisfied: wrapt<2.0,>=1.14 in /home/dmitry/PyCharmMiscProject/.venv/lib/python3.12/site-packages (from langfuse) (1.17.3)\r\n",
      "Requirement already satisfied: anyio in /home/dmitry/PyCharmMiscProject/.venv/lib/python3.12/site-packages (from httpx<1.0,>=0.15.4->langfuse) (4.10.0)\r\n",
      "Requirement already satisfied: certifi in /home/dmitry/PyCharmMiscProject/.venv/lib/python3.12/site-packages (from httpx<1.0,>=0.15.4->langfuse) (2025.8.3)\r\n",
      "Requirement already satisfied: httpcore==1.* in /home/dmitry/PyCharmMiscProject/.venv/lib/python3.12/site-packages (from httpx<1.0,>=0.15.4->langfuse) (1.0.9)\r\n",
      "Requirement already satisfied: idna in /home/dmitry/PyCharmMiscProject/.venv/lib/python3.12/site-packages (from httpx<1.0,>=0.15.4->langfuse) (3.10)\r\n",
      "Requirement already satisfied: h11>=0.16 in /home/dmitry/PyCharmMiscProject/.venv/lib/python3.12/site-packages (from httpcore==1.*->httpx<1.0,>=0.15.4->langfuse) (0.16.0)\r\n",
      "Requirement already satisfied: importlib-metadata<8.8.0,>=6.0 in /home/dmitry/PyCharmMiscProject/.venv/lib/python3.12/site-packages (from opentelemetry-api<2.0.0,>=1.33.1->langfuse) (8.7.0)\r\n",
      "Requirement already satisfied: typing-extensions>=4.5.0 in /home/dmitry/PyCharmMiscProject/.venv/lib/python3.12/site-packages (from opentelemetry-api<2.0.0,>=1.33.1->langfuse) (4.14.1)\r\n",
      "Requirement already satisfied: zipp>=3.20 in /home/dmitry/PyCharmMiscProject/.venv/lib/python3.12/site-packages (from importlib-metadata<8.8.0,>=6.0->opentelemetry-api<2.0.0,>=1.33.1->langfuse) (3.23.0)\r\n",
      "Requirement already satisfied: googleapis-common-protos~=1.52 in /home/dmitry/PyCharmMiscProject/.venv/lib/python3.12/site-packages (from opentelemetry-exporter-otlp-proto-http<2.0.0,>=1.33.1->langfuse) (1.70.0)\r\n",
      "Requirement already satisfied: opentelemetry-exporter-otlp-proto-common==1.37.0 in /home/dmitry/PyCharmMiscProject/.venv/lib/python3.12/site-packages (from opentelemetry-exporter-otlp-proto-http<2.0.0,>=1.33.1->langfuse) (1.37.0)\r\n",
      "Requirement already satisfied: opentelemetry-proto==1.37.0 in /home/dmitry/PyCharmMiscProject/.venv/lib/python3.12/site-packages (from opentelemetry-exporter-otlp-proto-http<2.0.0,>=1.33.1->langfuse) (1.37.0)\r\n",
      "Requirement already satisfied: protobuf<7.0,>=5.0 in /home/dmitry/PyCharmMiscProject/.venv/lib/python3.12/site-packages (from opentelemetry-proto==1.37.0->opentelemetry-exporter-otlp-proto-http<2.0.0,>=1.33.1->langfuse) (5.29.5)\r\n",
      "Requirement already satisfied: opentelemetry-semantic-conventions==0.58b0 in /home/dmitry/PyCharmMiscProject/.venv/lib/python3.12/site-packages (from opentelemetry-sdk<2.0.0,>=1.33.1->langfuse) (0.58b0)\r\n",
      "Requirement already satisfied: annotated-types>=0.6.0 in /home/dmitry/PyCharmMiscProject/.venv/lib/python3.12/site-packages (from pydantic<3.0,>=1.10.7->langfuse) (0.7.0)\r\n",
      "Requirement already satisfied: pydantic-core==2.33.2 in /home/dmitry/PyCharmMiscProject/.venv/lib/python3.12/site-packages (from pydantic<3.0,>=1.10.7->langfuse) (2.33.2)\r\n",
      "Requirement already satisfied: typing-inspection>=0.4.0 in /home/dmitry/PyCharmMiscProject/.venv/lib/python3.12/site-packages (from pydantic<3.0,>=1.10.7->langfuse) (0.4.1)\r\n",
      "Requirement already satisfied: charset_normalizer<4,>=2 in /home/dmitry/PyCharmMiscProject/.venv/lib/python3.12/site-packages (from requests<3,>=2->langfuse) (3.4.3)\r\n",
      "Requirement already satisfied: urllib3<3,>=1.21.1 in /home/dmitry/PyCharmMiscProject/.venv/lib/python3.12/site-packages (from requests<3,>=2->langfuse) (2.5.0)\r\n",
      "Requirement already satisfied: sniffio>=1.1 in /home/dmitry/PyCharmMiscProject/.venv/lib/python3.12/site-packages (from anyio->httpx<1.0,>=0.15.4->langfuse) (1.3.1)\r\n",
      "Note: you may need to restart the kernel to use updated packages.\n",
      "Requirement already satisfied: langchain in /home/dmitry/PyCharmMiscProject/.venv/lib/python3.12/site-packages (0.3.27)\r\n",
      "Requirement already satisfied: langgraph in /home/dmitry/PyCharmMiscProject/.venv/lib/python3.12/site-packages (0.6.7)\r\n",
      "Requirement already satisfied: langchain_openai in /home/dmitry/PyCharmMiscProject/.venv/lib/python3.12/site-packages (0.3.32)\r\n",
      "Requirement already satisfied: langchain_community in /home/dmitry/PyCharmMiscProject/.venv/lib/python3.12/site-packages (0.3.30)\r\n",
      "Requirement already satisfied: langchain-core<1.0.0,>=0.3.72 in /home/dmitry/PyCharmMiscProject/.venv/lib/python3.12/site-packages (from langchain) (0.3.75)\r\n",
      "Requirement already satisfied: langchain-text-splitters<1.0.0,>=0.3.9 in /home/dmitry/PyCharmMiscProject/.venv/lib/python3.12/site-packages (from langchain) (0.3.11)\r\n",
      "Requirement already satisfied: langsmith>=0.1.17 in /home/dmitry/PyCharmMiscProject/.venv/lib/python3.12/site-packages (from langchain) (0.4.27)\r\n",
      "Requirement already satisfied: pydantic<3.0.0,>=2.7.4 in /home/dmitry/PyCharmMiscProject/.venv/lib/python3.12/site-packages (from langchain) (2.11.7)\r\n",
      "Requirement already satisfied: SQLAlchemy<3,>=1.4 in /home/dmitry/PyCharmMiscProject/.venv/lib/python3.12/site-packages (from langchain) (2.0.43)\r\n",
      "Requirement already satisfied: requests<3,>=2 in /home/dmitry/PyCharmMiscProject/.venv/lib/python3.12/site-packages (from langchain) (2.32.5)\r\n",
      "Requirement already satisfied: PyYAML>=5.3 in /home/dmitry/PyCharmMiscProject/.venv/lib/python3.12/site-packages (from langchain) (6.0.2)\r\n",
      "Requirement already satisfied: tenacity!=8.4.0,<10.0.0,>=8.1.0 in /home/dmitry/PyCharmMiscProject/.venv/lib/python3.12/site-packages (from langchain-core<1.0.0,>=0.3.72->langchain) (9.1.2)\r\n",
      "Requirement already satisfied: jsonpatch<2.0,>=1.33 in /home/dmitry/PyCharmMiscProject/.venv/lib/python3.12/site-packages (from langchain-core<1.0.0,>=0.3.72->langchain) (1.33)\r\n",
      "Requirement already satisfied: typing-extensions>=4.7 in /home/dmitry/PyCharmMiscProject/.venv/lib/python3.12/site-packages (from langchain-core<1.0.0,>=0.3.72->langchain) (4.14.1)\r\n",
      "Requirement already satisfied: packaging>=23.2 in /home/dmitry/PyCharmMiscProject/.venv/lib/python3.12/site-packages (from langchain-core<1.0.0,>=0.3.72->langchain) (25.0)\r\n",
      "Requirement already satisfied: jsonpointer>=1.9 in /home/dmitry/PyCharmMiscProject/.venv/lib/python3.12/site-packages (from jsonpatch<2.0,>=1.33->langchain-core<1.0.0,>=0.3.72->langchain) (3.0.0)\r\n",
      "Requirement already satisfied: annotated-types>=0.6.0 in /home/dmitry/PyCharmMiscProject/.venv/lib/python3.12/site-packages (from pydantic<3.0.0,>=2.7.4->langchain) (0.7.0)\r\n",
      "Requirement already satisfied: pydantic-core==2.33.2 in /home/dmitry/PyCharmMiscProject/.venv/lib/python3.12/site-packages (from pydantic<3.0.0,>=2.7.4->langchain) (2.33.2)\r\n",
      "Requirement already satisfied: typing-inspection>=0.4.0 in /home/dmitry/PyCharmMiscProject/.venv/lib/python3.12/site-packages (from pydantic<3.0.0,>=2.7.4->langchain) (0.4.1)\r\n",
      "Requirement already satisfied: charset_normalizer<4,>=2 in /home/dmitry/PyCharmMiscProject/.venv/lib/python3.12/site-packages (from requests<3,>=2->langchain) (3.4.3)\r\n",
      "Requirement already satisfied: idna<4,>=2.5 in /home/dmitry/PyCharmMiscProject/.venv/lib/python3.12/site-packages (from requests<3,>=2->langchain) (3.10)\r\n",
      "Requirement already satisfied: urllib3<3,>=1.21.1 in /home/dmitry/PyCharmMiscProject/.venv/lib/python3.12/site-packages (from requests<3,>=2->langchain) (2.5.0)\r\n",
      "Requirement already satisfied: certifi>=2017.4.17 in /home/dmitry/PyCharmMiscProject/.venv/lib/python3.12/site-packages (from requests<3,>=2->langchain) (2025.8.3)\r\n",
      "Requirement already satisfied: greenlet>=1 in /home/dmitry/PyCharmMiscProject/.venv/lib/python3.12/site-packages (from SQLAlchemy<3,>=1.4->langchain) (3.2.4)\r\n",
      "Requirement already satisfied: langgraph-checkpoint<3.0.0,>=2.1.0 in /home/dmitry/PyCharmMiscProject/.venv/lib/python3.12/site-packages (from langgraph) (2.1.1)\r\n",
      "Requirement already satisfied: langgraph-prebuilt<0.7.0,>=0.6.0 in /home/dmitry/PyCharmMiscProject/.venv/lib/python3.12/site-packages (from langgraph) (0.6.4)\r\n",
      "Requirement already satisfied: langgraph-sdk<0.3.0,>=0.2.2 in /home/dmitry/PyCharmMiscProject/.venv/lib/python3.12/site-packages (from langgraph) (0.2.9)\r\n",
      "Requirement already satisfied: xxhash>=3.5.0 in /home/dmitry/PyCharmMiscProject/.venv/lib/python3.12/site-packages (from langgraph) (3.5.0)\r\n",
      "Requirement already satisfied: ormsgpack>=1.10.0 in /home/dmitry/PyCharmMiscProject/.venv/lib/python3.12/site-packages (from langgraph-checkpoint<3.0.0,>=2.1.0->langgraph) (1.10.0)\r\n",
      "Requirement already satisfied: httpx>=0.25.2 in /home/dmitry/PyCharmMiscProject/.venv/lib/python3.12/site-packages (from langgraph-sdk<0.3.0,>=0.2.2->langgraph) (0.28.1)\r\n",
      "Requirement already satisfied: orjson>=3.10.1 in /home/dmitry/PyCharmMiscProject/.venv/lib/python3.12/site-packages (from langgraph-sdk<0.3.0,>=0.2.2->langgraph) (3.11.3)\r\n",
      "Requirement already satisfied: openai<2.0.0,>=1.99.9 in /home/dmitry/PyCharmMiscProject/.venv/lib/python3.12/site-packages (from langchain_openai) (1.101.0)\r\n",
      "Requirement already satisfied: tiktoken<1,>=0.7 in /home/dmitry/PyCharmMiscProject/.venv/lib/python3.12/site-packages (from langchain_openai) (0.11.0)\r\n",
      "Requirement already satisfied: anyio<5,>=3.5.0 in /home/dmitry/PyCharmMiscProject/.venv/lib/python3.12/site-packages (from openai<2.0.0,>=1.99.9->langchain_openai) (4.10.0)\r\n",
      "Requirement already satisfied: distro<2,>=1.7.0 in /home/dmitry/PyCharmMiscProject/.venv/lib/python3.12/site-packages (from openai<2.0.0,>=1.99.9->langchain_openai) (1.9.0)\r\n",
      "Requirement already satisfied: jiter<1,>=0.4.0 in /home/dmitry/PyCharmMiscProject/.venv/lib/python3.12/site-packages (from openai<2.0.0,>=1.99.9->langchain_openai) (0.10.0)\r\n",
      "Requirement already satisfied: sniffio in /home/dmitry/PyCharmMiscProject/.venv/lib/python3.12/site-packages (from openai<2.0.0,>=1.99.9->langchain_openai) (1.3.1)\r\n",
      "Requirement already satisfied: tqdm>4 in /home/dmitry/PyCharmMiscProject/.venv/lib/python3.12/site-packages (from openai<2.0.0,>=1.99.9->langchain_openai) (4.67.1)\r\n",
      "Requirement already satisfied: httpcore==1.* in /home/dmitry/PyCharmMiscProject/.venv/lib/python3.12/site-packages (from httpx>=0.25.2->langgraph-sdk<0.3.0,>=0.2.2->langgraph) (1.0.9)\r\n",
      "Requirement already satisfied: h11>=0.16 in /home/dmitry/PyCharmMiscProject/.venv/lib/python3.12/site-packages (from httpcore==1.*->httpx>=0.25.2->langgraph-sdk<0.3.0,>=0.2.2->langgraph) (0.16.0)\r\n",
      "Requirement already satisfied: regex>=2022.1.18 in /home/dmitry/PyCharmMiscProject/.venv/lib/python3.12/site-packages (from tiktoken<1,>=0.7->langchain_openai) (2025.7.34)\r\n",
      "Requirement already satisfied: aiohttp<4.0.0,>=3.8.3 in /home/dmitry/PyCharmMiscProject/.venv/lib/python3.12/site-packages (from langchain_community) (3.12.15)\r\n",
      "Requirement already satisfied: dataclasses-json<0.7.0,>=0.6.7 in /home/dmitry/PyCharmMiscProject/.venv/lib/python3.12/site-packages (from langchain_community) (0.6.7)\r\n",
      "Requirement already satisfied: pydantic-settings<3.0.0,>=2.10.1 in /home/dmitry/PyCharmMiscProject/.venv/lib/python3.12/site-packages (from langchain_community) (2.10.1)\r\n",
      "Requirement already satisfied: httpx-sse<1.0.0,>=0.4.0 in /home/dmitry/PyCharmMiscProject/.venv/lib/python3.12/site-packages (from langchain_community) (0.4.1)\r\n",
      "Requirement already satisfied: numpy>=1.26.2 in /home/dmitry/PyCharmMiscProject/.venv/lib/python3.12/site-packages (from langchain_community) (2.2.6)\r\n",
      "Requirement already satisfied: aiohappyeyeballs>=2.5.0 in /home/dmitry/PyCharmMiscProject/.venv/lib/python3.12/site-packages (from aiohttp<4.0.0,>=3.8.3->langchain_community) (2.6.1)\r\n",
      "Requirement already satisfied: aiosignal>=1.4.0 in /home/dmitry/PyCharmMiscProject/.venv/lib/python3.12/site-packages (from aiohttp<4.0.0,>=3.8.3->langchain_community) (1.4.0)\r\n",
      "Requirement already satisfied: attrs>=17.3.0 in /home/dmitry/PyCharmMiscProject/.venv/lib/python3.12/site-packages (from aiohttp<4.0.0,>=3.8.3->langchain_community) (25.3.0)\r\n",
      "Requirement already satisfied: frozenlist>=1.1.1 in /home/dmitry/PyCharmMiscProject/.venv/lib/python3.12/site-packages (from aiohttp<4.0.0,>=3.8.3->langchain_community) (1.7.0)\r\n",
      "Requirement already satisfied: multidict<7.0,>=4.5 in /home/dmitry/PyCharmMiscProject/.venv/lib/python3.12/site-packages (from aiohttp<4.0.0,>=3.8.3->langchain_community) (6.6.4)\r\n",
      "Requirement already satisfied: propcache>=0.2.0 in /home/dmitry/PyCharmMiscProject/.venv/lib/python3.12/site-packages (from aiohttp<4.0.0,>=3.8.3->langchain_community) (0.3.2)\r\n",
      "Requirement already satisfied: yarl<2.0,>=1.17.0 in /home/dmitry/PyCharmMiscProject/.venv/lib/python3.12/site-packages (from aiohttp<4.0.0,>=3.8.3->langchain_community) (1.20.1)\r\n",
      "Requirement already satisfied: marshmallow<4.0.0,>=3.18.0 in /home/dmitry/PyCharmMiscProject/.venv/lib/python3.12/site-packages (from dataclasses-json<0.7.0,>=0.6.7->langchain_community) (3.26.1)\r\n",
      "Requirement already satisfied: typing-inspect<1,>=0.4.0 in /home/dmitry/PyCharmMiscProject/.venv/lib/python3.12/site-packages (from dataclasses-json<0.7.0,>=0.6.7->langchain_community) (0.9.0)\r\n",
      "Requirement already satisfied: requests-toolbelt>=1.0.0 in /home/dmitry/PyCharmMiscProject/.venv/lib/python3.12/site-packages (from langsmith>=0.1.17->langchain) (1.0.0)\r\n",
      "Requirement already satisfied: zstandard>=0.23.0 in /home/dmitry/PyCharmMiscProject/.venv/lib/python3.12/site-packages (from langsmith>=0.1.17->langchain) (0.24.0)\r\n",
      "Requirement already satisfied: python-dotenv>=0.21.0 in /home/dmitry/PyCharmMiscProject/.venv/lib/python3.12/site-packages (from pydantic-settings<3.0.0,>=2.10.1->langchain_community) (1.1.1)\r\n",
      "Requirement already satisfied: mypy-extensions>=0.3.0 in /home/dmitry/PyCharmMiscProject/.venv/lib/python3.12/site-packages (from typing-inspect<1,>=0.4.0->dataclasses-json<0.7.0,>=0.6.7->langchain_community) (1.1.0)\r\n",
      "Note: you may need to restart the kernel to use updated packages.\n",
      "Note: you may need to restart the kernel to use updated packages.\n"
     ]
    }
   ],
   "execution_count": 1
  },
  {
   "metadata": {},
   "cell_type": "markdown",
   "source": "Заполняем словарь документов",
   "id": "5fb65e8ee63fac7b"
  },
  {
   "metadata": {
    "ExecuteTime": {
     "end_time": "2025-09-27T12:17:16.420744Z",
     "start_time": "2025-09-27T12:17:16.416711Z"
    }
   },
   "cell_type": "code",
   "source": [
    "documents = [\n",
    "    {\n",
    "        \"id\": 166213,\n",
    "        \"title\": \"Изменить формат общего шаблона excel при скачивании файлов\",\n",
    "        \"url\": \"https://inside.notamedia.ru/company/personal/user/4658/tasks/task/view/166213/\"\n",
    "    },\n",
    "\n",
    "    {\n",
    "        \"id\": 151543,\n",
    "        \"title\": \"Реализовать страницу со списком акселераторов\",\n",
    "        \"url\": \"https://inside.notamedia.ru/company/personal/user/4658/tasks/task/view/151543/\"\n",
    "    },\n",
    "\n",
    "    {\n",
    "        \"id\": 196677,\n",
    "        \"title\": \"[Bug][Major] Доработать статусы заявок в Акселераторах\",\n",
    "        \"url\": \"https://inside.notamedia.ru/company/personal/user/4658/tasks/task/view/196677/\"\n",
    "    },\n",
    "\n",
    "    {\n",
    "        \"id\": 181744,\n",
    "        \"title\": \"Реализация группы прав \\\"Менеджер Акселератора партнер\\\"\",\n",
    "        \"url\": \"https://inside.notamedia.ru/company/personal/user/4658/tasks/task/view/181744/\"\n",
    "    },\n",
    "\n",
    "    {\n",
    "        \"id\": 190897,\n",
    "        \"title\": \"Доработка кабинета Акселератора, добавление внешних модераторов\",\n",
    "        \"url\": \"https://inside.notamedia.ru/company/personal/user/4658/tasks/task/view/190897/\"\n",
    "    },\n",
    "\n",
    "    {\n",
    "        \"id\": 184464,\n",
    "        \"title\": \"Доработка ролевой модели в Акселерации (Демо)\",\n",
    "        \"url\": \"https://inside.notamedia.ru/company/personal/user/4658/tasks/task/view/184464/\"\n",
    "    },\n",
    "\n",
    "    {\n",
    "        \"id\": 187834,\n",
    "        \"title\": \"Добавление рассылки видеозаписи прошедшего мероприятия\",\n",
    "        \"url\": \"https://inside.notamedia.ru/company/personal/user/4658/tasks/task/view/187834/\"\n",
    "    },\n",
    "]"
   ],
   "id": "c8dd3daed55c1292",
   "outputs": [],
   "execution_count": 2
  },
  {
   "metadata": {},
   "cell_type": "markdown",
   "source": "обогащаем documents текстами задач",
   "id": "8f195a297aa3f322"
  },
  {
   "metadata": {
    "ExecuteTime": {
     "end_time": "2025-09-27T12:17:18.278655Z",
     "start_time": "2025-09-27T12:17:18.272575Z"
    }
   },
   "cell_type": "code",
   "source": [
    "import os\n",
    "\n",
    "# Добавляем поле context с текстом из .md файлов\n",
    "for doc in documents:\n",
    "    file_name = f\"{doc['id']}.md\"\n",
    "    file_path = os.path.join(\"tasks\", file_name)\n",
    "\n",
    "    if os.path.exists(file_path):\n",
    "        with open(file_path, \"r\", encoding=\"utf-8\") as f:\n",
    "            doc[\"context\"] = f.read()\n",
    "    else:\n",
    "        doc[\"context\"] = \"\"\n",
    "\n",
    "    # Создаем поле search как объединение title и context\n",
    "    doc[\"search\"] = f\"{doc['title']} {doc['context']}\"\n",
    "\n"
   ],
   "id": "78e09d5ce8d375b4",
   "outputs": [],
   "execution_count": 3
  },
  {
   "metadata": {
    "ExecuteTime": {
     "end_time": "2025-09-27T12:17:19.977351Z",
     "start_time": "2025-09-27T12:17:19.965413Z"
    }
   },
   "cell_type": "code",
   "source": [
    "import pandas as pd  # если нет импорта пандаса, то остальной код не имеет смысла\n",
    "\n",
    "# создаем из наших документов датафрейм\n",
    "df = pd.DataFrame(documents)\n",
    "df.head()"
   ],
   "id": "7227ca0d5c6a76d",
   "outputs": [
    {
     "data": {
      "text/plain": [
       "       id                                              title  \\\n",
       "0  166213  Изменить формат общего шаблона excel при скачи...   \n",
       "1  151543      Реализовать страницу со списком акселераторов   \n",
       "2  196677  [Bug][Major] Доработать статусы заявок в Аксел...   \n",
       "3  181744  Реализация группы прав \"Менеджер Акселератора ...   \n",
       "4  190897  Доработка кабинета Акселератора, добавление вн...   \n",
       "\n",
       "                                                 url  \\\n",
       "0  https://inside.notamedia.ru/company/personal/u...   \n",
       "1  https://inside.notamedia.ru/company/personal/u...   \n",
       "2  https://inside.notamedia.ru/company/personal/u...   \n",
       "3  https://inside.notamedia.ru/company/personal/u...   \n",
       "4  https://inside.notamedia.ru/company/personal/u...   \n",
       "\n",
       "                                             context  \\\n",
       "0  Требуется изменить формат excel общего шаблона...   \n",
       "1  1. Необходимо сделать активной кнопку \"Акселер...   \n",
       "2  Стенд: все площадки\\n\\n1) Кейс 1\\n- Создать Ак...   \n",
       "3  Требуется реализовать новую группу прав \"Менед...   \n",
       "4  Требуется в кабинете Акселератора доработать д...   \n",
       "\n",
       "                                              search  \n",
       "0  Изменить формат общего шаблона excel при скачи...  \n",
       "1  Реализовать страницу со списком акселераторов ...  \n",
       "2  [Bug][Major] Доработать статусы заявок в Аксел...  \n",
       "3  Реализация группы прав \"Менеджер Акселератора ...  \n",
       "4  Доработка кабинета Акселератора, добавление вн...  "
      ],
      "text/html": [
       "<div>\n",
       "<style scoped>\n",
       "    .dataframe tbody tr th:only-of-type {\n",
       "        vertical-align: middle;\n",
       "    }\n",
       "\n",
       "    .dataframe tbody tr th {\n",
       "        vertical-align: top;\n",
       "    }\n",
       "\n",
       "    .dataframe thead th {\n",
       "        text-align: right;\n",
       "    }\n",
       "</style>\n",
       "<table border=\"1\" class=\"dataframe\">\n",
       "  <thead>\n",
       "    <tr style=\"text-align: right;\">\n",
       "      <th></th>\n",
       "      <th>id</th>\n",
       "      <th>title</th>\n",
       "      <th>url</th>\n",
       "      <th>context</th>\n",
       "      <th>search</th>\n",
       "    </tr>\n",
       "  </thead>\n",
       "  <tbody>\n",
       "    <tr>\n",
       "      <th>0</th>\n",
       "      <td>166213</td>\n",
       "      <td>Изменить формат общего шаблона excel при скачи...</td>\n",
       "      <td>https://inside.notamedia.ru/company/personal/u...</td>\n",
       "      <td>Требуется изменить формат excel общего шаблона...</td>\n",
       "      <td>Изменить формат общего шаблона excel при скачи...</td>\n",
       "    </tr>\n",
       "    <tr>\n",
       "      <th>1</th>\n",
       "      <td>151543</td>\n",
       "      <td>Реализовать страницу со списком акселераторов</td>\n",
       "      <td>https://inside.notamedia.ru/company/personal/u...</td>\n",
       "      <td>1. Необходимо сделать активной кнопку \"Акселер...</td>\n",
       "      <td>Реализовать страницу со списком акселераторов ...</td>\n",
       "    </tr>\n",
       "    <tr>\n",
       "      <th>2</th>\n",
       "      <td>196677</td>\n",
       "      <td>[Bug][Major] Доработать статусы заявок в Аксел...</td>\n",
       "      <td>https://inside.notamedia.ru/company/personal/u...</td>\n",
       "      <td>Стенд: все площадки\\n\\n1) Кейс 1\\n- Создать Ак...</td>\n",
       "      <td>[Bug][Major] Доработать статусы заявок в Аксел...</td>\n",
       "    </tr>\n",
       "    <tr>\n",
       "      <th>3</th>\n",
       "      <td>181744</td>\n",
       "      <td>Реализация группы прав \"Менеджер Акселератора ...</td>\n",
       "      <td>https://inside.notamedia.ru/company/personal/u...</td>\n",
       "      <td>Требуется реализовать новую группу прав \"Менед...</td>\n",
       "      <td>Реализация группы прав \"Менеджер Акселератора ...</td>\n",
       "    </tr>\n",
       "    <tr>\n",
       "      <th>4</th>\n",
       "      <td>190897</td>\n",
       "      <td>Доработка кабинета Акселератора, добавление вн...</td>\n",
       "      <td>https://inside.notamedia.ru/company/personal/u...</td>\n",
       "      <td>Требуется в кабинете Акселератора доработать д...</td>\n",
       "      <td>Доработка кабинета Акселератора, добавление вн...</td>\n",
       "    </tr>\n",
       "  </tbody>\n",
       "</table>\n",
       "</div>"
      ]
     },
     "execution_count": 4,
     "metadata": {},
     "output_type": "execute_result"
    }
   ],
   "execution_count": 4
  },
  {
   "metadata": {
    "ExecuteTime": {
     "end_time": "2025-09-27T12:17:21.812090Z",
     "start_time": "2025-09-27T12:17:21.571736Z"
    }
   },
   "cell_type": "code",
   "source": [
    "from langchain.document_loaders import DataFrameLoader\n",
    "from langchain.text_splitter import RecursiveCharacterTextSplitter\n",
    "from langchain.embeddings import OpenAIEmbeddings\n",
    "from langchain.vectorstores import FAISS\n",
    "\n",
    "loader = DataFrameLoader(df, page_content_column='search')\n",
    "documents = loader.load()\n",
    "\n",
    "print(documents)"
   ],
   "id": "1327c795d5cc7837",
   "outputs": [
    {
     "name": "stdout",
     "output_type": "stream",
     "text": [
      "[Document(metadata={'id': 166213, 'title': 'Изменить формат общего шаблона excel при скачивании файлов', 'url': 'https://inside.notamedia.ru/company/personal/user/4658/tasks/task/view/166213/', 'context': 'Требуется изменить формат excel общего шаблона при скачивании файлов. Изменить с формата \"Веб-страница\" https://pastenow.ru/GMPC8 на xls.\\n\\nОтчеты в xls в блоке Бизнес-образования https://pastenow.ru/GMPBC\\n\\nОценка: 1 р.д.'}, page_content='Изменить формат общего шаблона excel при скачивании файлов Требуется изменить формат excel общего шаблона при скачивании файлов. Изменить с формата \"Веб-страница\" https://pastenow.ru/GMPC8 на xls.\\n\\nОтчеты в xls в блоке Бизнес-образования https://pastenow.ru/GMPBC\\n\\nОценка: 1 р.д.'), Document(metadata={'id': 151543, 'title': 'Реализовать страницу со списком акселераторов', 'url': 'https://inside.notamedia.ru/company/personal/user/4658/tasks/task/view/151543/', 'context': '1. Необходимо сделать активной кнопку \"Акселерация\" в разделе Бизнес-компетенций\\n2. При переходе из раздела Акселерация -пользователь попадает на страницу списка акселераторов\\nСсылка на страницу со списком: https://www.figma.com/file/d1UJj9qDws3...D0%B0%D...\\n\\n3. Кнопка подачи заявки на акселератор с текстовой подсказкой (Отображение кнопок описано в задаче: https://inside.notamedia.ru/ex/workgro...ew/160210/)\\n\\nПоля, влияющие на отображение превью карточки акселератора (Поля описаны в задаче в блоке \"Значения свойств\"\\n]https://inside.notamedia.ru/ex/workgroups/group/3974/tasks/task/view/159946/?EVENT_TYPE=UPDATE&a...= ):\\n\\nПоле админ.панели\\n\\t\\n\\nВлияние\\n\\nАктивность\\n\\t\\n\\nОтображение карточки в списке   акселераторов\\n\\nДата начала активности\\n\\t\\n\\nНачало отображения карточки акселератора   в списке акселераторов\\n\\nДата окончания активности\\n\\t\\n\\nКонец отображения карточки акселератора   в списке акселераторов\\n\\nНазвание\\n\\t\\n\\nЗаголовок акселератора\\n\\nТекстовое описание\\n\\t\\n\\nКраткое описание - анонс\\n\\nДата старта сбора заявок\\n\\t\\n\\nПри наступлении дня начала сбора заявок,   активируется кнопка «Подать заявку», которая в дальнейшем может изменяться\\n\\nДата окончания сбора заявок\\n\\t\\n\\nДата, влияющая на подсказку рядом с   кнопкой «Подать заявку»\\n\\nПродление сбора заявок\\n\\t\\n\\nЧекбокс, активность которого означает,   что подсказка рядом с кнопкой «Подать заявку» зависит от второго поля «Дата   окончания сбора заявок»\\n\\nТакже чекбокс влияет на рассылку   уведомления о продлении периода сбора заявок\\n\\nДата окончания сбора заявок\\n\\t\\n\\nДата, влияющая на подсказку рядом с   кнопкой «Подать заявку» в случае, если активирован чекбокс «Продление сбора   заявок»\\n\\n\\nИзображение акселератора\\n\\t\\n\\nЛоготип акселератора, отображающееся в   превью карточки акселератора\\n\\n\\n\\n'}, page_content='Реализовать страницу со списком акселераторов 1. Необходимо сделать активной кнопку \"Акселерация\" в разделе Бизнес-компетенций\\n2. При переходе из раздела Акселерация -пользователь попадает на страницу списка акселераторов\\nСсылка на страницу со списком: https://www.figma.com/file/d1UJj9qDws3...D0%B0%D...\\n\\n3. Кнопка подачи заявки на акселератор с текстовой подсказкой (Отображение кнопок описано в задаче: https://inside.notamedia.ru/ex/workgro...ew/160210/)\\n\\nПоля, влияющие на отображение превью карточки акселератора (Поля описаны в задаче в блоке \"Значения свойств\"\\n]https://inside.notamedia.ru/ex/workgroups/group/3974/tasks/task/view/159946/?EVENT_TYPE=UPDATE&a...= ):\\n\\nПоле админ.панели\\n\\t\\n\\nВлияние\\n\\nАктивность\\n\\t\\n\\nОтображение карточки в списке   акселераторов\\n\\nДата начала активности\\n\\t\\n\\nНачало отображения карточки акселератора   в списке акселераторов\\n\\nДата окончания активности\\n\\t\\n\\nКонец отображения карточки акселератора   в списке акселераторов\\n\\nНазвание\\n\\t\\n\\nЗаголовок акселератора\\n\\nТекстовое описание\\n\\t\\n\\nКраткое описание - анонс\\n\\nДата старта сбора заявок\\n\\t\\n\\nПри наступлении дня начала сбора заявок,   активируется кнопка «Подать заявку», которая в дальнейшем может изменяться\\n\\nДата окончания сбора заявок\\n\\t\\n\\nДата, влияющая на подсказку рядом с   кнопкой «Подать заявку»\\n\\nПродление сбора заявок\\n\\t\\n\\nЧекбокс, активность которого означает,   что подсказка рядом с кнопкой «Подать заявку» зависит от второго поля «Дата   окончания сбора заявок»\\n\\nТакже чекбокс влияет на рассылку   уведомления о продлении периода сбора заявок\\n\\nДата окончания сбора заявок\\n\\t\\n\\nДата, влияющая на подсказку рядом с   кнопкой «Подать заявку» в случае, если активирован чекбокс «Продление сбора   заявок»\\n\\n\\nИзображение акселератора\\n\\t\\n\\nЛоготип акселератора, отображающееся в   превью карточки акселератора\\n\\n\\n\\n'), Document(metadata={'id': 196677, 'title': '[Bug][Major] Доработать статусы заявок в Акселераторах', 'url': 'https://inside.notamedia.ru/company/personal/user/4658/tasks/task/view/196677/', 'context': 'Стенд: все площадки\\n\\n1) Кейс 1\\n- Создать Акселератор\\n- Авторизоваться от пользователя с ИП/с бизнесом (на тесте можно использовать ID 2321)\\n- Перейти в раздел \"Бизнес-обучение\" -> \"Акселерация\"\\n- Подать заявку на участие в акселераторе\\n- Перевести заявку в статус \"Отклонена\" (https://test.smbn.ru/bitrix/admin/busi...ration.php)\\n\\nПроблема: пользователю в \"Мои заявки\" и в колокольчик приходят только 2 уведомления на смену статусов \"На рассмотрении\" и \"Одобрена\". В детальную карточку акселератора приходят все статусы. Требуется доработать формирование уведомлений в колокольчик и в \"Мои заявки\" на остальные статусы.\\n\\nСуществующие статусы:\\n1.1 На рассмотрении\\n1.2 Черновик\\n1.3 На доработку\\n1.4 Отклонена\\n1.5 Одобрена\\nМакет https://www.figma.com/file/u0DisVIzlix...0%B5%D0...\\n\\n2) Кейс 2:\\n- Создать Акселератор\\n- Авторизоваться от пользователя с ИП/с бизнесом (на тесте можно использовать ID 2321)\\n- Перейти в раздел \"Бизнес-обучение\" -> \"Акселерация\"\\n- Подать заявку на участие акселераторе\\n- Перевести заявку в статус \"На доработку\" (https://test.smbn.ru/bitrix/admin/busi...ration.php)\\n- Перейти в раздел \"Бизнес-обучение\" -> \"Акселерация\" -> Детальная карточка акселератора\\n- В детальной карточке акселератора статус заявки изменился на \"Заявка возвращена на доработку\"  \\n\\nПроблема: в детальной карточке акселератора, в публичке, при наведении на кнопку \"Заявка возвращена на доработку\", не меняется курсор (видео \"Статус НА ДОРАБОТКУ.mp4\")'}, page_content='[Bug][Major] Доработать статусы заявок в Акселераторах Стенд: все площадки\\n\\n1) Кейс 1\\n- Создать Акселератор\\n- Авторизоваться от пользователя с ИП/с бизнесом (на тесте можно использовать ID 2321)\\n- Перейти в раздел \"Бизнес-обучение\" -> \"Акселерация\"\\n- Подать заявку на участие в акселераторе\\n- Перевести заявку в статус \"Отклонена\" (https://test.smbn.ru/bitrix/admin/busi...ration.php)\\n\\nПроблема: пользователю в \"Мои заявки\" и в колокольчик приходят только 2 уведомления на смену статусов \"На рассмотрении\" и \"Одобрена\". В детальную карточку акселератора приходят все статусы. Требуется доработать формирование уведомлений в колокольчик и в \"Мои заявки\" на остальные статусы.\\n\\nСуществующие статусы:\\n1.1 На рассмотрении\\n1.2 Черновик\\n1.3 На доработку\\n1.4 Отклонена\\n1.5 Одобрена\\nМакет https://www.figma.com/file/u0DisVIzlix...0%B5%D0...\\n\\n2) Кейс 2:\\n- Создать Акселератор\\n- Авторизоваться от пользователя с ИП/с бизнесом (на тесте можно использовать ID 2321)\\n- Перейти в раздел \"Бизнес-обучение\" -> \"Акселерация\"\\n- Подать заявку на участие акселераторе\\n- Перевести заявку в статус \"На доработку\" (https://test.smbn.ru/bitrix/admin/busi...ration.php)\\n- Перейти в раздел \"Бизнес-обучение\" -> \"Акселерация\" -> Детальная карточка акселератора\\n- В детальной карточке акселератора статус заявки изменился на \"Заявка возвращена на доработку\"  \\n\\nПроблема: в детальной карточке акселератора, в публичке, при наведении на кнопку \"Заявка возвращена на доработку\", не меняется курсор (видео \"Статус НА ДОРАБОТКУ.mp4\")'), Document(metadata={'id': 181744, 'title': 'Реализация группы прав \"Менеджер Акселератора партнер\"', 'url': 'https://inside.notamedia.ru/company/personal/user/4658/tasks/task/view/181744/', 'context': 'Требуется реализовать новую группу прав \"Менеджер Акселератора партнер\"\\n\\nДоступы к вкладкам («Сервисы»- «Бизнес-обучение»):\\n\\n1. Отчеты по Акселерации (только назначенные Акселераторы).\\n\\nДоступные возможности:\\n\\n    Просмотр и выгрузка отчетов (Отчет по посещению, Трекшн-карты по всем командам).   \\n\\nСсылка на вкладку: https://test.smbn.ru/bitrix/admin/busi...eports.php\\n\\n\\n2. Кабинет Акселератора ( только назначенные Акселераторы).\\n\\nДоступные возможности:\\n\\n    Просмотр в публичной части кабинета Акселератора (кнопка \"Просмотр\");\\n\\n    Дополнение от 19.01. Редактировать вкладок в кабинете Акселератора “Программа Преакселератора” и “Программа Акселератора”\\n\\nСсылка на вкладку:  https://test.smbn.ru/bitrix/admin/busi...abinet.php  \\n\\n\\n3. Кабинет Трекера (только назначенные Акселераторы).\\n\\nДоступные возможности:\\n\\n    Просмотр в публичной части кабинета Трекера (данные по всем командам).\\n\\nСсылка на вкладку:  https://test.smbn.ru/bitrix/admin/busi...ackers.php\\n\\n\\n4. Участники Акселерации (только назначенные Акселераторы).\\n\\nДоступные возможности:\\n\\n    Просмотр участников и их статусов.   \\n\\nСсылка на вкладку:  https://test.smbn.ru/bitrix/admin/busi...ipants.php\\n\\nОписание назначения прав:  \\n\\n1. Назначение прав пользователю производится в админ панели. В случае, если нет назначенных Акселераторов для пользователя с данной ролью,  все вкладки пустые;\\n\\n2. Администратору доступно прикрепление «Менеджер Акселератора партнер» в карточку Акселератора, требуется создать поле «Менеджер Акселератора партнер» (расположить после поля «Менеджер Акселератора внешний»). Добавить возможно нескольких внешних партнеров Акселератора к одному элементу;\\n\\n3. При добавлении пользователя в поле «Менеджер Акселератора партнер» открывается список пользователей которые состоят в данной группе.\\n\\nСсылка на матрицу ролевую: https://docs.google.com/spreadsheets/d...1068701...\\n\\nДополнение от 19.01.\\nУдаление любых элементов на доступных вкладках пользователю с группой прав «Менеджер Акселератора партнер» недоступно.'}, page_content='Реализация группы прав \"Менеджер Акселератора партнер\" Требуется реализовать новую группу прав \"Менеджер Акселератора партнер\"\\n\\nДоступы к вкладкам («Сервисы»- «Бизнес-обучение»):\\n\\n1. Отчеты по Акселерации (только назначенные Акселераторы).\\n\\nДоступные возможности:\\n\\n    Просмотр и выгрузка отчетов (Отчет по посещению, Трекшн-карты по всем командам).   \\n\\nСсылка на вкладку: https://test.smbn.ru/bitrix/admin/busi...eports.php\\n\\n\\n2. Кабинет Акселератора ( только назначенные Акселераторы).\\n\\nДоступные возможности:\\n\\n    Просмотр в публичной части кабинета Акселератора (кнопка \"Просмотр\");\\n\\n    Дополнение от 19.01. Редактировать вкладок в кабинете Акселератора “Программа Преакселератора” и “Программа Акселератора”\\n\\nСсылка на вкладку:  https://test.smbn.ru/bitrix/admin/busi...abinet.php  \\n\\n\\n3. Кабинет Трекера (только назначенные Акселераторы).\\n\\nДоступные возможности:\\n\\n    Просмотр в публичной части кабинета Трекера (данные по всем командам).\\n\\nСсылка на вкладку:  https://test.smbn.ru/bitrix/admin/busi...ackers.php\\n\\n\\n4. Участники Акселерации (только назначенные Акселераторы).\\n\\nДоступные возможности:\\n\\n    Просмотр участников и их статусов.   \\n\\nСсылка на вкладку:  https://test.smbn.ru/bitrix/admin/busi...ipants.php\\n\\nОписание назначения прав:  \\n\\n1. Назначение прав пользователю производится в админ панели. В случае, если нет назначенных Акселераторов для пользователя с данной ролью,  все вкладки пустые;\\n\\n2. Администратору доступно прикрепление «Менеджер Акселератора партнер» в карточку Акселератора, требуется создать поле «Менеджер Акселератора партнер» (расположить после поля «Менеджер Акселератора внешний»). Добавить возможно нескольких внешних партнеров Акселератора к одному элементу;\\n\\n3. При добавлении пользователя в поле «Менеджер Акселератора партнер» открывается список пользователей которые состоят в данной группе.\\n\\nСсылка на матрицу ролевую: https://docs.google.com/spreadsheets/d...1068701...\\n\\nДополнение от 19.01.\\nУдаление любых элементов на доступных вкладках пользователю с группой прав «Менеджер Акселератора партнер» недоступно.'), Document(metadata={'id': 190897, 'title': 'Доработка кабинета Акселератора, добавление внешних модераторов', 'url': 'https://inside.notamedia.ru/company/personal/user/4658/tasks/task/view/190897/', 'context': 'Требуется в кабинете Акселератора доработать добавление внешних модераторов.\\nПри создании мероприятия в поле \"Модератор мероприятий внешний\" https://pastenow.ru/ME4M0 поставить ограничение на группу прав.\\nДобавление доступно только пользователей из группы \"Модератор мероприятий внешний\", а не всех пользователей ЦП.  '}, page_content='Доработка кабинета Акселератора, добавление внешних модераторов Требуется в кабинете Акселератора доработать добавление внешних модераторов.\\nПри создании мероприятия в поле \"Модератор мероприятий внешний\" https://pastenow.ru/ME4M0 поставить ограничение на группу прав.\\nДобавление доступно только пользователей из группы \"Модератор мероприятий внешний\", а не всех пользователей ЦП.  '), Document(metadata={'id': 184464, 'title': 'Доработка ролевой модели в Акселерации (Демо)', 'url': 'https://inside.notamedia.ru/company/personal/user/4658/tasks/task/view/184464/', 'context': 'Требуется доработать подачу заявок от сотрудник бизнеса в разделе Акселерации.\\n\\nАкселератор: Новый акселератор 2 2 2 роль\\n\\nВладелец: Басов В (ид 1488) ИП БАсов и ООО \"Ромашка\"\\n\\nСотрудник: Мигина Мария (ид 1518)\\n\\nКейс 1. Сотруднику назначены права на сохранение заявок в Акселерации по двум бизнесам, ИП БАсов и ООО \"Ромашка\". В шапке сотрудника бизнесы отображаются корректно, но при нажатии на кнопку \"Подать заявку\" в модальном окне \"Выберете, от кого подать заявку\" выводится только один бизнес, скрин: https://pastenow.ru/KQNY6\\n\\nТребуется доработка, должен выводится бизнес что указан в шапке сотрудника. В данном случае два бизнеса в модальное окно \"Выберете, от кого подать заявку\".\\n\\nКейс 2. Сотруднику назначены права на сохранение заявок в Акселерации по одному бизнесу ООО \"Ромашка\", в шапке сотрудника бизнес отображаются корректно, но при нажатии на кнопку \"Подать заявку\" в модальном окне \"Выберете, от кого подать заявку\" выводится только один бизнес и не тот - \"ИП Басов\", скрин:   https://pastenow.ru/KQNYL\\n\\nТребуется доработка, должен выводится бизнес что указан в шапке сотрудника. '}, page_content='Доработка ролевой модели в Акселерации (Демо) Требуется доработать подачу заявок от сотрудник бизнеса в разделе Акселерации.\\n\\nАкселератор: Новый акселератор 2 2 2 роль\\n\\nВладелец: Басов В (ид 1488) ИП БАсов и ООО \"Ромашка\"\\n\\nСотрудник: Мигина Мария (ид 1518)\\n\\nКейс 1. Сотруднику назначены права на сохранение заявок в Акселерации по двум бизнесам, ИП БАсов и ООО \"Ромашка\". В шапке сотрудника бизнесы отображаются корректно, но при нажатии на кнопку \"Подать заявку\" в модальном окне \"Выберете, от кого подать заявку\" выводится только один бизнес, скрин: https://pastenow.ru/KQNY6\\n\\nТребуется доработка, должен выводится бизнес что указан в шапке сотрудника. В данном случае два бизнеса в модальное окно \"Выберете, от кого подать заявку\".\\n\\nКейс 2. Сотруднику назначены права на сохранение заявок в Акселерации по одному бизнесу ООО \"Ромашка\", в шапке сотрудника бизнес отображаются корректно, но при нажатии на кнопку \"Подать заявку\" в модальном окне \"Выберете, от кого подать заявку\" выводится только один бизнес и не тот - \"ИП Басов\", скрин:   https://pastenow.ru/KQNYL\\n\\nТребуется доработка, должен выводится бизнес что указан в шапке сотрудника. '), Document(metadata={'id': 187834, 'title': 'Добавление рассылки видеозаписи прошедшего мероприятия', 'url': 'https://inside.notamedia.ru/company/personal/user/4658/tasks/task/view/187834/', 'context': 'Требуется добавить элемент по управлению рассылками видеозаписи прошедшего мероприятия\\n\\n1. В карточку мероприятия добавить возможность прикрепление обработанной видеозаписи (смонтированной) и записи после мероприятия (автоматическая запись трансляции)\\nДоработать карточку мероприятия, добавить:\\n1. 1. Чек-бокс \"Добавить видеозапись после завершения мероприятия (автоматическая запись трансляции)\";\\n1. 2. Поле \"Добавить видеозапись после завершения мероприятия (Обработанная видеозапись)\"\\nСтандартное поле для загрузки видео (как в акселераторе и видеолекциях), добавление через загрузку с ПК или медиабиблиотеку\\nСнимок экрана 2023-02-11 в 16.57.29.png\\n\\n\\n1. 3. Новые поля разместить после поля: Количество зарегистрированных пользователей: 1\\n\\n2. Добавить вывод на фронт\\n2. 1. Добавить вывод загруженного видео на карточку мероприятия.\\n- Плеер взять стандартный из видеолекций;\\n- После нажатия на кнопку \"Перейти в мероприятия\" пользователя переходит в раздел мероприятия.\\nДизайн-макет: https://www.figma.com/file/GZjgrV7sC76...1%80%D0...\\n3. Добавить уведомление:\\n3.1. Добавить уведомление о записи прошедшего мероприятия\\n- Триггер: Администратор загрузил видеозапись мероприятия или она добавлена автоматически\\n- Уведомления отправляются в колокольчик и на эл.почту:\\nhttps://www.figma.com/file/GZjgrV7sC76...1%80%D0...-'}, page_content='Добавление рассылки видеозаписи прошедшего мероприятия Требуется добавить элемент по управлению рассылками видеозаписи прошедшего мероприятия\\n\\n1. В карточку мероприятия добавить возможность прикрепление обработанной видеозаписи (смонтированной) и записи после мероприятия (автоматическая запись трансляции)\\nДоработать карточку мероприятия, добавить:\\n1. 1. Чек-бокс \"Добавить видеозапись после завершения мероприятия (автоматическая запись трансляции)\";\\n1. 2. Поле \"Добавить видеозапись после завершения мероприятия (Обработанная видеозапись)\"\\nСтандартное поле для загрузки видео (как в акселераторе и видеолекциях), добавление через загрузку с ПК или медиабиблиотеку\\nСнимок экрана 2023-02-11 в 16.57.29.png\\n\\n\\n1. 3. Новые поля разместить после поля: Количество зарегистрированных пользователей: 1\\n\\n2. Добавить вывод на фронт\\n2. 1. Добавить вывод загруженного видео на карточку мероприятия.\\n- Плеер взять стандартный из видеолекций;\\n- После нажатия на кнопку \"Перейти в мероприятия\" пользователя переходит в раздел мероприятия.\\nДизайн-макет: https://www.figma.com/file/GZjgrV7sC76...1%80%D0...\\n3. Добавить уведомление:\\n3.1. Добавить уведомление о записи прошедшего мероприятия\\n- Триггер: Администратор загрузил видеозапись мероприятия или она добавлена автоматически\\n- Уведомления отправляются в колокольчик и на эл.почту:\\nhttps://www.figma.com/file/GZjgrV7sC76...1%80%D0...-')]\n"
     ]
    }
   ],
   "execution_count": 5
  },
  {
   "metadata": {
    "ExecuteTime": {
     "end_time": "2025-09-27T12:17:23.466160Z",
     "start_time": "2025-09-27T12:17:23.462860Z"
    }
   },
   "cell_type": "code",
   "source": [
    "# # создаем сплиттер документов, чтобы уложиться в лимит по токенам, в нашем случае это не очень полезный шаг\n",
    "\n",
    "text_splitter = RecursiveCharacterTextSplitter(chunk_size=1000, chunk_overlap=0)\n",
    "texts = text_splitter.split_documents(documents)\n",
    "\n",
    "print(texts)"
   ],
   "id": "a6fd5d58d8b54567",
   "outputs": [
    {
     "name": "stdout",
     "output_type": "stream",
     "text": [
      "[Document(metadata={'id': 166213, 'title': 'Изменить формат общего шаблона excel при скачивании файлов', 'url': 'https://inside.notamedia.ru/company/personal/user/4658/tasks/task/view/166213/', 'context': 'Требуется изменить формат excel общего шаблона при скачивании файлов. Изменить с формата \"Веб-страница\" https://pastenow.ru/GMPC8 на xls.\\n\\nОтчеты в xls в блоке Бизнес-образования https://pastenow.ru/GMPBC\\n\\nОценка: 1 р.д.'}, page_content='Изменить формат общего шаблона excel при скачивании файлов Требуется изменить формат excel общего шаблона при скачивании файлов. Изменить с формата \"Веб-страница\" https://pastenow.ru/GMPC8 на xls.\\n\\nОтчеты в xls в блоке Бизнес-образования https://pastenow.ru/GMPBC\\n\\nОценка: 1 р.д.'), Document(metadata={'id': 151543, 'title': 'Реализовать страницу со списком акселераторов', 'url': 'https://inside.notamedia.ru/company/personal/user/4658/tasks/task/view/151543/', 'context': '1. Необходимо сделать активной кнопку \"Акселерация\" в разделе Бизнес-компетенций\\n2. При переходе из раздела Акселерация -пользователь попадает на страницу списка акселераторов\\nСсылка на страницу со списком: https://www.figma.com/file/d1UJj9qDws3...D0%B0%D...\\n\\n3. Кнопка подачи заявки на акселератор с текстовой подсказкой (Отображение кнопок описано в задаче: https://inside.notamedia.ru/ex/workgro...ew/160210/)\\n\\nПоля, влияющие на отображение превью карточки акселератора (Поля описаны в задаче в блоке \"Значения свойств\"\\n]https://inside.notamedia.ru/ex/workgroups/group/3974/tasks/task/view/159946/?EVENT_TYPE=UPDATE&a...= ):\\n\\nПоле админ.панели\\n\\t\\n\\nВлияние\\n\\nАктивность\\n\\t\\n\\nОтображение карточки в списке   акселераторов\\n\\nДата начала активности\\n\\t\\n\\nНачало отображения карточки акселератора   в списке акселераторов\\n\\nДата окончания активности\\n\\t\\n\\nКонец отображения карточки акселератора   в списке акселераторов\\n\\nНазвание\\n\\t\\n\\nЗаголовок акселератора\\n\\nТекстовое описание\\n\\t\\n\\nКраткое описание - анонс\\n\\nДата старта сбора заявок\\n\\t\\n\\nПри наступлении дня начала сбора заявок,   активируется кнопка «Подать заявку», которая в дальнейшем может изменяться\\n\\nДата окончания сбора заявок\\n\\t\\n\\nДата, влияющая на подсказку рядом с   кнопкой «Подать заявку»\\n\\nПродление сбора заявок\\n\\t\\n\\nЧекбокс, активность которого означает,   что подсказка рядом с кнопкой «Подать заявку» зависит от второго поля «Дата   окончания сбора заявок»\\n\\nТакже чекбокс влияет на рассылку   уведомления о продлении периода сбора заявок\\n\\nДата окончания сбора заявок\\n\\t\\n\\nДата, влияющая на подсказку рядом с   кнопкой «Подать заявку» в случае, если активирован чекбокс «Продление сбора   заявок»\\n\\n\\nИзображение акселератора\\n\\t\\n\\nЛоготип акселератора, отображающееся в   превью карточки акселератора\\n\\n\\n\\n'}, page_content='Реализовать страницу со списком акселераторов 1. Необходимо сделать активной кнопку \"Акселерация\" в разделе Бизнес-компетенций\\n2. При переходе из раздела Акселерация -пользователь попадает на страницу списка акселераторов\\nСсылка на страницу со списком: https://www.figma.com/file/d1UJj9qDws3...D0%B0%D...\\n\\n3. Кнопка подачи заявки на акселератор с текстовой подсказкой (Отображение кнопок описано в задаче: https://inside.notamedia.ru/ex/workgro...ew/160210/)\\n\\nПоля, влияющие на отображение превью карточки акселератора (Поля описаны в задаче в блоке \"Значения свойств\"\\n]https://inside.notamedia.ru/ex/workgroups/group/3974/tasks/task/view/159946/?EVENT_TYPE=UPDATE&a...= ):\\n\\nПоле админ.панели\\n\\t\\n\\nВлияние\\n\\nАктивность\\n\\t\\n\\nОтображение карточки в списке   акселераторов\\n\\nДата начала активности\\n\\t\\n\\nНачало отображения карточки акселератора   в списке акселераторов\\n\\nДата окончания активности\\n\\t\\n\\nКонец отображения карточки акселератора   в списке акселераторов\\n\\nНазвание\\n\\t\\n\\nЗаголовок акселератора'), Document(metadata={'id': 151543, 'title': 'Реализовать страницу со списком акселераторов', 'url': 'https://inside.notamedia.ru/company/personal/user/4658/tasks/task/view/151543/', 'context': '1. Необходимо сделать активной кнопку \"Акселерация\" в разделе Бизнес-компетенций\\n2. При переходе из раздела Акселерация -пользователь попадает на страницу списка акселераторов\\nСсылка на страницу со списком: https://www.figma.com/file/d1UJj9qDws3...D0%B0%D...\\n\\n3. Кнопка подачи заявки на акселератор с текстовой подсказкой (Отображение кнопок описано в задаче: https://inside.notamedia.ru/ex/workgro...ew/160210/)\\n\\nПоля, влияющие на отображение превью карточки акселератора (Поля описаны в задаче в блоке \"Значения свойств\"\\n]https://inside.notamedia.ru/ex/workgroups/group/3974/tasks/task/view/159946/?EVENT_TYPE=UPDATE&a...= ):\\n\\nПоле админ.панели\\n\\t\\n\\nВлияние\\n\\nАктивность\\n\\t\\n\\nОтображение карточки в списке   акселераторов\\n\\nДата начала активности\\n\\t\\n\\nНачало отображения карточки акселератора   в списке акселераторов\\n\\nДата окончания активности\\n\\t\\n\\nКонец отображения карточки акселератора   в списке акселераторов\\n\\nНазвание\\n\\t\\n\\nЗаголовок акселератора\\n\\nТекстовое описание\\n\\t\\n\\nКраткое описание - анонс\\n\\nДата старта сбора заявок\\n\\t\\n\\nПри наступлении дня начала сбора заявок,   активируется кнопка «Подать заявку», которая в дальнейшем может изменяться\\n\\nДата окончания сбора заявок\\n\\t\\n\\nДата, влияющая на подсказку рядом с   кнопкой «Подать заявку»\\n\\nПродление сбора заявок\\n\\t\\n\\nЧекбокс, активность которого означает,   что подсказка рядом с кнопкой «Подать заявку» зависит от второго поля «Дата   окончания сбора заявок»\\n\\nТакже чекбокс влияет на рассылку   уведомления о продлении периода сбора заявок\\n\\nДата окончания сбора заявок\\n\\t\\n\\nДата, влияющая на подсказку рядом с   кнопкой «Подать заявку» в случае, если активирован чекбокс «Продление сбора   заявок»\\n\\n\\nИзображение акселератора\\n\\t\\n\\nЛоготип акселератора, отображающееся в   превью карточки акселератора\\n\\n\\n\\n'}, page_content='Текстовое описание\\n\\t\\n\\nКраткое описание - анонс\\n\\nДата старта сбора заявок\\n\\t\\n\\nПри наступлении дня начала сбора заявок,   активируется кнопка «Подать заявку», которая в дальнейшем может изменяться\\n\\nДата окончания сбора заявок\\n\\t\\n\\nДата, влияющая на подсказку рядом с   кнопкой «Подать заявку»\\n\\nПродление сбора заявок\\n\\t\\n\\nЧекбокс, активность которого означает,   что подсказка рядом с кнопкой «Подать заявку» зависит от второго поля «Дата   окончания сбора заявок»\\n\\nТакже чекбокс влияет на рассылку   уведомления о продлении периода сбора заявок\\n\\nДата окончания сбора заявок\\n\\t\\n\\nДата, влияющая на подсказку рядом с   кнопкой «Подать заявку» в случае, если активирован чекбокс «Продление сбора   заявок»\\n\\n\\nИзображение акселератора\\n\\t\\n\\nЛоготип акселератора, отображающееся в   превью карточки акселератора'), Document(metadata={'id': 196677, 'title': '[Bug][Major] Доработать статусы заявок в Акселераторах', 'url': 'https://inside.notamedia.ru/company/personal/user/4658/tasks/task/view/196677/', 'context': 'Стенд: все площадки\\n\\n1) Кейс 1\\n- Создать Акселератор\\n- Авторизоваться от пользователя с ИП/с бизнесом (на тесте можно использовать ID 2321)\\n- Перейти в раздел \"Бизнес-обучение\" -> \"Акселерация\"\\n- Подать заявку на участие в акселераторе\\n- Перевести заявку в статус \"Отклонена\" (https://test.smbn.ru/bitrix/admin/busi...ration.php)\\n\\nПроблема: пользователю в \"Мои заявки\" и в колокольчик приходят только 2 уведомления на смену статусов \"На рассмотрении\" и \"Одобрена\". В детальную карточку акселератора приходят все статусы. Требуется доработать формирование уведомлений в колокольчик и в \"Мои заявки\" на остальные статусы.\\n\\nСуществующие статусы:\\n1.1 На рассмотрении\\n1.2 Черновик\\n1.3 На доработку\\n1.4 Отклонена\\n1.5 Одобрена\\nМакет https://www.figma.com/file/u0DisVIzlix...0%B5%D0...\\n\\n2) Кейс 2:\\n- Создать Акселератор\\n- Авторизоваться от пользователя с ИП/с бизнесом (на тесте можно использовать ID 2321)\\n- Перейти в раздел \"Бизнес-обучение\" -> \"Акселерация\"\\n- Подать заявку на участие акселераторе\\n- Перевести заявку в статус \"На доработку\" (https://test.smbn.ru/bitrix/admin/busi...ration.php)\\n- Перейти в раздел \"Бизнес-обучение\" -> \"Акселерация\" -> Детальная карточка акселератора\\n- В детальной карточке акселератора статус заявки изменился на \"Заявка возвращена на доработку\"  \\n\\nПроблема: в детальной карточке акселератора, в публичке, при наведении на кнопку \"Заявка возвращена на доработку\", не меняется курсор (видео \"Статус НА ДОРАБОТКУ.mp4\")'}, page_content='[Bug][Major] Доработать статусы заявок в Акселераторах Стенд: все площадки\\n\\n1) Кейс 1\\n- Создать Акселератор\\n- Авторизоваться от пользователя с ИП/с бизнесом (на тесте можно использовать ID 2321)\\n- Перейти в раздел \"Бизнес-обучение\" -> \"Акселерация\"\\n- Подать заявку на участие в акселераторе\\n- Перевести заявку в статус \"Отклонена\" (https://test.smbn.ru/bitrix/admin/busi...ration.php)\\n\\nПроблема: пользователю в \"Мои заявки\" и в колокольчик приходят только 2 уведомления на смену статусов \"На рассмотрении\" и \"Одобрена\". В детальную карточку акселератора приходят все статусы. Требуется доработать формирование уведомлений в колокольчик и в \"Мои заявки\" на остальные статусы.\\n\\nСуществующие статусы:\\n1.1 На рассмотрении\\n1.2 Черновик\\n1.3 На доработку\\n1.4 Отклонена\\n1.5 Одобрена\\nМакет https://www.figma.com/file/u0DisVIzlix...0%B5%D0...'), Document(metadata={'id': 196677, 'title': '[Bug][Major] Доработать статусы заявок в Акселераторах', 'url': 'https://inside.notamedia.ru/company/personal/user/4658/tasks/task/view/196677/', 'context': 'Стенд: все площадки\\n\\n1) Кейс 1\\n- Создать Акселератор\\n- Авторизоваться от пользователя с ИП/с бизнесом (на тесте можно использовать ID 2321)\\n- Перейти в раздел \"Бизнес-обучение\" -> \"Акселерация\"\\n- Подать заявку на участие в акселераторе\\n- Перевести заявку в статус \"Отклонена\" (https://test.smbn.ru/bitrix/admin/busi...ration.php)\\n\\nПроблема: пользователю в \"Мои заявки\" и в колокольчик приходят только 2 уведомления на смену статусов \"На рассмотрении\" и \"Одобрена\". В детальную карточку акселератора приходят все статусы. Требуется доработать формирование уведомлений в колокольчик и в \"Мои заявки\" на остальные статусы.\\n\\nСуществующие статусы:\\n1.1 На рассмотрении\\n1.2 Черновик\\n1.3 На доработку\\n1.4 Отклонена\\n1.5 Одобрена\\nМакет https://www.figma.com/file/u0DisVIzlix...0%B5%D0...\\n\\n2) Кейс 2:\\n- Создать Акселератор\\n- Авторизоваться от пользователя с ИП/с бизнесом (на тесте можно использовать ID 2321)\\n- Перейти в раздел \"Бизнес-обучение\" -> \"Акселерация\"\\n- Подать заявку на участие акселераторе\\n- Перевести заявку в статус \"На доработку\" (https://test.smbn.ru/bitrix/admin/busi...ration.php)\\n- Перейти в раздел \"Бизнес-обучение\" -> \"Акселерация\" -> Детальная карточка акселератора\\n- В детальной карточке акселератора статус заявки изменился на \"Заявка возвращена на доработку\"  \\n\\nПроблема: в детальной карточке акселератора, в публичке, при наведении на кнопку \"Заявка возвращена на доработку\", не меняется курсор (видео \"Статус НА ДОРАБОТКУ.mp4\")'}, page_content='2) Кейс 2:\\n- Создать Акселератор\\n- Авторизоваться от пользователя с ИП/с бизнесом (на тесте можно использовать ID 2321)\\n- Перейти в раздел \"Бизнес-обучение\" -> \"Акселерация\"\\n- Подать заявку на участие акселераторе\\n- Перевести заявку в статус \"На доработку\" (https://test.smbn.ru/bitrix/admin/busi...ration.php)\\n- Перейти в раздел \"Бизнес-обучение\" -> \"Акселерация\" -> Детальная карточка акселератора\\n- В детальной карточке акселератора статус заявки изменился на \"Заявка возвращена на доработку\"  \\n\\nПроблема: в детальной карточке акселератора, в публичке, при наведении на кнопку \"Заявка возвращена на доработку\", не меняется курсор (видео \"Статус НА ДОРАБОТКУ.mp4\")'), Document(metadata={'id': 181744, 'title': 'Реализация группы прав \"Менеджер Акселератора партнер\"', 'url': 'https://inside.notamedia.ru/company/personal/user/4658/tasks/task/view/181744/', 'context': 'Требуется реализовать новую группу прав \"Менеджер Акселератора партнер\"\\n\\nДоступы к вкладкам («Сервисы»- «Бизнес-обучение»):\\n\\n1. Отчеты по Акселерации (только назначенные Акселераторы).\\n\\nДоступные возможности:\\n\\n    Просмотр и выгрузка отчетов (Отчет по посещению, Трекшн-карты по всем командам).   \\n\\nСсылка на вкладку: https://test.smbn.ru/bitrix/admin/busi...eports.php\\n\\n\\n2. Кабинет Акселератора ( только назначенные Акселераторы).\\n\\nДоступные возможности:\\n\\n    Просмотр в публичной части кабинета Акселератора (кнопка \"Просмотр\");\\n\\n    Дополнение от 19.01. Редактировать вкладок в кабинете Акселератора “Программа Преакселератора” и “Программа Акселератора”\\n\\nСсылка на вкладку:  https://test.smbn.ru/bitrix/admin/busi...abinet.php  \\n\\n\\n3. Кабинет Трекера (только назначенные Акселераторы).\\n\\nДоступные возможности:\\n\\n    Просмотр в публичной части кабинета Трекера (данные по всем командам).\\n\\nСсылка на вкладку:  https://test.smbn.ru/bitrix/admin/busi...ackers.php\\n\\n\\n4. Участники Акселерации (только назначенные Акселераторы).\\n\\nДоступные возможности:\\n\\n    Просмотр участников и их статусов.   \\n\\nСсылка на вкладку:  https://test.smbn.ru/bitrix/admin/busi...ipants.php\\n\\nОписание назначения прав:  \\n\\n1. Назначение прав пользователю производится в админ панели. В случае, если нет назначенных Акселераторов для пользователя с данной ролью,  все вкладки пустые;\\n\\n2. Администратору доступно прикрепление «Менеджер Акселератора партнер» в карточку Акселератора, требуется создать поле «Менеджер Акселератора партнер» (расположить после поля «Менеджер Акселератора внешний»). Добавить возможно нескольких внешних партнеров Акселератора к одному элементу;\\n\\n3. При добавлении пользователя в поле «Менеджер Акселератора партнер» открывается список пользователей которые состоят в данной группе.\\n\\nСсылка на матрицу ролевую: https://docs.google.com/spreadsheets/d...1068701...\\n\\nДополнение от 19.01.\\nУдаление любых элементов на доступных вкладках пользователю с группой прав «Менеджер Акселератора партнер» недоступно.'}, page_content='Реализация группы прав \"Менеджер Акселератора партнер\" Требуется реализовать новую группу прав \"Менеджер Акселератора партнер\"\\n\\nДоступы к вкладкам («Сервисы»- «Бизнес-обучение»):\\n\\n1. Отчеты по Акселерации (только назначенные Акселераторы).\\n\\nДоступные возможности:\\n\\n    Просмотр и выгрузка отчетов (Отчет по посещению, Трекшн-карты по всем командам).   \\n\\nСсылка на вкладку: https://test.smbn.ru/bitrix/admin/busi...eports.php\\n\\n\\n2. Кабинет Акселератора ( только назначенные Акселераторы).\\n\\nДоступные возможности:\\n\\n    Просмотр в публичной части кабинета Акселератора (кнопка \"Просмотр\");\\n\\n    Дополнение от 19.01. Редактировать вкладок в кабинете Акселератора “Программа Преакселератора” и “Программа Акселератора”\\n\\nСсылка на вкладку:  https://test.smbn.ru/bitrix/admin/busi...abinet.php  \\n\\n\\n3. Кабинет Трекера (только назначенные Акселераторы).\\n\\nДоступные возможности:\\n\\n    Просмотр в публичной части кабинета Трекера (данные по всем командам).'), Document(metadata={'id': 181744, 'title': 'Реализация группы прав \"Менеджер Акселератора партнер\"', 'url': 'https://inside.notamedia.ru/company/personal/user/4658/tasks/task/view/181744/', 'context': 'Требуется реализовать новую группу прав \"Менеджер Акселератора партнер\"\\n\\nДоступы к вкладкам («Сервисы»- «Бизнес-обучение»):\\n\\n1. Отчеты по Акселерации (только назначенные Акселераторы).\\n\\nДоступные возможности:\\n\\n    Просмотр и выгрузка отчетов (Отчет по посещению, Трекшн-карты по всем командам).   \\n\\nСсылка на вкладку: https://test.smbn.ru/bitrix/admin/busi...eports.php\\n\\n\\n2. Кабинет Акселератора ( только назначенные Акселераторы).\\n\\nДоступные возможности:\\n\\n    Просмотр в публичной части кабинета Акселератора (кнопка \"Просмотр\");\\n\\n    Дополнение от 19.01. Редактировать вкладок в кабинете Акселератора “Программа Преакселератора” и “Программа Акселератора”\\n\\nСсылка на вкладку:  https://test.smbn.ru/bitrix/admin/busi...abinet.php  \\n\\n\\n3. Кабинет Трекера (только назначенные Акселераторы).\\n\\nДоступные возможности:\\n\\n    Просмотр в публичной части кабинета Трекера (данные по всем командам).\\n\\nСсылка на вкладку:  https://test.smbn.ru/bitrix/admin/busi...ackers.php\\n\\n\\n4. Участники Акселерации (только назначенные Акселераторы).\\n\\nДоступные возможности:\\n\\n    Просмотр участников и их статусов.   \\n\\nСсылка на вкладку:  https://test.smbn.ru/bitrix/admin/busi...ipants.php\\n\\nОписание назначения прав:  \\n\\n1. Назначение прав пользователю производится в админ панели. В случае, если нет назначенных Акселераторов для пользователя с данной ролью,  все вкладки пустые;\\n\\n2. Администратору доступно прикрепление «Менеджер Акселератора партнер» в карточку Акселератора, требуется создать поле «Менеджер Акселератора партнер» (расположить после поля «Менеджер Акселератора внешний»). Добавить возможно нескольких внешних партнеров Акселератора к одному элементу;\\n\\n3. При добавлении пользователя в поле «Менеджер Акселератора партнер» открывается список пользователей которые состоят в данной группе.\\n\\nСсылка на матрицу ролевую: https://docs.google.com/spreadsheets/d...1068701...\\n\\nДополнение от 19.01.\\nУдаление любых элементов на доступных вкладках пользователю с группой прав «Менеджер Акселератора партнер» недоступно.'}, page_content='Ссылка на вкладку:  https://test.smbn.ru/bitrix/admin/busi...ackers.php\\n\\n\\n4. Участники Акселерации (только назначенные Акселераторы).\\n\\nДоступные возможности:\\n\\n    Просмотр участников и их статусов.   \\n\\nСсылка на вкладку:  https://test.smbn.ru/bitrix/admin/busi...ipants.php\\n\\nОписание назначения прав:  \\n\\n1. Назначение прав пользователю производится в админ панели. В случае, если нет назначенных Акселераторов для пользователя с данной ролью,  все вкладки пустые;\\n\\n2. Администратору доступно прикрепление «Менеджер Акселератора партнер» в карточку Акселератора, требуется создать поле «Менеджер Акселератора партнер» (расположить после поля «Менеджер Акселератора внешний»). Добавить возможно нескольких внешних партнеров Акселератора к одному элементу;\\n\\n3. При добавлении пользователя в поле «Менеджер Акселератора партнер» открывается список пользователей которые состоят в данной группе.\\n\\nСсылка на матрицу ролевую: https://docs.google.com/spreadsheets/d...1068701...'), Document(metadata={'id': 181744, 'title': 'Реализация группы прав \"Менеджер Акселератора партнер\"', 'url': 'https://inside.notamedia.ru/company/personal/user/4658/tasks/task/view/181744/', 'context': 'Требуется реализовать новую группу прав \"Менеджер Акселератора партнер\"\\n\\nДоступы к вкладкам («Сервисы»- «Бизнес-обучение»):\\n\\n1. Отчеты по Акселерации (только назначенные Акселераторы).\\n\\nДоступные возможности:\\n\\n    Просмотр и выгрузка отчетов (Отчет по посещению, Трекшн-карты по всем командам).   \\n\\nСсылка на вкладку: https://test.smbn.ru/bitrix/admin/busi...eports.php\\n\\n\\n2. Кабинет Акселератора ( только назначенные Акселераторы).\\n\\nДоступные возможности:\\n\\n    Просмотр в публичной части кабинета Акселератора (кнопка \"Просмотр\");\\n\\n    Дополнение от 19.01. Редактировать вкладок в кабинете Акселератора “Программа Преакселератора” и “Программа Акселератора”\\n\\nСсылка на вкладку:  https://test.smbn.ru/bitrix/admin/busi...abinet.php  \\n\\n\\n3. Кабинет Трекера (только назначенные Акселераторы).\\n\\nДоступные возможности:\\n\\n    Просмотр в публичной части кабинета Трекера (данные по всем командам).\\n\\nСсылка на вкладку:  https://test.smbn.ru/bitrix/admin/busi...ackers.php\\n\\n\\n4. Участники Акселерации (только назначенные Акселераторы).\\n\\nДоступные возможности:\\n\\n    Просмотр участников и их статусов.   \\n\\nСсылка на вкладку:  https://test.smbn.ru/bitrix/admin/busi...ipants.php\\n\\nОписание назначения прав:  \\n\\n1. Назначение прав пользователю производится в админ панели. В случае, если нет назначенных Акселераторов для пользователя с данной ролью,  все вкладки пустые;\\n\\n2. Администратору доступно прикрепление «Менеджер Акселератора партнер» в карточку Акселератора, требуется создать поле «Менеджер Акселератора партнер» (расположить после поля «Менеджер Акселератора внешний»). Добавить возможно нескольких внешних партнеров Акселератора к одному элементу;\\n\\n3. При добавлении пользователя в поле «Менеджер Акселератора партнер» открывается список пользователей которые состоят в данной группе.\\n\\nСсылка на матрицу ролевую: https://docs.google.com/spreadsheets/d...1068701...\\n\\nДополнение от 19.01.\\nУдаление любых элементов на доступных вкладках пользователю с группой прав «Менеджер Акселератора партнер» недоступно.'}, page_content='Дополнение от 19.01.\\nУдаление любых элементов на доступных вкладках пользователю с группой прав «Менеджер Акселератора партнер» недоступно.'), Document(metadata={'id': 190897, 'title': 'Доработка кабинета Акселератора, добавление внешних модераторов', 'url': 'https://inside.notamedia.ru/company/personal/user/4658/tasks/task/view/190897/', 'context': 'Требуется в кабинете Акселератора доработать добавление внешних модераторов.\\nПри создании мероприятия в поле \"Модератор мероприятий внешний\" https://pastenow.ru/ME4M0 поставить ограничение на группу прав.\\nДобавление доступно только пользователей из группы \"Модератор мероприятий внешний\", а не всех пользователей ЦП.  '}, page_content='Доработка кабинета Акселератора, добавление внешних модераторов Требуется в кабинете Акселератора доработать добавление внешних модераторов.\\nПри создании мероприятия в поле \"Модератор мероприятий внешний\" https://pastenow.ru/ME4M0 поставить ограничение на группу прав.\\nДобавление доступно только пользователей из группы \"Модератор мероприятий внешний\", а не всех пользователей ЦП.'), Document(metadata={'id': 184464, 'title': 'Доработка ролевой модели в Акселерации (Демо)', 'url': 'https://inside.notamedia.ru/company/personal/user/4658/tasks/task/view/184464/', 'context': 'Требуется доработать подачу заявок от сотрудник бизнеса в разделе Акселерации.\\n\\nАкселератор: Новый акселератор 2 2 2 роль\\n\\nВладелец: Басов В (ид 1488) ИП БАсов и ООО \"Ромашка\"\\n\\nСотрудник: Мигина Мария (ид 1518)\\n\\nКейс 1. Сотруднику назначены права на сохранение заявок в Акселерации по двум бизнесам, ИП БАсов и ООО \"Ромашка\". В шапке сотрудника бизнесы отображаются корректно, но при нажатии на кнопку \"Подать заявку\" в модальном окне \"Выберете, от кого подать заявку\" выводится только один бизнес, скрин: https://pastenow.ru/KQNY6\\n\\nТребуется доработка, должен выводится бизнес что указан в шапке сотрудника. В данном случае два бизнеса в модальное окно \"Выберете, от кого подать заявку\".\\n\\nКейс 2. Сотруднику назначены права на сохранение заявок в Акселерации по одному бизнесу ООО \"Ромашка\", в шапке сотрудника бизнес отображаются корректно, но при нажатии на кнопку \"Подать заявку\" в модальном окне \"Выберете, от кого подать заявку\" выводится только один бизнес и не тот - \"ИП Басов\", скрин:   https://pastenow.ru/KQNYL\\n\\nТребуется доработка, должен выводится бизнес что указан в шапке сотрудника. '}, page_content='Доработка ролевой модели в Акселерации (Демо) Требуется доработать подачу заявок от сотрудник бизнеса в разделе Акселерации.\\n\\nАкселератор: Новый акселератор 2 2 2 роль\\n\\nВладелец: Басов В (ид 1488) ИП БАсов и ООО \"Ромашка\"\\n\\nСотрудник: Мигина Мария (ид 1518)\\n\\nКейс 1. Сотруднику назначены права на сохранение заявок в Акселерации по двум бизнесам, ИП БАсов и ООО \"Ромашка\". В шапке сотрудника бизнесы отображаются корректно, но при нажатии на кнопку \"Подать заявку\" в модальном окне \"Выберете, от кого подать заявку\" выводится только один бизнес, скрин: https://pastenow.ru/KQNY6\\n\\nТребуется доработка, должен выводится бизнес что указан в шапке сотрудника. В данном случае два бизнеса в модальное окно \"Выберете, от кого подать заявку\".'), Document(metadata={'id': 184464, 'title': 'Доработка ролевой модели в Акселерации (Демо)', 'url': 'https://inside.notamedia.ru/company/personal/user/4658/tasks/task/view/184464/', 'context': 'Требуется доработать подачу заявок от сотрудник бизнеса в разделе Акселерации.\\n\\nАкселератор: Новый акселератор 2 2 2 роль\\n\\nВладелец: Басов В (ид 1488) ИП БАсов и ООО \"Ромашка\"\\n\\nСотрудник: Мигина Мария (ид 1518)\\n\\nКейс 1. Сотруднику назначены права на сохранение заявок в Акселерации по двум бизнесам, ИП БАсов и ООО \"Ромашка\". В шапке сотрудника бизнесы отображаются корректно, но при нажатии на кнопку \"Подать заявку\" в модальном окне \"Выберете, от кого подать заявку\" выводится только один бизнес, скрин: https://pastenow.ru/KQNY6\\n\\nТребуется доработка, должен выводится бизнес что указан в шапке сотрудника. В данном случае два бизнеса в модальное окно \"Выберете, от кого подать заявку\".\\n\\nКейс 2. Сотруднику назначены права на сохранение заявок в Акселерации по одному бизнесу ООО \"Ромашка\", в шапке сотрудника бизнес отображаются корректно, но при нажатии на кнопку \"Подать заявку\" в модальном окне \"Выберете, от кого подать заявку\" выводится только один бизнес и не тот - \"ИП Басов\", скрин:   https://pastenow.ru/KQNYL\\n\\nТребуется доработка, должен выводится бизнес что указан в шапке сотрудника. '}, page_content='Кейс 2. Сотруднику назначены права на сохранение заявок в Акселерации по одному бизнесу ООО \"Ромашка\", в шапке сотрудника бизнес отображаются корректно, но при нажатии на кнопку \"Подать заявку\" в модальном окне \"Выберете, от кого подать заявку\" выводится только один бизнес и не тот - \"ИП Басов\", скрин:   https://pastenow.ru/KQNYL\\n\\nТребуется доработка, должен выводится бизнес что указан в шапке сотрудника.'), Document(metadata={'id': 187834, 'title': 'Добавление рассылки видеозаписи прошедшего мероприятия', 'url': 'https://inside.notamedia.ru/company/personal/user/4658/tasks/task/view/187834/', 'context': 'Требуется добавить элемент по управлению рассылками видеозаписи прошедшего мероприятия\\n\\n1. В карточку мероприятия добавить возможность прикрепление обработанной видеозаписи (смонтированной) и записи после мероприятия (автоматическая запись трансляции)\\nДоработать карточку мероприятия, добавить:\\n1. 1. Чек-бокс \"Добавить видеозапись после завершения мероприятия (автоматическая запись трансляции)\";\\n1. 2. Поле \"Добавить видеозапись после завершения мероприятия (Обработанная видеозапись)\"\\nСтандартное поле для загрузки видео (как в акселераторе и видеолекциях), добавление через загрузку с ПК или медиабиблиотеку\\nСнимок экрана 2023-02-11 в 16.57.29.png\\n\\n\\n1. 3. Новые поля разместить после поля: Количество зарегистрированных пользователей: 1\\n\\n2. Добавить вывод на фронт\\n2. 1. Добавить вывод загруженного видео на карточку мероприятия.\\n- Плеер взять стандартный из видеолекций;\\n- После нажатия на кнопку \"Перейти в мероприятия\" пользователя переходит в раздел мероприятия.\\nДизайн-макет: https://www.figma.com/file/GZjgrV7sC76...1%80%D0...\\n3. Добавить уведомление:\\n3.1. Добавить уведомление о записи прошедшего мероприятия\\n- Триггер: Администратор загрузил видеозапись мероприятия или она добавлена автоматически\\n- Уведомления отправляются в колокольчик и на эл.почту:\\nhttps://www.figma.com/file/GZjgrV7sC76...1%80%D0...-'}, page_content='Добавление рассылки видеозаписи прошедшего мероприятия Требуется добавить элемент по управлению рассылками видеозаписи прошедшего мероприятия\\n\\n1. В карточку мероприятия добавить возможность прикрепление обработанной видеозаписи (смонтированной) и записи после мероприятия (автоматическая запись трансляции)\\nДоработать карточку мероприятия, добавить:\\n1. 1. Чек-бокс \"Добавить видеозапись после завершения мероприятия (автоматическая запись трансляции)\";\\n1. 2. Поле \"Добавить видеозапись после завершения мероприятия (Обработанная видеозапись)\"\\nСтандартное поле для загрузки видео (как в акселераторе и видеолекциях), добавление через загрузку с ПК или медиабиблиотеку\\nСнимок экрана 2023-02-11 в 16.57.29.png\\n\\n\\n1. 3. Новые поля разместить после поля: Количество зарегистрированных пользователей: 1'), Document(metadata={'id': 187834, 'title': 'Добавление рассылки видеозаписи прошедшего мероприятия', 'url': 'https://inside.notamedia.ru/company/personal/user/4658/tasks/task/view/187834/', 'context': 'Требуется добавить элемент по управлению рассылками видеозаписи прошедшего мероприятия\\n\\n1. В карточку мероприятия добавить возможность прикрепление обработанной видеозаписи (смонтированной) и записи после мероприятия (автоматическая запись трансляции)\\nДоработать карточку мероприятия, добавить:\\n1. 1. Чек-бокс \"Добавить видеозапись после завершения мероприятия (автоматическая запись трансляции)\";\\n1. 2. Поле \"Добавить видеозапись после завершения мероприятия (Обработанная видеозапись)\"\\nСтандартное поле для загрузки видео (как в акселераторе и видеолекциях), добавление через загрузку с ПК или медиабиблиотеку\\nСнимок экрана 2023-02-11 в 16.57.29.png\\n\\n\\n1. 3. Новые поля разместить после поля: Количество зарегистрированных пользователей: 1\\n\\n2. Добавить вывод на фронт\\n2. 1. Добавить вывод загруженного видео на карточку мероприятия.\\n- Плеер взять стандартный из видеолекций;\\n- После нажатия на кнопку \"Перейти в мероприятия\" пользователя переходит в раздел мероприятия.\\nДизайн-макет: https://www.figma.com/file/GZjgrV7sC76...1%80%D0...\\n3. Добавить уведомление:\\n3.1. Добавить уведомление о записи прошедшего мероприятия\\n- Триггер: Администратор загрузил видеозапись мероприятия или она добавлена автоматически\\n- Уведомления отправляются в колокольчик и на эл.почту:\\nhttps://www.figma.com/file/GZjgrV7sC76...1%80%D0...-'}, page_content='2. Добавить вывод на фронт\\n2. 1. Добавить вывод загруженного видео на карточку мероприятия.\\n- Плеер взять стандартный из видеолекций;\\n- После нажатия на кнопку \"Перейти в мероприятия\" пользователя переходит в раздел мероприятия.\\nДизайн-макет: https://www.figma.com/file/GZjgrV7sC76...1%80%D0...\\n3. Добавить уведомление:\\n3.1. Добавить уведомление о записи прошедшего мероприятия\\n- Триггер: Администратор загрузил видеозапись мероприятия или она добавлена автоматически\\n- Уведомления отправляются в колокольчик и на эл.почту:\\nhttps://www.figma.com/file/GZjgrV7sC76...1%80%D0...-')]\n"
     ]
    }
   ],
   "execution_count": 6
  },
  {
   "metadata": {
    "ExecuteTime": {
     "end_time": "2025-09-27T12:17:25.209619Z",
     "start_time": "2025-09-27T12:17:25.206769Z"
    }
   },
   "cell_type": "code",
   "source": [
    "import os\n",
    "\n",
    "YC_FOLDER_ID = os.getenv(\"folder_id\")\n",
    "YC_API_KEY = os.getenv(\"ya_token\")\n"
   ],
   "id": "4c592db90cf0836d",
   "outputs": [],
   "execution_count": 7
  },
  {
   "metadata": {
    "ExecuteTime": {
     "end_time": "2025-09-27T12:17:26.516658Z",
     "start_time": "2025-09-27T12:17:26.510552Z"
    }
   },
   "cell_type": "code",
   "source": [
    "from langchain_community.vectorstores import FAISS\n",
    "from langchain_community.embeddings.yandex import YandexGPTEmbeddings\n",
    "\n",
    "# Создаем модель для генерации эмбеддингов\n",
    "yandex_embeddings = YandexGPTEmbeddings(model=\"doc\", folder_id=YC_FOLDER_ID, iam_token=YC_API_KEY)\n"
   ],
   "id": "69116d610ed31c0f",
   "outputs": [],
   "execution_count": 8
  },
  {
   "metadata": {},
   "cell_type": "markdown",
   "source": "Создаем индекс FAISS",
   "id": "a913a41447c0ab63"
  },
  {
   "metadata": {
    "ExecuteTime": {
     "end_time": "2025-09-27T12:46:24.632691Z",
     "start_time": "2025-09-27T12:46:24.627897Z"
    }
   },
   "cell_type": "code",
   "source": [
    "from langchain_community.vectorstores import FAISS\n",
    "from langchain_community.embeddings.yandex import YandexGPTEmbeddings\n",
    "\n",
    "# Создаем модель для генерации эмбеддингов\n",
    "yandex_embeddings = YandexGPTEmbeddings(model=\"doc\", folder_id=YC_FOLDER_ID, iam_token=YC_API_KEY)\n",
    "\n",
    "# Проверяем наличие локального индекса\n",
    "index_path = \"faiss_index\"\n",
    "if os.path.exists(index_path):\n",
    "    print(f\"Загрузка существующего индекса из {index_path}\")\n",
    "    faiss_index = FAISS.load_local(index_path, yandex_embeddings, allow_dangerous_deserialization=True)\n",
    "else:\n",
    "    print(\"Создание нового индекса\")\n",
    "    # Создание векторного хранилища FAISS\n",
    "    faiss_index = FAISS.from_texts(\n",
    "        texts=[doc.page_content for doc in texts],  # Тексты для индексирования\n",
    "        embedding=yandex_embeddings,  # Экземпляр Embeddings\n",
    "        metadatas=[{\"id\": doc.metadata.get(\"id\", \"\"), \"url\": doc.metadata.get(\"url\", \"\"),\n",
    "                    \"title\": doc.metadata.get(\"title\", \"\")} for doc in texts]  # Метаданные\n",
    "    )\n",
    "    # Сохранение индекса локально\n",
    "    faiss_index.save_local(index_path)\n",
    "\n"
   ],
   "id": "6c7d37f03665868",
   "outputs": [
    {
     "name": "stdout",
     "output_type": "stream",
     "text": [
      "Загрузка существующего индекса из faiss_index\n"
     ]
    }
   ],
   "execution_count": 31
  },
  {
   "metadata": {},
   "cell_type": "markdown",
   "source": "Проверяем индекс",
   "id": "df565867d46ef97b"
  },
  {
   "metadata": {
    "ExecuteTime": {
     "end_time": "2025-09-27T13:25:10.836859Z",
     "start_time": "2025-09-27T13:25:10.832854Z"
    }
   },
   "cell_type": "code",
   "source": "query = 'Какие поля есть в карточке мероприятия?'",
   "id": "f6a4ec402adfffa3",
   "outputs": [],
   "execution_count": 42
  },
  {
   "metadata": {
    "ExecuteTime": {
     "end_time": "2025-09-27T13:25:12.619242Z",
     "start_time": "2025-09-27T13:25:12.246090Z"
    }
   },
   "cell_type": "code",
   "source": [
    "relevants_score = faiss_index.similarity_search_with_score(query)\n",
    "print(relevants_score)"
   ],
   "id": "639e93bdedef6286",
   "outputs": [
    {
     "name": "stdout",
     "output_type": "stream",
     "text": [
      "[(Document(id='ed49e0d4-8a2f-45ff-adf3-2318fbe8f385', metadata={'id': 187834, 'url': 'https://inside.notamedia.ru/company/personal/user/4658/tasks/task/view/187834/', 'title': 'Добавление рассылки видеозаписи прошедшего мероприятия'}, page_content='Добавление рассылки видеозаписи прошедшего мероприятия Требуется добавить элемент по управлению рассылками видеозаписи прошедшего мероприятия\\n\\n1. В карточку мероприятия добавить возможность прикрепление обработанной видеозаписи (смонтированной) и записи после мероприятия (автоматическая запись трансляции)\\nДоработать карточку мероприятия, добавить:\\n1. 1. Чек-бокс \"Добавить видеозапись после завершения мероприятия (автоматическая запись трансляции)\";\\n1. 2. Поле \"Добавить видеозапись после завершения мероприятия (Обработанная видеозапись)\"\\nСтандартное поле для загрузки видео (как в акселераторе и видеолекциях), добавление через загрузку с ПК или медиабиблиотеку\\nСнимок экрана 2023-02-11 в 16.57.29.png\\n\\n\\n1. 3. Новые поля разместить после поля: Количество зарегистрированных пользователей: 1'), np.float32(1.1808827)), (Document(id='ca49cd16-92f8-4e36-a02b-51551c157a63', metadata={'id': 151543, 'url': 'https://inside.notamedia.ru/company/personal/user/4658/tasks/task/view/151543/', 'title': 'Реализовать страницу со списком акселераторов'}, page_content='Текстовое описание\\n\\t\\n\\nКраткое описание - анонс\\n\\nДата старта сбора заявок\\n\\t\\n\\nПри наступлении дня начала сбора заявок,   активируется кнопка «Подать заявку», которая в дальнейшем может изменяться\\n\\nДата окончания сбора заявок\\n\\t\\n\\nДата, влияющая на подсказку рядом с   кнопкой «Подать заявку»\\n\\nПродление сбора заявок\\n\\t\\n\\nЧекбокс, активность которого означает,   что подсказка рядом с кнопкой «Подать заявку» зависит от второго поля «Дата   окончания сбора заявок»\\n\\nТакже чекбокс влияет на рассылку   уведомления о продлении периода сбора заявок\\n\\nДата окончания сбора заявок\\n\\t\\n\\nДата, влияющая на подсказку рядом с   кнопкой «Подать заявку» в случае, если активирован чекбокс «Продление сбора   заявок»\\n\\n\\nИзображение акселератора\\n\\t\\n\\nЛоготип акселератора, отображающееся в   превью карточки акселератора'), np.float32(1.2737646)), (Document(id='a48b4c31-347b-495e-9372-fdd437e8c064', metadata={'id': 187834, 'url': 'https://inside.notamedia.ru/company/personal/user/4658/tasks/task/view/187834/', 'title': 'Добавление рассылки видеозаписи прошедшего мероприятия'}, page_content='2. Добавить вывод на фронт\\n2. 1. Добавить вывод загруженного видео на карточку мероприятия.\\n- Плеер взять стандартный из видеолекций;\\n- После нажатия на кнопку \"Перейти в мероприятия\" пользователя переходит в раздел мероприятия.\\nДизайн-макет: https://www.figma.com/file/GZjgrV7sC76...1%80%D0...\\n3. Добавить уведомление:\\n3.1. Добавить уведомление о записи прошедшего мероприятия\\n- Триггер: Администратор загрузил видеозапись мероприятия или она добавлена автоматически\\n- Уведомления отправляются в колокольчик и на эл.почту:\\nhttps://www.figma.com/file/GZjgrV7sC76...1%80%D0...-'), np.float32(1.2758324)), (Document(id='c3b61041-eebe-463b-85c5-157ec8f606f6', metadata={'id': 151543, 'url': 'https://inside.notamedia.ru/company/personal/user/4658/tasks/task/view/151543/', 'title': 'Реализовать страницу со списком акселераторов'}, page_content='Реализовать страницу со списком акселераторов 1. Необходимо сделать активной кнопку \"Акселерация\" в разделе Бизнес-компетенций\\n2. При переходе из раздела Акселерация -пользователь попадает на страницу списка акселераторов\\nСсылка на страницу со списком: https://www.figma.com/file/d1UJj9qDws3...D0%B0%D...\\n\\n3. Кнопка подачи заявки на акселератор с текстовой подсказкой (Отображение кнопок описано в задаче: https://inside.notamedia.ru/ex/workgro...ew/160210/)\\n\\nПоля, влияющие на отображение превью карточки акселератора (Поля описаны в задаче в блоке \"Значения свойств\"\\n]https://inside.notamedia.ru/ex/workgroups/group/3974/tasks/task/view/159946/?EVENT_TYPE=UPDATE&a...= ):\\n\\nПоле админ.панели\\n\\t\\n\\nВлияние\\n\\nАктивность\\n\\t\\n\\nОтображение карточки в списке   акселераторов\\n\\nДата начала активности\\n\\t\\n\\nНачало отображения карточки акселератора   в списке акселераторов\\n\\nДата окончания активности\\n\\t\\n\\nКонец отображения карточки акселератора   в списке акселераторов\\n\\nНазвание\\n\\t\\n\\nЗаголовок акселератора'), np.float32(1.3131802))]\n"
     ]
    }
   ],
   "execution_count": 43
  },
  {
   "metadata": {},
   "cell_type": "markdown",
   "source": "Создаем модель",
   "id": "1e4d0a8335a58870"
  },
  {
   "metadata": {
    "ExecuteTime": {
     "end_time": "2025-09-27T13:25:15.021459Z",
     "start_time": "2025-09-27T13:25:15.018883Z"
    }
   },
   "cell_type": "code",
   "source": [
    "from langchain_community.llms import YandexGPT\n",
    "\n",
    "llm = YandexGPT(\n",
    "    folder_id=YC_FOLDER_ID,\n",
    "    iam_token=YC_API_KEY,\n",
    "    model=\"yandexgpt\",\n",
    "    temperature=0.3,\n",
    "    max_tokens=500\n",
    ")"
   ],
   "id": "77ec7ae215041018",
   "outputs": [],
   "execution_count": 44
  },
  {
   "metadata": {},
   "cell_type": "markdown",
   "source": "Проверяем на запросе с использованием FAISS",
   "id": "8bccc9210de0887"
  },
  {
   "metadata": {
    "ExecuteTime": {
     "end_time": "2025-09-27T13:25:20.000687Z",
     "start_time": "2025-09-27T13:25:17.293883Z"
    }
   },
   "cell_type": "code",
   "source": [
    "from langchain.chains import RetrievalQA\n",
    "\n",
    "# создаем цепочку\n",
    "qa_chain = RetrievalQA.from_chain_type(\n",
    "    llm=llm,\n",
    "    chain_type='stuff',\n",
    "    retriever=faiss_index.as_retriever()\n",
    ")\n",
    "\n",
    "qa_chain.invoke(query)"
   ],
   "id": "74c4b23a9ed8f9e3",
   "outputs": [
    {
     "data": {
      "text/plain": [
       "{'query': 'Какие поля есть в карточке мероприятия?',\n",
       " 'result': 'В карточке мероприятия есть следующие поля:\\n* Краткое описание — анонс;\\n* Дата старта сбора заявок;\\n* Дата окончания сбора заявок;\\n* Продление сбора заявок (чекбокс);\\n* Количество зарегистрированных пользователей;\\n* Чек-бокс «Добавить видеозапись после завершения мероприятия (автоматическая запись трансляции)»;\\n* Поле «Добавить видеозапись после завершения мероприятия (Обработанная видеозапись)»;\\n* Кнопка «Перейти в мероприятия».\\n\\nТакже планируется добавить вывод загруженного видео и уведомление о записи прошедшего мероприятия.'}"
      ]
     },
     "execution_count": 45,
     "metadata": {},
     "output_type": "execute_result"
    }
   ],
   "execution_count": 45
  },
  {
   "metadata": {},
   "cell_type": "markdown",
   "source": "Подключаем промпт",
   "id": "ec4606456efee23a"
  },
  {
   "metadata": {
    "ExecuteTime": {
     "end_time": "2025-09-27T13:30:01.156821Z",
     "start_time": "2025-09-27T13:29:58.135799Z"
    }
   },
   "cell_type": "code",
   "source": [
    "from langchain.prompts import PromptTemplate\n",
    "from langchain.chains import LLMChain\n",
    "\n",
    "# Создаем шаблон промпта с полями из метаданных\n",
    "prompt_template = PromptTemplate(\n",
    "    input_variables=[\"question\", \"context\"],\n",
    "    template=\"\"\"Ответь на вопрос, используя следующие документы:\n",
    "\n",
    "Контекст:\n",
    "{context}\n",
    "\n",
    "Вопрос:\n",
    "{question}\n",
    "\n",
    "Ответ:\"\"\"\n",
    ")\n",
    "\n",
    "# цепочка с кастомным промтом\n",
    "llm_chain = LLMChain(llm=llm, prompt=prompt_template)\n",
    "\n",
    "# Получаем релевантные документы из FAISS\n",
    "relevants = faiss_index.similarity_search(query, k=2)\n",
    "\n",
    "# Формируем контекст и метаданные\n",
    "context = \"\\n\\n\".join([doc.page_content for doc in relevants])\n",
    "\n",
    "# Отправляем запрос в LLMChain\n",
    "result = llm_chain.invoke({\n",
    "    \"question\": query,\n",
    "    \"context\": context\n",
    "})\n",
    "\n",
    "print(\"Вопрос:\")\n",
    "print(query)\n",
    "\n",
    "print(\"Ответ:\")\n",
    "print(result[\"text\"])\n",
    "\n",
    "print(f\"\\n\\nПодробнее в задачах:\\n\")\n",
    "for doc in relevants:\n",
    "    print(f\"{doc.metadata[\"title\"]}\\n{doc.metadata[\"url\"]}\\n\")\n"
   ],
   "id": "adb878a751e9eb67",
   "outputs": [
    {
     "name": "stdout",
     "output_type": "stream",
     "text": [
      "Вопрос:\n",
      "Какие поля есть в карточке мероприятия?\n",
      "Ответ:\n",
      "В карточке мероприятия есть следующие поля:\n",
      "* Краткое описание — анонс.\n",
      "* Дата старта сбора заявок.\n",
      "* Дата окончания сбора заявок.\n",
      "* Чек-бокс «Продление сбора заявок».\n",
      "* Поле для указания даты окончания сбора заявок в случае продления.\n",
      "* Поле для загрузки обработанной видеозаписи (смонтированной).\n",
      "* Чек-бокс «Добавить видеозапись после завершения мероприятия (автоматическая запись трансляции)».\n",
      "* Поле для загрузки видеозаписи после мероприятия (автоматическая запись трансляции).\n",
      "* Поле «Количество зарегистрированных пользователей».\n",
      "\n",
      "\n",
      "Подробнее в задачах:\n",
      "\n",
      "Добавление рассылки видеозаписи прошедшего мероприятия\n",
      "https://inside.notamedia.ru/company/personal/user/4658/tasks/task/view/187834/\n",
      "\n",
      "Реализовать страницу со списком акселераторов\n",
      "https://inside.notamedia.ru/company/personal/user/4658/tasks/task/view/151543/\n",
      "\n"
     ]
    }
   ],
   "execution_count": 50
  },
  {
   "metadata": {},
   "cell_type": "markdown",
   "source": "Добавляем мониторинг с помощью Langfuse",
   "id": "8bca4b096cf83dcf"
  },
  {
   "metadata": {
    "ExecuteTime": {
     "end_time": "2025-09-27T12:46:50.210935Z",
     "start_time": "2025-09-27T12:46:50.209128Z"
    }
   },
   "cell_type": "code",
   "source": [
    "import os\n",
    "\n",
    "LF_PUBLIC_KEY = os.getenv(\"LANGFUSE_PUBLIC_KEY\")\n",
    "LF_SECRET_KEY = os.getenv(\"LANGFUSE_SECRET_KEY\")\n"
   ],
   "id": "e77c9eb2f59fb18e",
   "outputs": [],
   "execution_count": 39
  },
  {
   "metadata": {
    "ExecuteTime": {
     "end_time": "2025-09-27T12:46:51.818831Z",
     "start_time": "2025-09-27T12:46:51.816307Z"
    }
   },
   "cell_type": "code",
   "source": [
    "from langchain.chains import LLMChain\n",
    "from langfuse import Langfuse\n",
    "\n",
    "# Инициализация Langfuse\n",
    "langfuse = Langfuse(\n",
    "    public_key=LF_PUBLIC_KEY,\n",
    "    secret_key=LF_SECRET_KEY,\n",
    "    host=\"https://us.cloud.langfuse.com\"\n",
    ")\n"
   ],
   "id": "392b91a9cd041309",
   "outputs": [],
   "execution_count": 40
  },
  {
   "metadata": {
    "ExecuteTime": {
     "end_time": "2025-09-27T13:33:33.432584Z",
     "start_time": "2025-09-27T13:33:30.760346Z"
    }
   },
   "cell_type": "code",
   "source": [
    "from langfuse import get_client, Langfuse\n",
    "from langfuse.langchain import CallbackHandler\n",
    "import time\n",
    "\n",
    "langfuse = get_client()\n",
    "\n",
    "# Generate deterministic trace ID from external system\n",
    "external_request_id = \"home_request_15\"\n",
    "predefined_trace_id = Langfuse.create_trace_id(seed=external_request_id)\n",
    "\n",
    "langfuse_handler = CallbackHandler()\n",
    "\n",
    "# Отслеживание времени выполнения\n",
    "start_time = time.time()  # Начало всей операции\n",
    "\n",
    "\n",
    "# Разделяем документы и оценки\n",
    "documents = [doc for doc, score in relevants_score]\n",
    "scores = [score for doc, score in relevants_score]\n",
    "\n",
    "# Отслеживание количества и релевантности\n",
    "document_count = len(documents)\n",
    "average_relevance = sum(scores) / len(scores) if document_count > 0 else 0\n",
    "\n",
    "with langfuse.start_as_current_span(\n",
    "        name=\"langchain-request-1\",\n",
    "        trace_context={\"trace_id\": predefined_trace_id}\n",
    ") as span:\n",
    "    span.update_trace(\n",
    "        user_id=\"user_123\",\n",
    "        input={\n",
    "            \"document_ids\": [doc.metadata[\"id\"] for doc in relevants],\n",
    "            \"document_count\": document_count,\n",
    "            \"relevance_scores\": scores,\n",
    "            \"average_relevance\": average_relevance\n",
    "\n",
    "        }\n",
    "    )\n",
    "\n",
    "    # Замер времени начала выполнения LLM-цепочки\n",
    "    llm_start_time = time.time()\n",
    "\n",
    "    response = llm_chain.invoke(\n",
    "        {\n",
    "            \"question\": query,\n",
    "            \"context\": context\n",
    "        },\n",
    "        config={\n",
    "            \"callbacks\": [langfuse_handler],\n",
    "            \"metadata\": {\n",
    "                \"langfuse_user_id\": \"random-user\",\n",
    "                \"langfuse_session_id\": \"random-session\",\n",
    "                \"langfuse_tags\": [\"random-tag-1\", \"random-tag-2\"],\n",
    "                \"model_name\": \"yandexgpt\"\n",
    "            }\n",
    "        }\n",
    "    )\n",
    "\n",
    "\n",
    "\n",
    "    # Замер времени окончания выполнения LLM-цепочки\n",
    "    llm_end_time = time.time()\n",
    "    llm_duration = llm_end_time - llm_start_time  # Время выполнения LLM\n",
    "\n",
    "    # Общее время выполнения\n",
    "    total_end_time = time.time()\n",
    "    total_duration = total_end_time - start_time  # Общее время операции\n",
    "\n",
    "    span.update_trace(\n",
    "        output={\n",
    "            \"response\": response,\n",
    "            \"llm_duration_seconds\": llm_duration,  # Время работы LLM\n",
    "            \"total_duration_seconds\": total_duration,\n",
    "            \"document_count\": document_count,\n",
    "            \"relevance_scores\": scores,\n",
    "            \"average_relevance\": average_relevance  # Общее время\n",
    "        }\n",
    "    )\n",
    "\n",
    "print(\"Вопрос:\")\n",
    "print(query)\n",
    "\n",
    "print(\"Ответ:\")\n",
    "print(response[\"text\"])\n",
    "\n",
    "print(f\"\\n\\nПодробнее в задачах:\\n\")\n",
    "for doc in relevants:\n",
    "    print(f\"{doc.metadata[\"title\"]}\\n{doc.metadata[\"url\"]}\\n\")\n",
    "\n",
    "print(f\"Trace ID: {predefined_trace_id}\")\n",
    "print(f\"Trace ID: {langfuse_handler.last_trace_id}\")\n",
    "print(f\"LLM Duration: {llm_duration:.4f} seconds\")\n",
    "print(f\"Total Duration: {total_duration:.4f} seconds\")\n",
    "print(f\"Document Count: {document_count}\")\n",
    "print(f\"Average Relevance Score: {average_relevance:.4f}\")\n",
    "print(f\"Relevance Scores: {scores}\")\n",
    "\n"
   ],
   "id": "e419815afc013b65",
   "outputs": [
    {
     "name": "stderr",
     "output_type": "stream",
     "text": [
      "Langfuse was not able to parse the LLM model. The LLM call will be recorded without model name. Please create an issue: https://github.com/langfuse/langfuse/issues/new/choose\n"
     ]
    },
    {
     "name": "stdout",
     "output_type": "stream",
     "text": [
      "Вопрос:\n",
      "Какие поля есть в карточке мероприятия?\n",
      "Ответ:\n",
      "В карточке мероприятия есть следующие поля:\n",
      "* Краткое описание — анонс.\n",
      "* Дата старта сбора заявок.\n",
      "* Дата окончания сбора заявок.\n",
      "* Чек-бокс «Продление сбора заявок».\n",
      "* Поле для указания даты окончания сбора заявок в случае продления.\n",
      "* Поле для загрузки обработанной видеозаписи (смонтированной).\n",
      "* Чек-бокс «Добавить видеозапись после завершения мероприятия (автоматическая запись трансляции)».\n",
      "* Поле для загрузки автоматической видеозаписи после завершения мероприятия (автоматическая запись трансляции).\n",
      "* Поле «Количество зарегистрированных пользователей».\n",
      "\n",
      "\n",
      "Подробнее в задачах:\n",
      "\n",
      "Добавление рассылки видеозаписи прошедшего мероприятия\n",
      "https://inside.notamedia.ru/company/personal/user/4658/tasks/task/view/187834/\n",
      "\n",
      "Реализовать страницу со списком акселераторов\n",
      "https://inside.notamedia.ru/company/personal/user/4658/tasks/task/view/151543/\n",
      "\n",
      "Trace ID: ceb21301244edc4abae0cce37d7759b5\n",
      "Trace ID: ceb21301244edc4abae0cce37d7759b5\n",
      "LLM Duration: 2.5121 seconds\n",
      "Total Duration: 2.5127 seconds\n",
      "Document Count: 4\n",
      "Average Relevance Score: 1.2609\n",
      "Relevance Scores: [np.float32(1.1808827), np.float32(1.2737646), np.float32(1.2758324), np.float32(1.3131802)]\n"
     ]
    }
   ],
   "execution_count": 51
  }
 ],
 "metadata": {
  "kernelspec": {
   "display_name": "Python 3",
   "language": "python",
   "name": "python3"
  },
  "language_info": {
   "codemirror_mode": {
    "name": "ipython",
    "version": 2
   },
   "file_extension": ".py",
   "mimetype": "text/x-python",
   "name": "python",
   "nbconvert_exporter": "python",
   "pygments_lexer": "ipython2",
   "version": "2.7.6"
  }
 },
 "nbformat": 4,
 "nbformat_minor": 5
}
