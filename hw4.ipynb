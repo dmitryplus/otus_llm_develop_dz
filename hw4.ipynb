{
 "cells": [
  {
   "metadata": {},
   "cell_type": "markdown",
   "source": [
    "Выбираем Трек A: Question Answering (QA)\n",
    "\n",
    "Оценки качества Вопрос-ответ в дальнейше будет интересно применять при разработке чат-ботов."
   ],
   "id": "e166b1bcaecb2797"
  },
  {
   "metadata": {},
   "cell_type": "markdown",
   "source": "Устанавливаем библиотеку для работы с датасетами и метриками",
   "id": "9459a9b934551eac"
  },
  {
   "metadata": {
    "ExecuteTime": {
     "end_time": "2025-09-06T14:21:47.306059Z",
     "start_time": "2025-09-06T14:21:46.641050Z"
    }
   },
   "cell_type": "code",
   "source": [
    "%%sh\n",
    "pip install datasets evaluate transformers sentence-transformers"
   ],
   "id": "ff4ac8e48514b467",
   "outputs": [
    {
     "name": "stdout",
     "output_type": "stream",
     "text": [
      "Requirement already satisfied: datasets in /home/dmitry/PyCharmMiscProject/.venv/lib/python3.12/site-packages (4.0.0)\n",
      "Requirement already satisfied: evaluate in /home/dmitry/PyCharmMiscProject/.venv/lib/python3.12/site-packages (0.4.5)\n",
      "Requirement already satisfied: transformers in /home/dmitry/PyCharmMiscProject/.venv/lib/python3.12/site-packages (4.55.2)\n",
      "Requirement already satisfied: sentence-transformers in /home/dmitry/PyCharmMiscProject/.venv/lib/python3.12/site-packages (5.1.0)\n",
      "Requirement already satisfied: filelock in /home/dmitry/PyCharmMiscProject/.venv/lib/python3.12/site-packages (from datasets) (3.19.1)\n",
      "Requirement already satisfied: numpy>=1.17 in /home/dmitry/PyCharmMiscProject/.venv/lib/python3.12/site-packages (from datasets) (2.3.2)\n",
      "Requirement already satisfied: pyarrow>=15.0.0 in /home/dmitry/PyCharmMiscProject/.venv/lib/python3.12/site-packages (from datasets) (21.0.0)\n",
      "Requirement already satisfied: dill<0.3.9,>=0.3.0 in /home/dmitry/PyCharmMiscProject/.venv/lib/python3.12/site-packages (from datasets) (0.3.8)\n",
      "Requirement already satisfied: pandas in /home/dmitry/PyCharmMiscProject/.venv/lib/python3.12/site-packages (from datasets) (2.3.1)\n",
      "Requirement already satisfied: requests>=2.32.2 in /home/dmitry/PyCharmMiscProject/.venv/lib/python3.12/site-packages (from datasets) (2.32.4)\n",
      "Requirement already satisfied: tqdm>=4.66.3 in /home/dmitry/PyCharmMiscProject/.venv/lib/python3.12/site-packages (from datasets) (4.67.1)\n",
      "Requirement already satisfied: xxhash in /home/dmitry/PyCharmMiscProject/.venv/lib/python3.12/site-packages (from datasets) (3.5.0)\n",
      "Requirement already satisfied: multiprocess<0.70.17 in /home/dmitry/PyCharmMiscProject/.venv/lib/python3.12/site-packages (from datasets) (0.70.16)\n",
      "Requirement already satisfied: fsspec<=2025.3.0,>=2023.1.0 in /home/dmitry/PyCharmMiscProject/.venv/lib/python3.12/site-packages (from fsspec[http]<=2025.3.0,>=2023.1.0->datasets) (2025.3.0)\n",
      "Requirement already satisfied: huggingface-hub>=0.24.0 in /home/dmitry/PyCharmMiscProject/.venv/lib/python3.12/site-packages (from datasets) (0.34.4)\n",
      "Requirement already satisfied: packaging in /home/dmitry/PyCharmMiscProject/.venv/lib/python3.12/site-packages (from datasets) (25.0)\n",
      "Requirement already satisfied: pyyaml>=5.1 in /home/dmitry/PyCharmMiscProject/.venv/lib/python3.12/site-packages (from datasets) (6.0.2)\n",
      "Requirement already satisfied: aiohttp!=4.0.0a0,!=4.0.0a1 in /home/dmitry/PyCharmMiscProject/.venv/lib/python3.12/site-packages (from fsspec[http]<=2025.3.0,>=2023.1.0->datasets) (3.12.15)\n",
      "Requirement already satisfied: regex!=2019.12.17 in /home/dmitry/PyCharmMiscProject/.venv/lib/python3.12/site-packages (from transformers) (2025.7.34)\n",
      "Requirement already satisfied: tokenizers<0.22,>=0.21 in /home/dmitry/PyCharmMiscProject/.venv/lib/python3.12/site-packages (from transformers) (0.21.4)\n",
      "Requirement already satisfied: safetensors>=0.4.3 in /home/dmitry/PyCharmMiscProject/.venv/lib/python3.12/site-packages (from transformers) (0.6.2)\n",
      "Requirement already satisfied: typing-extensions>=3.7.4.3 in /home/dmitry/PyCharmMiscProject/.venv/lib/python3.12/site-packages (from huggingface-hub>=0.24.0->datasets) (4.14.1)\n",
      "Requirement already satisfied: hf-xet<2.0.0,>=1.1.3 in /home/dmitry/PyCharmMiscProject/.venv/lib/python3.12/site-packages (from huggingface-hub>=0.24.0->datasets) (1.1.7)\n",
      "Requirement already satisfied: torch>=1.11.0 in /home/dmitry/PyCharmMiscProject/.venv/lib/python3.12/site-packages (from sentence-transformers) (2.8.0)\n",
      "Requirement already satisfied: scikit-learn in /home/dmitry/PyCharmMiscProject/.venv/lib/python3.12/site-packages (from sentence-transformers) (1.7.1)\n",
      "Requirement already satisfied: scipy in /home/dmitry/PyCharmMiscProject/.venv/lib/python3.12/site-packages (from sentence-transformers) (1.16.1)\n",
      "Requirement already satisfied: Pillow in /home/dmitry/PyCharmMiscProject/.venv/lib/python3.12/site-packages (from sentence-transformers) (11.3.0)\n",
      "Requirement already satisfied: aiohappyeyeballs>=2.5.0 in /home/dmitry/PyCharmMiscProject/.venv/lib/python3.12/site-packages (from aiohttp!=4.0.0a0,!=4.0.0a1->fsspec[http]<=2025.3.0,>=2023.1.0->datasets) (2.6.1)\n",
      "Requirement already satisfied: aiosignal>=1.4.0 in /home/dmitry/PyCharmMiscProject/.venv/lib/python3.12/site-packages (from aiohttp!=4.0.0a0,!=4.0.0a1->fsspec[http]<=2025.3.0,>=2023.1.0->datasets) (1.4.0)\n",
      "Requirement already satisfied: attrs>=17.3.0 in /home/dmitry/PyCharmMiscProject/.venv/lib/python3.12/site-packages (from aiohttp!=4.0.0a0,!=4.0.0a1->fsspec[http]<=2025.3.0,>=2023.1.0->datasets) (25.3.0)\n",
      "Requirement already satisfied: frozenlist>=1.1.1 in /home/dmitry/PyCharmMiscProject/.venv/lib/python3.12/site-packages (from aiohttp!=4.0.0a0,!=4.0.0a1->fsspec[http]<=2025.3.0,>=2023.1.0->datasets) (1.7.0)\n",
      "Requirement already satisfied: multidict<7.0,>=4.5 in /home/dmitry/PyCharmMiscProject/.venv/lib/python3.12/site-packages (from aiohttp!=4.0.0a0,!=4.0.0a1->fsspec[http]<=2025.3.0,>=2023.1.0->datasets) (6.6.4)\n",
      "Requirement already satisfied: propcache>=0.2.0 in /home/dmitry/PyCharmMiscProject/.venv/lib/python3.12/site-packages (from aiohttp!=4.0.0a0,!=4.0.0a1->fsspec[http]<=2025.3.0,>=2023.1.0->datasets) (0.3.2)\n",
      "Requirement already satisfied: yarl<2.0,>=1.17.0 in /home/dmitry/PyCharmMiscProject/.venv/lib/python3.12/site-packages (from aiohttp!=4.0.0a0,!=4.0.0a1->fsspec[http]<=2025.3.0,>=2023.1.0->datasets) (1.20.1)\n",
      "Requirement already satisfied: idna>=2.0 in /home/dmitry/PyCharmMiscProject/.venv/lib/python3.12/site-packages (from yarl<2.0,>=1.17.0->aiohttp!=4.0.0a0,!=4.0.0a1->fsspec[http]<=2025.3.0,>=2023.1.0->datasets) (3.10)\n",
      "Requirement already satisfied: charset_normalizer<4,>=2 in /home/dmitry/PyCharmMiscProject/.venv/lib/python3.12/site-packages (from requests>=2.32.2->datasets) (3.4.3)\n",
      "Requirement already satisfied: urllib3<3,>=1.21.1 in /home/dmitry/PyCharmMiscProject/.venv/lib/python3.12/site-packages (from requests>=2.32.2->datasets) (2.5.0)\n",
      "Requirement already satisfied: certifi>=2017.4.17 in /home/dmitry/PyCharmMiscProject/.venv/lib/python3.12/site-packages (from requests>=2.32.2->datasets) (2025.8.3)\n",
      "Requirement already satisfied: setuptools in /home/dmitry/PyCharmMiscProject/.venv/lib/python3.12/site-packages (from torch>=1.11.0->sentence-transformers) (80.9.0)\n",
      "Requirement already satisfied: sympy>=1.13.3 in /home/dmitry/PyCharmMiscProject/.venv/lib/python3.12/site-packages (from torch>=1.11.0->sentence-transformers) (1.14.0)\n",
      "Requirement already satisfied: networkx in /home/dmitry/PyCharmMiscProject/.venv/lib/python3.12/site-packages (from torch>=1.11.0->sentence-transformers) (3.5)\n",
      "Requirement already satisfied: jinja2 in /home/dmitry/PyCharmMiscProject/.venv/lib/python3.12/site-packages (from torch>=1.11.0->sentence-transformers) (3.1.6)\n",
      "Requirement already satisfied: nvidia-cuda-nvrtc-cu12==12.8.93 in /home/dmitry/PyCharmMiscProject/.venv/lib/python3.12/site-packages (from torch>=1.11.0->sentence-transformers) (12.8.93)\n",
      "Requirement already satisfied: nvidia-cuda-runtime-cu12==12.8.90 in /home/dmitry/PyCharmMiscProject/.venv/lib/python3.12/site-packages (from torch>=1.11.0->sentence-transformers) (12.8.90)\n",
      "Requirement already satisfied: nvidia-cuda-cupti-cu12==12.8.90 in /home/dmitry/PyCharmMiscProject/.venv/lib/python3.12/site-packages (from torch>=1.11.0->sentence-transformers) (12.8.90)\n",
      "Requirement already satisfied: nvidia-cudnn-cu12==9.10.2.21 in /home/dmitry/PyCharmMiscProject/.venv/lib/python3.12/site-packages (from torch>=1.11.0->sentence-transformers) (9.10.2.21)\n",
      "Requirement already satisfied: nvidia-cublas-cu12==12.8.4.1 in /home/dmitry/PyCharmMiscProject/.venv/lib/python3.12/site-packages (from torch>=1.11.0->sentence-transformers) (12.8.4.1)\n",
      "Requirement already satisfied: nvidia-cufft-cu12==11.3.3.83 in /home/dmitry/PyCharmMiscProject/.venv/lib/python3.12/site-packages (from torch>=1.11.0->sentence-transformers) (11.3.3.83)\n",
      "Requirement already satisfied: nvidia-curand-cu12==10.3.9.90 in /home/dmitry/PyCharmMiscProject/.venv/lib/python3.12/site-packages (from torch>=1.11.0->sentence-transformers) (10.3.9.90)\n",
      "Requirement already satisfied: nvidia-cusolver-cu12==11.7.3.90 in /home/dmitry/PyCharmMiscProject/.venv/lib/python3.12/site-packages (from torch>=1.11.0->sentence-transformers) (11.7.3.90)\n",
      "Requirement already satisfied: nvidia-cusparse-cu12==12.5.8.93 in /home/dmitry/PyCharmMiscProject/.venv/lib/python3.12/site-packages (from torch>=1.11.0->sentence-transformers) (12.5.8.93)\n",
      "Requirement already satisfied: nvidia-cusparselt-cu12==0.7.1 in /home/dmitry/PyCharmMiscProject/.venv/lib/python3.12/site-packages (from torch>=1.11.0->sentence-transformers) (0.7.1)\n",
      "Requirement already satisfied: nvidia-nccl-cu12==2.27.3 in /home/dmitry/PyCharmMiscProject/.venv/lib/python3.12/site-packages (from torch>=1.11.0->sentence-transformers) (2.27.3)\n",
      "Requirement already satisfied: nvidia-nvtx-cu12==12.8.90 in /home/dmitry/PyCharmMiscProject/.venv/lib/python3.12/site-packages (from torch>=1.11.0->sentence-transformers) (12.8.90)\n",
      "Requirement already satisfied: nvidia-nvjitlink-cu12==12.8.93 in /home/dmitry/PyCharmMiscProject/.venv/lib/python3.12/site-packages (from torch>=1.11.0->sentence-transformers) (12.8.93)\n",
      "Requirement already satisfied: nvidia-cufile-cu12==1.13.1.3 in /home/dmitry/PyCharmMiscProject/.venv/lib/python3.12/site-packages (from torch>=1.11.0->sentence-transformers) (1.13.1.3)\n",
      "Requirement already satisfied: triton==3.4.0 in /home/dmitry/PyCharmMiscProject/.venv/lib/python3.12/site-packages (from torch>=1.11.0->sentence-transformers) (3.4.0)\n",
      "Requirement already satisfied: mpmath<1.4,>=1.1.0 in /home/dmitry/PyCharmMiscProject/.venv/lib/python3.12/site-packages (from sympy>=1.13.3->torch>=1.11.0->sentence-transformers) (1.3.0)\n",
      "Requirement already satisfied: MarkupSafe>=2.0 in /home/dmitry/PyCharmMiscProject/.venv/lib/python3.12/site-packages (from jinja2->torch>=1.11.0->sentence-transformers) (3.0.2)\n",
      "Requirement already satisfied: python-dateutil>=2.8.2 in /home/dmitry/PyCharmMiscProject/.venv/lib/python3.12/site-packages (from pandas->datasets) (2.9.0.post0)\n",
      "Requirement already satisfied: pytz>=2020.1 in /home/dmitry/PyCharmMiscProject/.venv/lib/python3.12/site-packages (from pandas->datasets) (2025.2)\n",
      "Requirement already satisfied: tzdata>=2022.7 in /home/dmitry/PyCharmMiscProject/.venv/lib/python3.12/site-packages (from pandas->datasets) (2025.2)\n",
      "Requirement already satisfied: six>=1.5 in /home/dmitry/PyCharmMiscProject/.venv/lib/python3.12/site-packages (from python-dateutil>=2.8.2->pandas->datasets) (1.17.0)\n",
      "Requirement already satisfied: joblib>=1.2.0 in /home/dmitry/PyCharmMiscProject/.venv/lib/python3.12/site-packages (from scikit-learn->sentence-transformers) (1.5.1)\n",
      "Requirement already satisfied: threadpoolctl>=3.1.0 in /home/dmitry/PyCharmMiscProject/.venv/lib/python3.12/site-packages (from scikit-learn->sentence-transformers) (3.6.0)\n"
     ]
    }
   ],
   "execution_count": 67
  },
  {
   "metadata": {},
   "cell_type": "markdown",
   "source": "Загружаем датасет SberQuAD",
   "id": "36bbd8c647e69711"
  },
  {
   "metadata": {
    "ExecuteTime": {
     "end_time": "2025-09-06T12:26:12.792594Z",
     "start_time": "2025-09-06T12:26:09.005917Z"
    }
   },
   "cell_type": "code",
   "source": [
    "from datasets import load_dataset\n",
    "\n",
    "# Загрузка датасета\n",
    "dataset = load_dataset(\"kuznetsoffandrey/sberquad\")\n",
    "\n",
    "# Проверка структуры\n",
    "print(dataset)\n",
    "print(\"\\nПример данных:\")\n",
    "print(dataset['train'][0])"
   ],
   "id": "c2f7b06f2a6a296f",
   "outputs": [
    {
     "name": "stdout",
     "output_type": "stream",
     "text": [
      "DatasetDict({\n",
      "    train: Dataset({\n",
      "        features: ['id', 'title', 'context', 'question', 'answers'],\n",
      "        num_rows: 45328\n",
      "    })\n",
      "    validation: Dataset({\n",
      "        features: ['id', 'title', 'context', 'question', 'answers'],\n",
      "        num_rows: 5036\n",
      "    })\n",
      "    test: Dataset({\n",
      "        features: ['id', 'title', 'context', 'question', 'answers'],\n",
      "        num_rows: 23936\n",
      "    })\n",
      "})\n",
      "\n",
      "Пример данных:\n",
      "{'id': 62310, 'title': 'SberChallenge', 'context': 'В протерозойских отложениях органические остатки встречаются намного чаще, чем в архейских. Они представлены известковыми выделениями сине-зелёных водорослей, ходами червей, остатками кишечнополостных. Кроме известковых водорослей, к числу древнейших растительных остатков относятся скопления графито-углистого вещества, образовавшегося в результате разложения Corycium enigmaticum. В кремнистых сланцах железорудной формации Канады найдены нитевидные водоросли, грибные нити и формы, близкие современным кокколитофоридам. В железистых кварцитах Северной Америки и Сибири обнаружены железистые продукты жизнедеятельности бактерий.', 'question': 'чем представлены органические остатки?', 'answers': {'text': ['известковыми выделениями сине-зелёных водорослей'], 'answer_start': [109]}}\n"
     ]
    }
   ],
   "execution_count": 2
  },
  {
   "metadata": {
    "ExecuteTime": {
     "end_time": "2025-09-06T12:23:17.057743Z",
     "start_time": "2025-09-06T12:23:17.055734Z"
    }
   },
   "cell_type": "code",
   "source": "",
   "id": "1f0b925a1bb20d20",
   "outputs": [],
   "execution_count": null
  },
  {
   "metadata": {},
   "cell_type": "markdown",
   "source": "Устанавливаем openai",
   "id": "e1f69e0879708a37"
  },
  {
   "metadata": {
    "ExecuteTime": {
     "end_time": "2025-09-06T12:23:17.593245Z",
     "start_time": "2025-09-06T12:23:17.102391Z"
    }
   },
   "cell_type": "code",
   "source": [
    "%%sh\n",
    "  pip install openai"
   ],
   "id": "6fb7d764e28593cc",
   "outputs": [
    {
     "name": "stdout",
     "output_type": "stream",
     "text": [
      "Requirement already satisfied: openai in /home/dmitry/PyCharmMiscProject/.venv/lib/python3.12/site-packages (1.101.0)\n",
      "Requirement already satisfied: anyio<5,>=3.5.0 in /home/dmitry/PyCharmMiscProject/.venv/lib/python3.12/site-packages (from openai) (4.10.0)\n",
      "Requirement already satisfied: distro<2,>=1.7.0 in /home/dmitry/PyCharmMiscProject/.venv/lib/python3.12/site-packages (from openai) (1.9.0)\n",
      "Requirement already satisfied: httpx<1,>=0.23.0 in /home/dmitry/PyCharmMiscProject/.venv/lib/python3.12/site-packages (from openai) (0.28.1)\n",
      "Requirement already satisfied: jiter<1,>=0.4.0 in /home/dmitry/PyCharmMiscProject/.venv/lib/python3.12/site-packages (from openai) (0.10.0)\n",
      "Requirement already satisfied: pydantic<3,>=1.9.0 in /home/dmitry/PyCharmMiscProject/.venv/lib/python3.12/site-packages (from openai) (2.11.7)\n",
      "Requirement already satisfied: sniffio in /home/dmitry/PyCharmMiscProject/.venv/lib/python3.12/site-packages (from openai) (1.3.1)\n",
      "Requirement already satisfied: tqdm>4 in /home/dmitry/PyCharmMiscProject/.venv/lib/python3.12/site-packages (from openai) (4.67.1)\n",
      "Requirement already satisfied: typing-extensions<5,>=4.11 in /home/dmitry/PyCharmMiscProject/.venv/lib/python3.12/site-packages (from openai) (4.14.1)\n",
      "Requirement already satisfied: idna>=2.8 in /home/dmitry/PyCharmMiscProject/.venv/lib/python3.12/site-packages (from anyio<5,>=3.5.0->openai) (3.10)\n",
      "Requirement already satisfied: certifi in /home/dmitry/PyCharmMiscProject/.venv/lib/python3.12/site-packages (from httpx<1,>=0.23.0->openai) (2025.8.3)\n",
      "Requirement already satisfied: httpcore==1.* in /home/dmitry/PyCharmMiscProject/.venv/lib/python3.12/site-packages (from httpx<1,>=0.23.0->openai) (1.0.9)\n",
      "Requirement already satisfied: h11>=0.16 in /home/dmitry/PyCharmMiscProject/.venv/lib/python3.12/site-packages (from httpcore==1.*->httpx<1,>=0.23.0->openai) (0.16.0)\n",
      "Requirement already satisfied: annotated-types>=0.6.0 in /home/dmitry/PyCharmMiscProject/.venv/lib/python3.12/site-packages (from pydantic<3,>=1.9.0->openai) (0.7.0)\n",
      "Requirement already satisfied: pydantic-core==2.33.2 in /home/dmitry/PyCharmMiscProject/.venv/lib/python3.12/site-packages (from pydantic<3,>=1.9.0->openai) (2.33.2)\n",
      "Requirement already satisfied: typing-inspection>=0.4.0 in /home/dmitry/PyCharmMiscProject/.venv/lib/python3.12/site-packages (from pydantic<3,>=1.9.0->openai) (0.4.1)\n"
     ]
    }
   ],
   "execution_count": 28
  },
  {
   "metadata": {},
   "cell_type": "markdown",
   "source": [
    "Пишем функцию получения ответов от модели на вопросы по предложеному тексту\n",
    "и проверяем ее"
   ],
   "id": "828c5e4ede77b8c"
  },
  {
   "metadata": {
    "ExecuteTime": {
     "end_time": "2025-09-06T14:41:17.050873Z",
     "start_time": "2025-09-06T14:41:15.987512Z"
    }
   },
   "cell_type": "code",
   "source": [
    "def getOpenAiAnswerFromContext(prompt: str, model: str) -> str:\n",
    "\n",
    "    import os\n",
    "    import openai\n",
    "\n",
    "    YANDEX_CLOUD_FOLDER = os.getenv(\"folder_id\")\n",
    "    YANDEX_CLOUD_API_KEY = os.getenv(\"ya_token\")\n",
    "\n",
    "    client = openai.OpenAI(\n",
    "        api_key=YANDEX_CLOUD_API_KEY,\n",
    "        base_url=\"https://llm.api.cloud.yandex.net/v1\"\n",
    "    )\n",
    "\n",
    "    # Формируем системный промпт\n",
    "    system_prompt = (\n",
    "        \"Ты — помощник по вопросам и ответам. Твоя задача — внимательно прочитать предоставленный текст и дать точный ответ на вопрос, используя только информацию из этого текста.\"\n",
    "    )\n",
    "\n",
    "    response = client.chat.completions.create(\n",
    "        model=f\"gpt://{YANDEX_CLOUD_FOLDER}/{model}\",\n",
    "        messages=[\n",
    "            {\"role\": \"system\", \"content\": system_prompt},\n",
    "            {\"role\": \"user\", \"content\": prompt}\n",
    "        ],\n",
    "        max_tokens=500,\n",
    "        temperature=0.9,  # делаем меньше температуру чтобы модель не придумывала\n",
    "        stream=False\n",
    "    )\n",
    "\n",
    "    # Извлекаем ответ\n",
    "    answer = response.choices[0].message.content.strip()\n",
    "\n",
    "\n",
    "    return answer\n",
    "\n",
    "\n",
    "# Пример использования\n",
    "example_context = \"Москва — столица России. Она расположена на берегу реки Москвы.\"\n",
    "example_question = \"Где находится Москва?\"\n",
    "\n",
    "prompt = f\"Текст: {example_context}\\nВопрос: {example_question}\"\n",
    "\n",
    "print(prompt)\n",
    "\n",
    "answer = getOpenAiAnswerFromContext(prompt, 'gpt-oss-20b/latest')\n",
    "print(\"Ответ:\", answer)"
   ],
   "id": "3dae4f1444912b44",
   "outputs": [
    {
     "name": "stdout",
     "output_type": "stream",
     "text": [
      "Текст: Москва — столица России. Она расположена на берегу реки Москвы.\n",
      "Вопрос: Где находится Москва?\n",
      "Ответ: Москва находится на берегу реки Москвы.\n"
     ]
    }
   ],
   "execution_count": 73
  },
  {
   "metadata": {},
   "cell_type": "markdown",
   "source": [
    "Будем использовать следующие модели доступные в yandex.cloud\n",
    "\n",
    "gpt-oss-20b/latest\n",
    "\n",
    "gemma-3-27b-it/latest\n",
    "\n",
    "llama-lite\n",
    "\n",
    "yandexgpt-lite\n",
    "\n",
    "Весь списко моделей тут https://yandex.cloud/ru/docs/foundation-models/concepts/yandexgpt/models#generation\n"
   ],
   "id": "41de9fc4f6a689b8"
  },
  {
   "metadata": {},
   "cell_type": "markdown",
   "source": "Запускаем контейнер с mlflow\n",
   "id": "c44406426afd4a6c"
  },
  {
   "metadata": {
    "ExecuteTime": {
     "end_time": "2025-09-06T12:50:13.838874Z",
     "start_time": "2025-09-06T12:50:13.186293Z"
    }
   },
   "cell_type": "code",
   "source": [
    "%%sh\n",
    "pip install mlflow"
   ],
   "id": "3b66529485405d50",
   "outputs": [
    {
     "name": "stdout",
     "output_type": "stream",
     "text": [
      "Requirement already satisfied: mlflow in /home/dmitry/PyCharmMiscProject/.venv/lib/python3.12/site-packages (3.3.2)\n",
      "Requirement already satisfied: mlflow-skinny==3.3.2 in /home/dmitry/PyCharmMiscProject/.venv/lib/python3.12/site-packages (from mlflow) (3.3.2)\n",
      "Requirement already satisfied: mlflow-tracing==3.3.2 in /home/dmitry/PyCharmMiscProject/.venv/lib/python3.12/site-packages (from mlflow) (3.3.2)\n",
      "Requirement already satisfied: Flask<4 in /home/dmitry/PyCharmMiscProject/.venv/lib/python3.12/site-packages (from mlflow) (3.1.2)\n",
      "Requirement already satisfied: alembic!=1.10.0,<2 in /home/dmitry/PyCharmMiscProject/.venv/lib/python3.12/site-packages (from mlflow) (1.16.5)\n",
      "Requirement already satisfied: cryptography<46,>=43.0.0 in /home/dmitry/PyCharmMiscProject/.venv/lib/python3.12/site-packages (from mlflow) (45.0.6)\n",
      "Requirement already satisfied: docker<8,>=4.0.0 in /home/dmitry/PyCharmMiscProject/.venv/lib/python3.12/site-packages (from mlflow) (7.1.0)\n",
      "Requirement already satisfied: graphene<4 in /home/dmitry/PyCharmMiscProject/.venv/lib/python3.12/site-packages (from mlflow) (3.4.3)\n",
      "Requirement already satisfied: gunicorn<24 in /home/dmitry/PyCharmMiscProject/.venv/lib/python3.12/site-packages (from mlflow) (23.0.0)\n",
      "Requirement already satisfied: matplotlib<4 in /home/dmitry/PyCharmMiscProject/.venv/lib/python3.12/site-packages (from mlflow) (3.10.5)\n",
      "Requirement already satisfied: numpy<3 in /home/dmitry/PyCharmMiscProject/.venv/lib/python3.12/site-packages (from mlflow) (2.3.2)\n",
      "Requirement already satisfied: pandas<3 in /home/dmitry/PyCharmMiscProject/.venv/lib/python3.12/site-packages (from mlflow) (2.3.1)\n",
      "Requirement already satisfied: pyarrow<22,>=4.0.0 in /home/dmitry/PyCharmMiscProject/.venv/lib/python3.12/site-packages (from mlflow) (21.0.0)\n",
      "Requirement already satisfied: scikit-learn<2 in /home/dmitry/PyCharmMiscProject/.venv/lib/python3.12/site-packages (from mlflow) (1.7.1)\n",
      "Requirement already satisfied: scipy<2 in /home/dmitry/PyCharmMiscProject/.venv/lib/python3.12/site-packages (from mlflow) (1.16.1)\n",
      "Requirement already satisfied: sqlalchemy<3,>=1.4.0 in /home/dmitry/PyCharmMiscProject/.venv/lib/python3.12/site-packages (from mlflow) (2.0.43)\n",
      "Requirement already satisfied: cachetools<7,>=5.0.0 in /home/dmitry/PyCharmMiscProject/.venv/lib/python3.12/site-packages (from mlflow-skinny==3.3.2->mlflow) (5.5.2)\n",
      "Requirement already satisfied: click<9,>=7.0 in /home/dmitry/PyCharmMiscProject/.venv/lib/python3.12/site-packages (from mlflow-skinny==3.3.2->mlflow) (8.2.1)\n",
      "Requirement already satisfied: cloudpickle<4 in /home/dmitry/PyCharmMiscProject/.venv/lib/python3.12/site-packages (from mlflow-skinny==3.3.2->mlflow) (3.1.1)\n",
      "Requirement already satisfied: databricks-sdk<1,>=0.20.0 in /home/dmitry/PyCharmMiscProject/.venv/lib/python3.12/site-packages (from mlflow-skinny==3.3.2->mlflow) (0.64.0)\n",
      "Requirement already satisfied: fastapi<1 in /home/dmitry/PyCharmMiscProject/.venv/lib/python3.12/site-packages (from mlflow-skinny==3.3.2->mlflow) (0.116.1)\n",
      "Requirement already satisfied: gitpython<4,>=3.1.9 in /home/dmitry/PyCharmMiscProject/.venv/lib/python3.12/site-packages (from mlflow-skinny==3.3.2->mlflow) (3.1.45)\n",
      "Requirement already satisfied: importlib_metadata!=4.7.0,<9,>=3.7.0 in /home/dmitry/PyCharmMiscProject/.venv/lib/python3.12/site-packages (from mlflow-skinny==3.3.2->mlflow) (8.7.0)\n",
      "Requirement already satisfied: opentelemetry-api<3,>=1.9.0 in /home/dmitry/PyCharmMiscProject/.venv/lib/python3.12/site-packages (from mlflow-skinny==3.3.2->mlflow) (1.36.0)\n",
      "Requirement already satisfied: opentelemetry-sdk<3,>=1.9.0 in /home/dmitry/PyCharmMiscProject/.venv/lib/python3.12/site-packages (from mlflow-skinny==3.3.2->mlflow) (1.36.0)\n",
      "Requirement already satisfied: packaging<26 in /home/dmitry/PyCharmMiscProject/.venv/lib/python3.12/site-packages (from mlflow-skinny==3.3.2->mlflow) (25.0)\n",
      "Requirement already satisfied: protobuf<7,>=3.12.0 in /home/dmitry/PyCharmMiscProject/.venv/lib/python3.12/site-packages (from mlflow-skinny==3.3.2->mlflow) (6.32.0)\n",
      "Requirement already satisfied: pydantic<3,>=1.10.8 in /home/dmitry/PyCharmMiscProject/.venv/lib/python3.12/site-packages (from mlflow-skinny==3.3.2->mlflow) (2.11.7)\n",
      "Requirement already satisfied: pyyaml<7,>=5.1 in /home/dmitry/PyCharmMiscProject/.venv/lib/python3.12/site-packages (from mlflow-skinny==3.3.2->mlflow) (6.0.2)\n",
      "Requirement already satisfied: requests<3,>=2.17.3 in /home/dmitry/PyCharmMiscProject/.venv/lib/python3.12/site-packages (from mlflow-skinny==3.3.2->mlflow) (2.32.4)\n",
      "Requirement already satisfied: sqlparse<1,>=0.4.0 in /home/dmitry/PyCharmMiscProject/.venv/lib/python3.12/site-packages (from mlflow-skinny==3.3.2->mlflow) (0.5.3)\n",
      "Requirement already satisfied: typing-extensions<5,>=4.0.0 in /home/dmitry/PyCharmMiscProject/.venv/lib/python3.12/site-packages (from mlflow-skinny==3.3.2->mlflow) (4.14.1)\n",
      "Requirement already satisfied: uvicorn<1 in /home/dmitry/PyCharmMiscProject/.venv/lib/python3.12/site-packages (from mlflow-skinny==3.3.2->mlflow) (0.35.0)\n",
      "Requirement already satisfied: Mako in /home/dmitry/PyCharmMiscProject/.venv/lib/python3.12/site-packages (from alembic!=1.10.0,<2->mlflow) (1.3.10)\n",
      "Requirement already satisfied: cffi>=1.14 in /home/dmitry/PyCharmMiscProject/.venv/lib/python3.12/site-packages (from cryptography<46,>=43.0.0->mlflow) (1.17.1)\n",
      "Requirement already satisfied: google-auth~=2.0 in /home/dmitry/PyCharmMiscProject/.venv/lib/python3.12/site-packages (from databricks-sdk<1,>=0.20.0->mlflow-skinny==3.3.2->mlflow) (2.40.3)\n",
      "Requirement already satisfied: urllib3>=1.26.0 in /home/dmitry/PyCharmMiscProject/.venv/lib/python3.12/site-packages (from docker<8,>=4.0.0->mlflow) (2.5.0)\n",
      "Requirement already satisfied: starlette<0.48.0,>=0.40.0 in /home/dmitry/PyCharmMiscProject/.venv/lib/python3.12/site-packages (from fastapi<1->mlflow-skinny==3.3.2->mlflow) (0.47.3)\n",
      "Requirement already satisfied: blinker>=1.9.0 in /home/dmitry/PyCharmMiscProject/.venv/lib/python3.12/site-packages (from Flask<4->mlflow) (1.9.0)\n",
      "Requirement already satisfied: itsdangerous>=2.2.0 in /home/dmitry/PyCharmMiscProject/.venv/lib/python3.12/site-packages (from Flask<4->mlflow) (2.2.0)\n",
      "Requirement already satisfied: jinja2>=3.1.2 in /home/dmitry/PyCharmMiscProject/.venv/lib/python3.12/site-packages (from Flask<4->mlflow) (3.1.6)\n",
      "Requirement already satisfied: markupsafe>=2.1.1 in /home/dmitry/PyCharmMiscProject/.venv/lib/python3.12/site-packages (from Flask<4->mlflow) (3.0.2)\n",
      "Requirement already satisfied: werkzeug>=3.1.0 in /home/dmitry/PyCharmMiscProject/.venv/lib/python3.12/site-packages (from Flask<4->mlflow) (3.1.3)\n",
      "Requirement already satisfied: gitdb<5,>=4.0.1 in /home/dmitry/PyCharmMiscProject/.venv/lib/python3.12/site-packages (from gitpython<4,>=3.1.9->mlflow-skinny==3.3.2->mlflow) (4.0.12)\n",
      "Requirement already satisfied: smmap<6,>=3.0.1 in /home/dmitry/PyCharmMiscProject/.venv/lib/python3.12/site-packages (from gitdb<5,>=4.0.1->gitpython<4,>=3.1.9->mlflow-skinny==3.3.2->mlflow) (5.0.2)\n",
      "Requirement already satisfied: pyasn1-modules>=0.2.1 in /home/dmitry/PyCharmMiscProject/.venv/lib/python3.12/site-packages (from google-auth~=2.0->databricks-sdk<1,>=0.20.0->mlflow-skinny==3.3.2->mlflow) (0.4.2)\n",
      "Requirement already satisfied: rsa<5,>=3.1.4 in /home/dmitry/PyCharmMiscProject/.venv/lib/python3.12/site-packages (from google-auth~=2.0->databricks-sdk<1,>=0.20.0->mlflow-skinny==3.3.2->mlflow) (4.9.1)\n",
      "Requirement already satisfied: graphql-core<3.3,>=3.1 in /home/dmitry/PyCharmMiscProject/.venv/lib/python3.12/site-packages (from graphene<4->mlflow) (3.2.6)\n",
      "Requirement already satisfied: graphql-relay<3.3,>=3.1 in /home/dmitry/PyCharmMiscProject/.venv/lib/python3.12/site-packages (from graphene<4->mlflow) (3.2.0)\n",
      "Requirement already satisfied: python-dateutil<3,>=2.7.0 in /home/dmitry/PyCharmMiscProject/.venv/lib/python3.12/site-packages (from graphene<4->mlflow) (2.9.0.post0)\n",
      "Requirement already satisfied: zipp>=3.20 in /home/dmitry/PyCharmMiscProject/.venv/lib/python3.12/site-packages (from importlib_metadata!=4.7.0,<9,>=3.7.0->mlflow-skinny==3.3.2->mlflow) (3.23.0)\n",
      "Requirement already satisfied: contourpy>=1.0.1 in /home/dmitry/PyCharmMiscProject/.venv/lib/python3.12/site-packages (from matplotlib<4->mlflow) (1.3.3)\n",
      "Requirement already satisfied: cycler>=0.10 in /home/dmitry/PyCharmMiscProject/.venv/lib/python3.12/site-packages (from matplotlib<4->mlflow) (0.12.1)\n",
      "Requirement already satisfied: fonttools>=4.22.0 in /home/dmitry/PyCharmMiscProject/.venv/lib/python3.12/site-packages (from matplotlib<4->mlflow) (4.59.1)\n",
      "Requirement already satisfied: kiwisolver>=1.3.1 in /home/dmitry/PyCharmMiscProject/.venv/lib/python3.12/site-packages (from matplotlib<4->mlflow) (1.4.9)\n",
      "Requirement already satisfied: pillow>=8 in /home/dmitry/PyCharmMiscProject/.venv/lib/python3.12/site-packages (from matplotlib<4->mlflow) (11.3.0)\n",
      "Requirement already satisfied: pyparsing>=2.3.1 in /home/dmitry/PyCharmMiscProject/.venv/lib/python3.12/site-packages (from matplotlib<4->mlflow) (3.2.3)\n",
      "Requirement already satisfied: opentelemetry-semantic-conventions==0.57b0 in /home/dmitry/PyCharmMiscProject/.venv/lib/python3.12/site-packages (from opentelemetry-sdk<3,>=1.9.0->mlflow-skinny==3.3.2->mlflow) (0.57b0)\n",
      "Requirement already satisfied: pytz>=2020.1 in /home/dmitry/PyCharmMiscProject/.venv/lib/python3.12/site-packages (from pandas<3->mlflow) (2025.2)\n",
      "Requirement already satisfied: tzdata>=2022.7 in /home/dmitry/PyCharmMiscProject/.venv/lib/python3.12/site-packages (from pandas<3->mlflow) (2025.2)\n",
      "Requirement already satisfied: annotated-types>=0.6.0 in /home/dmitry/PyCharmMiscProject/.venv/lib/python3.12/site-packages (from pydantic<3,>=1.10.8->mlflow-skinny==3.3.2->mlflow) (0.7.0)\n",
      "Requirement already satisfied: pydantic-core==2.33.2 in /home/dmitry/PyCharmMiscProject/.venv/lib/python3.12/site-packages (from pydantic<3,>=1.10.8->mlflow-skinny==3.3.2->mlflow) (2.33.2)\n",
      "Requirement already satisfied: typing-inspection>=0.4.0 in /home/dmitry/PyCharmMiscProject/.venv/lib/python3.12/site-packages (from pydantic<3,>=1.10.8->mlflow-skinny==3.3.2->mlflow) (0.4.1)\n",
      "Requirement already satisfied: six>=1.5 in /home/dmitry/PyCharmMiscProject/.venv/lib/python3.12/site-packages (from python-dateutil<3,>=2.7.0->graphene<4->mlflow) (1.17.0)\n",
      "Requirement already satisfied: charset_normalizer<4,>=2 in /home/dmitry/PyCharmMiscProject/.venv/lib/python3.12/site-packages (from requests<3,>=2.17.3->mlflow-skinny==3.3.2->mlflow) (3.4.3)\n",
      "Requirement already satisfied: idna<4,>=2.5 in /home/dmitry/PyCharmMiscProject/.venv/lib/python3.12/site-packages (from requests<3,>=2.17.3->mlflow-skinny==3.3.2->mlflow) (3.10)\n",
      "Requirement already satisfied: certifi>=2017.4.17 in /home/dmitry/PyCharmMiscProject/.venv/lib/python3.12/site-packages (from requests<3,>=2.17.3->mlflow-skinny==3.3.2->mlflow) (2025.8.3)\n",
      "Requirement already satisfied: pyasn1>=0.1.3 in /home/dmitry/PyCharmMiscProject/.venv/lib/python3.12/site-packages (from rsa<5,>=3.1.4->google-auth~=2.0->databricks-sdk<1,>=0.20.0->mlflow-skinny==3.3.2->mlflow) (0.6.1)\n",
      "Requirement already satisfied: joblib>=1.2.0 in /home/dmitry/PyCharmMiscProject/.venv/lib/python3.12/site-packages (from scikit-learn<2->mlflow) (1.5.1)\n",
      "Requirement already satisfied: threadpoolctl>=3.1.0 in /home/dmitry/PyCharmMiscProject/.venv/lib/python3.12/site-packages (from scikit-learn<2->mlflow) (3.6.0)\n",
      "Requirement already satisfied: greenlet>=1 in /home/dmitry/PyCharmMiscProject/.venv/lib/python3.12/site-packages (from sqlalchemy<3,>=1.4.0->mlflow) (3.2.4)\n",
      "Requirement already satisfied: anyio<5,>=3.6.2 in /home/dmitry/PyCharmMiscProject/.venv/lib/python3.12/site-packages (from starlette<0.48.0,>=0.40.0->fastapi<1->mlflow-skinny==3.3.2->mlflow) (4.10.0)\n",
      "Requirement already satisfied: sniffio>=1.1 in /home/dmitry/PyCharmMiscProject/.venv/lib/python3.12/site-packages (from anyio<5,>=3.6.2->starlette<0.48.0,>=0.40.0->fastapi<1->mlflow-skinny==3.3.2->mlflow) (1.3.1)\n",
      "Requirement already satisfied: h11>=0.8 in /home/dmitry/PyCharmMiscProject/.venv/lib/python3.12/site-packages (from uvicorn<1->mlflow-skinny==3.3.2->mlflow) (0.16.0)\n",
      "Requirement already satisfied: pycparser in /home/dmitry/PyCharmMiscProject/.venv/lib/python3.12/site-packages (from cffi>=1.14->cryptography<46,>=43.0.0->mlflow) (2.22)\n"
     ]
    }
   ],
   "execution_count": 30
  },
  {
   "metadata": {
    "ExecuteTime": {
     "end_time": "2025-09-06T12:53:20.903732Z",
     "start_time": "2025-09-06T12:53:20.636383Z"
    }
   },
   "cell_type": "code",
   "source": [
    "%%sh\n",
    "docker run --rm -d -p 5000:5000 --name=mlflow -v mlflow:/app mlflow:2.0"
   ],
   "id": "2dfdc626b6971776",
   "outputs": [
    {
     "name": "stdout",
     "output_type": "stream",
     "text": [
      "0ea7c011b906b415981185ef26bb877c456bc0c1f93472795a5254ee9ebe5f3b\n"
     ]
    }
   ],
   "execution_count": 32
  },
  {
   "metadata": {},
   "cell_type": "markdown",
   "source": "",
   "id": "88cf212b4b80034d"
  },
  {
   "metadata": {
    "ExecuteTime": {
     "end_time": "2025-09-06T14:47:04.756547Z",
     "start_time": "2025-09-06T14:41:28.696833Z"
    }
   },
   "cell_type": "code",
   "source": [
    "import mlflow\n",
    "from evaluate import load\n",
    "import pandas as pd\n",
    "from datetime import datetime\n",
    "from sentence_transformers import SentenceTransformer, util\n",
    "import time\n",
    "\n",
    "#размер части из датасета\n",
    "chunk = 30\n",
    "\n",
    "\n",
    "# Инициализация MLFlow\n",
    "mlflow.set_tracking_uri(\"http://localhost:5000\")\n",
    "mlflow.set_experiment(f\"QA_Model_Benchmark_0.9_{datetime.now().strftime('%Y%m%d_%H%M%S')}\")\n",
    "\n",
    "# Загрузка метрик\n",
    "bleu_metric = load(\"bleu\")\n",
    "squad_metric = load(\"squad\")\n",
    "\n",
    "# Загрузка модели Sentence-BERT для Semantic Similarity\n",
    "semantic_model = SentenceTransformer('bert-base-nli-mean-tokens')\n",
    "\n",
    "# Сохраняем подмножество датасета\n",
    "subset = dataset['train'].select(range(chunk))\n",
    "subset_df = subset.to_pandas()\n",
    "subset_df.to_csv(\"dataset_subset.csv\", index=False)\n",
    "\n",
    "# Список для хранения результатов\n",
    "results = []\n",
    "\n",
    "for model in ['gpt-oss-20b/latest', 'gemma-3-27b-it/latest', 'llama-lite', 'yandexgpt-lite']:\n",
    "#for model in ['gpt-oss-20b/latest']:\n",
    "\n",
    "    # Начало нового эксперимента для модели\n",
    "    with mlflow.start_run(run_name=f\"Model_{model}\"):\n",
    "        # Логируем параметры\n",
    "        mlflow.log_param(\"model\", model)\n",
    "        mlflow.log_param(\"dataset_name\", \"kuznetsoffandrey/sberquad\")\n",
    "        mlflow.log_param(\"semantic_model\", \"bert-base-nli-mean-tokens\")\n",
    "\n",
    "        # Логируем подмножество датасета\n",
    "        mlflow.log_artifact(\"dataset_subset.csv\")\n",
    "\n",
    "        # Переменные для подсчета средних метрик\n",
    "        total_bleu = 0\n",
    "        total_em = 0\n",
    "        total_f1 = 0\n",
    "        total_semantic = 0\n",
    "        total_examples = 0\n",
    "        total_answer_len = 0\n",
    "        total_inference_time = 0\n",
    "\n",
    "        for i in range(chunk):\n",
    "\n",
    "            # Получаем контекст и вопрос\n",
    "            context = dataset['train'][i]['context']\n",
    "            question = dataset['train'][i]['question']\n",
    "            answer_validate = dataset['train'][i]['answers']['text'][0]\n",
    "\n",
    "            prompt = f\"Текст: {context}\\nВопрос: {question}\"\n",
    "            mlflow.log_metric(f\"example_{i}_prompt_len\", len(prompt))\n",
    "\n",
    "            start_time = time.time()\n",
    "            # Вызываем функцию\n",
    "            answer_model = getOpenAiAnswerFromContext(prompt, model)\n",
    "            end_time = time.time()\n",
    "            inference_time = end_time - start_time\n",
    "            mlflow.log_metric(f\"example_{i}_inference_time\", inference_time)\n",
    "            total_inference_time += inference_time\n",
    "\n",
    "\n",
    "            # Логируем длину ответа модели\n",
    "            answer_len = len(answer_model.strip())  # Длина ответа (без пробелов)\n",
    "            mlflow.log_metric(f\"example_{i}_answer_len\", answer_len)\n",
    "            total_answer_len += answer_len\n",
    "\n",
    "            #вычисляем BLEU\n",
    "            bleu_score = bleu_metric.compute(\n",
    "            references=[answer_validate] ,\n",
    "            predictions=[answer_model],\n",
    "            max_order=1  # BLEU-1 (можно изменить на 2, 3, 4 для более высоких порядков)\n",
    "            )[\"bleu\"]\n",
    "\n",
    "            # Логируем BLEU для конкретного примера\n",
    "            mlflow.log_metric(f\"example_{i}_bleu\", bleu_score)\n",
    "\n",
    "            # Вычисляем SQuAD метрики (F1 и EM)\n",
    "            predictions = [{\"id\": str(i), \"prediction_text\": answer_model}]\n",
    "            references  = [{\"id\": str(i), \"answers\": {\"text\": [answer_validate], \"answer_start\": [0]}}]\n",
    "\n",
    "            squad_results = squad_metric.compute(predictions=predictions, references=references)\n",
    "\n",
    "            em_score = squad_results[\"exact_match\"]\n",
    "            f1_score = squad_results[\"f1\"]\n",
    "\n",
    "\n",
    "            # Логируем метрики\n",
    "            mlflow.log_metric(f\"example_{i}_em\", em_score)\n",
    "            mlflow.log_metric(f\"example_{i}_f1\", f1_score)\n",
    "\n",
    "            # Вычисляем Semantic Similarity\n",
    "            if answer_validate.strip() and answer_model.strip():\n",
    "                embeddings_validate = semantic_model.encode(answer_validate, convert_to_tensor=True)\n",
    "                embeddings_model = semantic_model.encode(answer_model, convert_to_tensor=True)\n",
    "                semantic_score = util.cos_sim(embeddings_validate, embeddings_model).item()\n",
    "            else:\n",
    "                semantic_score = 0.0  # Если один из ответов пустой\n",
    "\n",
    "            mlflow.log_metric(f\"example_{i}_semantic\", semantic_score)\n",
    "\n",
    "\n",
    "            # Суммируем для подсчета среднего\n",
    "            total_bleu += bleu_score\n",
    "            total_em += em_score\n",
    "            total_f1 += f1_score\n",
    "            total_semantic += semantic_score\n",
    "            total_examples += 1\n",
    "\n",
    "            # Сохраняем результат\n",
    "            results.append({\n",
    "                \"question\": question,\n",
    "                \"answer_validate\": answer_validate,\n",
    "                \"answer_model\": answer_model,\n",
    "                \"answer_len\": answer_len,\n",
    "                \"inference_time\": inference_time,\n",
    "                \"semantic_similarity\": semantic_score,\n",
    "                \"bleu_score\": bleu_score,\n",
    "                \"em_score\": em_score,\n",
    "                \"f1_score\": f1_score,\n",
    "            })\n",
    "\n",
    "        # Логируем средние метрики\n",
    "        avg_bleu = total_bleu / total_examples\n",
    "        avg_em = total_em / total_examples\n",
    "        avg_f1 = total_f1 / total_examples\n",
    "        avg_semantic = total_semantic / total_examples\n",
    "        avg_answer_len = total_answer_len / total_examples\n",
    "        avg_inference_time = total_inference_time / total_examples\n",
    "        mlflow.log_metric(\"average_bleu\", avg_bleu)\n",
    "        mlflow.log_metric(\"average_em\", avg_em)\n",
    "        mlflow.log_metric(\"average_f1\", avg_f1)\n",
    "        mlflow.log_metric(\"average_semantic\", avg_semantic)\n",
    "        mlflow.log_metric(\"average_answer_len\", avg_answer_len)\n",
    "        mlflow.log_metric(\"average_inference_time\", avg_inference_time)\n",
    "\n",
    "\n",
    "        # Создаем DataFrame из результатов\n",
    "        df = pd.DataFrame(results)\n",
    "        df.to_html(\"model_answers.html\", index=False)\n",
    "        mlflow.log_artifact(\"model_answers.html\")\n",
    "\n",
    "    print(f\"[{i+1}/{chunk}] Успешно обработано\")\n",
    "\n",
    "\n",
    "    mlflow.end_run()\n",
    "\n",
    "print(results)\n"
   ],
   "id": "28affc69c35a113b",
   "outputs": [
    {
     "name": "stderr",
     "output_type": "stream",
     "text": [
      "2025/09/06 17:41:28 INFO mlflow.tracking.fluent: Experiment with name 'QA_Model_Benchmark_0.9_20250906_174128' does not exist. Creating a new experiment.\n"
     ]
    },
    {
     "name": "stdout",
     "output_type": "stream",
     "text": [
      "🏃 View run Model_gpt-oss-20b/latest at: http://localhost:5000/#/experiments/174819170067133907/runs/d9e0250cd0ba4107ae03cef0bc51b469\n",
      "🧪 View experiment at: http://localhost:5000/#/experiments/174819170067133907\n",
      "[30/30] Успешно обработано\n",
      "🏃 View run Model_gemma-3-27b-it/latest at: http://localhost:5000/#/experiments/174819170067133907/runs/002bd120cc0449c0bc62d223c8f5305a\n",
      "🧪 View experiment at: http://localhost:5000/#/experiments/174819170067133907\n",
      "[30/30] Успешно обработано\n",
      "🏃 View run Model_llama-lite at: http://localhost:5000/#/experiments/174819170067133907/runs/5212e52779a340679f20240b2926cecb\n",
      "🧪 View experiment at: http://localhost:5000/#/experiments/174819170067133907\n",
      "[30/30] Успешно обработано\n",
      "🏃 View run Model_yandexgpt-lite at: http://localhost:5000/#/experiments/174819170067133907/runs/e9e39a703bea4e35a96017f1804a445b\n",
      "🧪 View experiment at: http://localhost:5000/#/experiments/174819170067133907\n",
      "[30/30] Успешно обработано\n",
      "[{'question': 'чем представлены органические остатки?', 'answer_validate': 'известковыми выделениями сине-зелёных водорослей', 'answer_model': 'Органические остатки в протерозойских отложениях представлены таковыми:\\n\\n- известковыми выделениями сине‑зелёных водорослей  \\n- ходами червей и остатками кишечнополостных  \\n- скоплениями графито‑углистого вещества, образованного разложением *Corycium enigmaticum*  \\n- нитевидными водорослями, грибными нитями и формами, близкими к современным кокколитофоридам (в кремнистых сланцах железорудной формации Канады)  \\n- железистыми продуктами жизнеде', 'answer_len': 446, 'inference_time': 6.919921159744263, 'semantic_similarity': 0.9528879523277283, 'bleu_score': 0.05454545454545455, 'em_score': 0.0, 'f1_score': 13.043478260869565}, {'question': 'что найдено в кремнистых сланцах железорудной формации Канады?', 'answer_validate': 'нитевидные водоросли, грибные нити', 'answer_model': 'В кремнистых сланцах железорудной формации Канады обнаружены нитевидные водоросли, грибные нити и формы, близкие современным кокколитофоридам.', 'answer_len': 142, 'inference_time': 3.087130308151245, 'semantic_similarity': 0.9192904233932495, 'bleu_score': 0.2631578947368421, 'em_score': 0.0, 'f1_score': 40.0}, {'question': 'что встречается в протерозойских отложениях?', 'answer_validate': 'органические остатки', 'answer_model': 'В протерозойских отложениях встречаются органические остатки, в частности:\\n\\n- известковые выделения сине‑зеленых водорослей,\\n- ходы (тракт) червей,\\n- остатки кишечнополостных,\\n- скопления графито‑углистого вещества, образовавшегося в результате разложения Corycium\\u202fenigmaticum.', 'answer_len': 277, 'inference_time': 6.366036415100098, 'semantic_similarity': 0.9242520332336426, 'bleu_score': 0.05128205128205127, 'em_score': 0.0, 'f1_score': 14.285714285714288}, {'question': 'что относится к числу древнейших растительных остатков?', 'answer_validate': 'скопления графито-углистого вещества', 'answer_model': 'Скопления графито‑углистого вещества, образовавшегося в результате разложения\\u202f*Corycium enigmaticum*.', 'answer_len': 101, 'inference_time': 4.865968704223633, 'semantic_similarity': 0.9400073289871216, 'bleu_score': 0.07692307692307693, 'em_score': 0.0, 'f1_score': 33.33333333333333}, {'question': 'как образовалось графито-углистое вещество?', 'answer_validate': 'в результате разложения Corycium enigmaticum', 'answer_model': 'Графито‑углистое вещество образовалось в результате разложения **Corycium enigmaticum**.', 'answer_len': 88, 'inference_time': 4.972685098648071, 'semantic_similarity': 0.9255465865135193, 'bleu_score': 0.38461538461538464, 'em_score': 0.0, 'f1_score': 76.92307692307693}, {'question': 'Куда поступают остатки непереваренной пищи?', 'answer_validate': 'в толстый кишечник', 'answer_model': 'Остатки непереваренной пищи поступают в **толстый кишечник**.', 'answer_len': 61, 'inference_time': 2.2482995986938477, 'semantic_similarity': 0.9216568470001221, 'bleu_score': 0.25, 'em_score': 0.0, 'f1_score': 60.0}, {'question': 'Каким процессам подвергается непереваренная пища в толстом кишечнике?', 'answer_validate': 'бродильным процессам с участием эндосимбионтов', 'answer_model': 'Непереваренная пища в толстом кишечнике подвергается бродильным процессам с участием эндосимбионтов – бактерий, грибков и простейших.', 'answer_len': 133, 'inference_time': 2.970118761062622, 'semantic_similarity': 0.9645330309867859, 'bleu_score': 0.2777777777777778, 'em_score': 0.0, 'f1_score': 47.61904761904761}, {'question': 'В каком кишечнике переваривается основная часть пищи?', 'answer_validate': 'в тонком кишечнике', 'answer_model': 'Основная часть пищи переваривается в тонком кишечнике.', 'answer_len': 54, 'inference_time': 1.001539707183838, 'semantic_similarity': 0.9439125061035156, 'bleu_score': 0.375, 'em_score': 0.0, 'f1_score': 60.0}, {'question': 'Какие виды анатомических сегментов выделяют в кишечнике у млекопитающих?', 'answer_validate': 'тонкий и толстый', 'answer_model': 'В кишечнике млекопитающих выделяют два вида анатомических сегментов:  \\n\\n1. **Тонкий кишечник**  \\n2. **Толстый кишечник** – к которому относятся:\\n   - слепая кишка (caecum)  \\n   - ободочная кишка (colon)  \\n   - прямая кишка (rectum)', 'answer_len': 231, 'inference_time': 4.445420503616333, 'semantic_similarity': 0.8363761901855469, 'bleu_score': 0.0, 'em_score': 0.0, 'f1_score': 13.333333333333334}, {'question': 'Для каких видов млекопитающих особо важна слепая кишка?', 'answer_validate': 'Для видов, кормящихся грубой растительной пищей', 'answer_model': 'Для видов, которые питаются грубой растительной пищей\\u202f—\\u202fто есть в основном растительноядные млекопитающие.', 'answer_len': 106, 'inference_time': 2.8833723068237305, 'semantic_similarity': 0.9800952672958374, 'bleu_score': 0.375, 'em_score': 0.0, 'f1_score': 50.0}, {'question': 'В каком году истекает договор аренды Байконура', 'answer_validate': '2050', 'answer_model': 'Договор аренды Байконура истекает в 2050\\u202fгоду.', 'answer_len': 46, 'inference_time': 0.9980206489562988, 'semantic_similarity': 0.6999194622039795, 'bleu_score': 0.12500000000000003, 'em_score': 0.0, 'f1_score': 25.0}, {'question': 'Сколько стоит эксплуатация космодрома?', 'answer_validate': '9 млрд рублей в год', 'answer_model': 'Эксплуатация космодрома стоит **около 9\\u202fмлрд рублей в год**.', 'answer_len': 60, 'inference_time': 3.4302172660827637, 'semantic_similarity': 0.8810795545578003, 'bleu_score': 0.3571428571428572, 'em_score': 0.0, 'f1_score': 71.42857142857143}, {'question': 'В какую сумму в бщей сложности космодром и город обходятся бюджету России?', 'answer_validate': '10,16 млрд рублей в год.', 'answer_model': '10\\u202f16\\u202fмлрд рублей в год.', 'answer_len': 24, 'inference_time': 3.2694873809814453, 'semantic_similarity': 0.991573691368103, 'bleu_score': 0.7142857142857143, 'em_score': 0.0, 'f1_score': 72.72727272727272}, {'question': 'Что образуют вместе город Байконур и космодром Байконур?', 'answer_validate': 'комплекс Байконур ', 'answer_model': 'Город Байконур и космодром Байконур вместе образуют **комплекс Байконур**.', 'answer_len': 74, 'inference_time': 2.824397087097168, 'semantic_similarity': 0.9137850403785706, 'bleu_score': 0.14285714285714285, 'em_score': 0.0, 'f1_score': 36.36363636363636}, {'question': 'Какая сумма выплачивается городу Байконур из федерального бюджета России?', 'answer_validate': '1,16 млрд рублей', 'answer_model': 'Из федерального бюджета России ежегодно в бюджет города\\u202fБайконур переходит безвозмездное поступление в размере **1,16\\u202fмлрд рублей**.', 'answer_len': 132, 'inference_time': 2.9223313331604004, 'semantic_similarity': 0.7663934230804443, 'bleu_score': 0.13636363636363635, 'em_score': 0.0, 'f1_score': 30.0}, {'question': 'У кого Россия арендует этот комплекс?', 'answer_validate': 'у Казахстана', 'answer_model': 'Россия арендует комплекс у **Казахстана**.', 'answer_len': 42, 'inference_time': 2.2292490005493164, 'semantic_similarity': 0.8779778480529785, 'bleu_score': 0.2, 'em_score': 0.0, 'f1_score': 57.14285714285715}, {'question': 'На какой период был арендован Россией комплекс Байконур ', 'answer_validate': 'до 2050 года', 'answer_model': 'Комплекс Байконур был арендован Россией на период до\\u202f2050\\u202fгода.', 'answer_len': 63, 'inference_time': 3.755391836166382, 'semantic_similarity': 0.851744532585144, 'bleu_score': 0.2727272727272727, 'em_score': 0.0, 'f1_score': 46.15384615384615}, {'question': 'Какой страной комплекс Байконур арендуется у Казахстана?', 'answer_validate': 'Россией', 'answer_model': 'Россией.', 'answer_len': 8, 'inference_time': 2.1957132816314697, 'semantic_similarity': 0.9920145273208618, 'bleu_score': 0.5, 'em_score': 100.0, 'f1_score': 100.0}, {'question': 'В какую сумму обходится эксплуатация космодрома Байконур в год?', 'answer_validate': '9 млрд рублей', 'answer_model': 'Эксплуатация космодрома Байконур обходится России примерно в\\u202f9\\u202fмлрд\\u202fрублей в год.', 'answer_len': 81, 'inference_time': 3.0124151706695557, 'semantic_similarity': 0.8237987756729126, 'bleu_score': 0.23076923076923078, 'em_score': 0.0, 'f1_score': 40.0}, {'question': 'Сколько стоит Байконур', 'answer_validate': '9 млрд рублей в год', 'answer_model': 'Байконур обходится бюджету России примерно в **10,16\\u202fмлрд рублей в год**.', 'answer_len': 73, 'inference_time': 6.786930322647095, 'semantic_similarity': 0.8337510824203491, 'bleu_score': 0.25, 'em_score': 0.0, 'f1_score': 50.000000000000014}, {'question': 'Что образует комплекс Байконур ?', 'answer_validate': 'Город Байконур и космодром Байконур', 'answer_model': 'Город\\u202fБайконур и космодром\\u202fБайконур вместе образуют комплекс Байконур.', 'answer_len': 70, 'inference_time': 2.187215805053711, 'semantic_similarity': 0.9803215861320496, 'bleu_score': 0.5, 'em_score': 0.0, 'f1_score': 71.42857142857143}, {'question': 'У какой страны Россия арендует комплекс Байконур ?', 'answer_validate': 'у Казахстана', 'answer_model': 'Россия арендует комплекс Байконур у Казахстана.', 'answer_len': 47, 'inference_time': 0.9609601497650146, 'semantic_similarity': 0.879381537437439, 'bleu_score': 0.2857142857142857, 'em_score': 0.0, 'f1_score': 50.0}, {'question': 'Какова стоимость эксплуатации космодрома в год?', 'answer_validate': 'около 9 млрд рублей', 'answer_model': 'Стоимость эксплуатации космодрома составляет примерно **9\\u202fмлрд рублей в год**.', 'answer_len': 78, 'inference_time': 3.206704616546631, 'semantic_similarity': 0.8674253225326538, 'bleu_score': 0.2, 'em_score': 0.0, 'f1_score': 42.85714285714285}, {'question': 'Во сколько обходится содержание и эксплуатация города Байконур и космодрома Байконур для российского бюджета?', 'answer_validate': 'в 10,16 млрд рублей в год', 'answer_model': 'Содержание и эксплуатация города\\u202fБайконур и космодрома\\u202fБайконур обходятся российскому бюджету примерно\\u202f**10,16\\u202fмлрд\\u202fрублей в год**.', 'answer_len': 131, 'inference_time': 2.983123779296875, 'semantic_similarity': 0.8296650052070618, 'bleu_score': 0.22727272727272727, 'em_score': 0.0, 'f1_score': 43.47826086956522}, {'question': 'Где расположен российский космодром', 'answer_validate': 'Байконур', 'answer_model': 'Российский космодром находится в городе\\u202fБайконур, в Казахстане, в составе комплекса\\u202f«Байконур».', 'answer_len': 95, 'inference_time': 3.009938955307007, 'semantic_similarity': 0.8257154226303101, 'bleu_score': 0.06666666666666667, 'em_score': 0.0, 'f1_score': 15.384615384615385}, {'question': 'У кого был арендован Россией комплекс Байконур ?', 'answer_validate': 'у Казахстана', 'answer_model': 'Арендованный Россией у Казахстана.', 'answer_len': 34, 'inference_time': 1.1058681011199951, 'semantic_similarity': 0.8817359209060669, 'bleu_score': 0.4, 'em_score': 0.0, 'f1_score': 66.66666666666666}, {'question': 'У кого Россия арендует космодром', 'answer_validate': 'у Казахстана', 'answer_model': 'Россия арендует космодром Байконур у Казахстана.', 'answer_len': 48, 'inference_time': 3.4027082920074463, 'semantic_similarity': 0.876293420791626, 'bleu_score': 0.2857142857142857, 'em_score': 0.0, 'f1_score': 50.0}, {'question': 'На какой период заключен договор аренды?', 'answer_validate': 'до 2050 года', 'answer_model': 'Договор аренды оформлен на срок до **2050\\u202fгода**.', 'answer_len': 49, 'inference_time': 2.4383246898651123, 'semantic_similarity': 0.899005115032196, 'bleu_score': 0.23076923076923078, 'em_score': 0.0, 'f1_score': 54.54545454545454}, {'question': 'Кому принадлежали согласно буллы все земли к западу и к югу от линии, соединяющей полюса Земли и проходящей в ста лигах западнее и южнее любого из островов Азорских островов или островов Кабо-Верде ?', 'answer_validate': 'принадлежали Испании', 'answer_model': 'Согласно булле все эти земли принадлежали Испании.', 'answer_len': 50, 'inference_time': 1.114867925643921, 'semantic_similarity': 0.9542130827903748, 'bleu_score': 0.25, 'em_score': 0.0, 'f1_score': 44.44444444444445}, {'question': 'В чем возникла необходимость после прибытия Колумба из Вест-Индии ?', 'answer_validate': 'необходимость в разделении сфер влияния между Испанией и Португалией', 'answer_model': 'Необходимость возникла в разделении сфер влияния между Испанией и Португалией, чтобы избежать конфликтов после прибытия Колумба из Карибского моря.', 'answer_len': 147, 'inference_time': 5.007806777954102, 'semantic_similarity': 0.9751718044281006, 'bleu_score': 0.38095238095238093, 'em_score': 0.0, 'f1_score': 64.28571428571429}, {'question': 'чем представлены органические остатки?', 'answer_validate': 'известковыми выделениями сине-зелёных водорослей', 'answer_model': 'Согласно тексту, органические остатки представлены следующим:\\n\\n*   известковыми выделениями сине-зелёных водорослей\\n*   ходами червей\\n*   остатками кишечнополостных\\n*   скоплениями графито-углистого вещества (образовавшегося от Corycium enigmaticum)\\n*   нитевидными водорослями\\n*   грибными нитями\\n*   формами, близкими современным кокколитофоридам\\n*   железистыми продуктами жизнедеятельности бактерий.', 'answer_len': 403, 'inference_time': 5.49673318862915, 'semantic_similarity': 0.9552228450775146, 'bleu_score': 0.08510638297872339, 'em_score': 0.0, 'f1_score': 21.621621621621625}, {'question': 'что найдено в кремнистых сланцах железорудной формации Канады?', 'answer_validate': 'нитевидные водоросли, грибные нити', 'answer_model': 'В кремнистых сланцах железорудной формации Канады найдены нитевидные водоросли, грибные нити и формы, близкие современным кокколитофоридам.', 'answer_len': 139, 'inference_time': 2.788503408432007, 'semantic_similarity': 0.9232925772666931, 'bleu_score': 0.2631578947368421, 'em_score': 0.0, 'f1_score': 40.0}, {'question': 'что встречается в протерозойских отложениях?', 'answer_validate': 'органические остатки', 'answer_model': 'В протерозойских отложениях встречаются органические остатки, представленные известковыми выделениями сине-зелёных водорослей, ходами червей, остатками кишечнополостных, скопления графито-углистого вещества (образовавшегося от Corycium enigmaticum), нитевидные водоросли, грибные нити, формы, близкие современным кокколитофоридам, и железистые продукты жизнедеятельности бактерий.', 'answer_len': 380, 'inference_time': 4.935499429702759, 'semantic_similarity': 0.914993941783905, 'bleu_score': 0.042553191489361694, 'em_score': 0.0, 'f1_score': 10.81081081081081}, {'question': 'что относится к числу древнейших растительных остатков?', 'answer_validate': 'скопления графито-углистого вещества', 'answer_model': 'К числу древнейших растительных остатков относятся скопления графито-углистого вещества, образовавшегося в результате разложения Corycium enigmaticum, и известковые водоросли.', 'answer_len': 175, 'inference_time': 2.7052555084228516, 'semantic_similarity': 0.9295824766159058, 'bleu_score': 0.14285714285714285, 'em_score': 0.0, 'f1_score': 28.57142857142857}, {'question': 'как образовалось графито-углистое вещество?', 'answer_validate': 'в результате разложения Corycium enigmaticum', 'answer_model': 'Согласно тексту, графито-углистое вещество образовалось в результате разложения Corycium enigmaticum.', 'answer_len': 101, 'inference_time': 1.0199050903320312, 'semantic_similarity': 0.9093528985977173, 'bleu_score': 0.4166666666666667, 'em_score': 0.0, 'f1_score': 66.66666666666666}, {'question': 'Куда поступают остатки непереваренной пищи?', 'answer_validate': 'в толстый кишечник', 'answer_model': 'Остатки непереваренной пищи поступают в толстый кишечник.', 'answer_len': 57, 'inference_time': 0.9056739807128906, 'semantic_similarity': 0.939481258392334, 'bleu_score': 0.375, 'em_score': 0.0, 'f1_score': 60.0}, {'question': 'Каким процессам подвергается непереваренная пища в толстом кишечнике?', 'answer_validate': 'бродильным процессам с участием эндосимбионтов', 'answer_model': 'В толстом кишечнике непереваренная пища подвергается бродильным процессам с участием эндосимбионтов — бактерий, грибков и простейших.', 'answer_len': 133, 'inference_time': 2.7601518630981445, 'semantic_similarity': 0.9627767205238342, 'bleu_score': 0.2777777777777778, 'em_score': 0.0, 'f1_score': 47.61904761904761}, {'question': 'В каком кишечнике переваривается основная часть пищи?', 'answer_validate': 'в тонком кишечнике', 'answer_model': 'Основная часть пищи переваривается в тонком кишечнике.', 'answer_len': 54, 'inference_time': 0.6888487339019775, 'semantic_similarity': 0.9439125061035156, 'bleu_score': 0.375, 'em_score': 0.0, 'f1_score': 60.0}, {'question': 'Какие виды анатомических сегментов выделяют в кишечнике у млекопитающих?', 'answer_validate': 'тонкий и толстый', 'answer_model': 'В кишечнике у млекопитающих выделяют тонкий и толстый кишечник. К толстому кишечнику относятся слепая, ободочная и прямая кишка.', 'answer_len': 128, 'inference_time': 2.758582830429077, 'semantic_similarity': 0.8743495345115662, 'bleu_score': 0.14285714285714285, 'em_score': 0.0, 'f1_score': 28.57142857142857}, {'question': 'Для каких видов млекопитающих особо важна слепая кишка?', 'answer_validate': 'Для видов, кормящихся грубой растительной пищей', 'answer_model': 'Согласно тексту, слепая кишка особо важна для видов млекопитающих, кормящихся грубой растительной пищей.', 'answer_len': 104, 'inference_time': 2.254887580871582, 'semantic_similarity': 0.9652530550956726, 'bleu_score': 0.375, 'em_score': 0.0, 'f1_score': 63.1578947368421}, {'question': 'В каком году истекает договор аренды Байконура', 'answer_validate': '2050', 'answer_model': 'Договор аренды Байконура истекает в 2050 году.', 'answer_len': 46, 'inference_time': 1.004370927810669, 'semantic_similarity': 0.6999194622039795, 'bleu_score': 0.12500000000000003, 'em_score': 0.0, 'f1_score': 25.0}, {'question': 'Сколько стоит эксплуатация космодрома?', 'answer_validate': '9 млрд рублей в год', 'answer_model': 'Эксплуатация космодрома стоит около 9 млрд рублей в год.', 'answer_len': 56, 'inference_time': 0.8003599643707275, 'semantic_similarity': 0.9110720157623291, 'bleu_score': 0.5, 'em_score': 0.0, 'f1_score': 71.42857142857143}, {'question': 'В какую сумму в бщей сложности космодром и город обходятся бюджету России?', 'answer_validate': '10,16 млрд рублей в год.', 'answer_model': 'В общей сложности космодром и город обходятся бюджету России в 10,16 млрд рублей в год.', 'answer_len': 87, 'inference_time': 2.4456543922424316, 'semantic_similarity': 0.9068432450294495, 'bleu_score': 0.375, 'em_score': 0.0, 'f1_score': 50.0}, {'question': 'Что образуют вместе город Байконур и космодром Байконур?', 'answer_validate': 'комплекс Байконур ', 'answer_model': 'Город Байконур и космодром Байконур вместе образуют комплекс Байконур.', 'answer_len': 70, 'inference_time': 1.085667610168457, 'semantic_similarity': 0.9319317936897278, 'bleu_score': 0.2, 'em_score': 0.0, 'f1_score': 36.36363636363636}, {'question': 'Какая сумма выплачивается городу Байконур из федерального бюджета России?', 'answer_validate': '1,16 млрд рублей', 'answer_model': 'Из федерального бюджета России в бюджет города Байконура ежегодно выплачивается 1,16 млрд рублей (по состоянию на 2012 год).', 'answer_len': 124, 'inference_time': 2.532252550125122, 'semantic_similarity': 0.7632158398628235, 'bleu_score': 0.14285714285714285, 'em_score': 0.0, 'f1_score': 28.57142857142857}, {'question': 'У кого Россия арендует этот комплекс?', 'answer_validate': 'у Казахстана', 'answer_model': 'Россия арендует комплекс Байконур у Казахстана.', 'answer_len': 47, 'inference_time': 0.7818799018859863, 'semantic_similarity': 0.879381537437439, 'bleu_score': 0.2857142857142857, 'em_score': 0.0, 'f1_score': 50.0}, {'question': 'На какой период был арендован Россией комплекс Байконур ', 'answer_validate': 'до 2050 года', 'answer_model': 'Комплекс Байконур арендован Россией у Казахстана на период до 2050 года.', 'answer_len': 72, 'inference_time': 1.059730052947998, 'semantic_similarity': 0.7894414663314819, 'bleu_score': 0.25, 'em_score': 0.0, 'f1_score': 42.857142857142854}, {'question': 'Какой страной комплекс Байконур арендуется у Казахстана?', 'answer_validate': 'Россией', 'answer_model': 'Комплекс Байконур арендуется у Казахстана Россией.', 'answer_len': 50, 'inference_time': 0.8853020668029785, 'semantic_similarity': 0.8619390726089478, 'bleu_score': 0.14285714285714285, 'em_score': 0.0, 'f1_score': 28.57142857142857}, {'question': 'В какую сумму обходится эксплуатация космодрома Байконур в год?', 'answer_validate': '9 млрд рублей', 'answer_model': 'Эксплуатация космодрома стоит около 9 млрд рублей в год.', 'answer_len': 56, 'inference_time': 1.0634195804595947, 'semantic_similarity': 0.8415744304656982, 'bleu_score': 0.3, 'em_score': 0.0, 'f1_score': 50.0}, {'question': 'Сколько стоит Байконур', 'answer_validate': '9 млрд рублей в год', 'answer_model': 'Согласно тексту, эксплуатация космодрома Байконур стоит около 9 млрд рублей в год. В эту сумму входит стоимость аренды комплекса (7,4 млрд рублей) и поддержание объектов космодрома (1,5 млрд рублей).', 'answer_len': 199, 'inference_time': 3.0195882320404053, 'semantic_similarity': 0.8537784814834595, 'bleu_score': 0.1388888888888889, 'em_score': 0.0, 'f1_score': 29.411764705882355}, {'question': 'Что образует комплекс Байконур ?', 'answer_validate': 'Город Байконур и космодром Байконур', 'answer_model': 'Комплекс Байконур образуют город Байконур и космодром Байконур.', 'answer_len': 63, 'inference_time': 1.0539920330047607, 'semantic_similarity': 0.9849816560745239, 'bleu_score': 0.4444444444444444, 'em_score': 0.0, 'f1_score': 76.92307692307693}, {'question': 'У какой страны Россия арендует комплекс Байконур ?', 'answer_validate': 'у Казахстана', 'answer_model': 'Россия арендует комплекс Байконур у Казахстана.', 'answer_len': 47, 'inference_time': 0.7320394515991211, 'semantic_similarity': 0.879381537437439, 'bleu_score': 0.2857142857142857, 'em_score': 0.0, 'f1_score': 50.0}, {'question': 'Какова стоимость эксплуатации космодрома в год?', 'answer_validate': 'около 9 млрд рублей', 'answer_model': 'Стоимость эксплуатации космодрома в год составляет около 9 млрд рублей.', 'answer_len': 71, 'inference_time': 0.7338566780090332, 'semantic_similarity': 0.8723467588424683, 'bleu_score': 0.36363636363636365, 'em_score': 0.0, 'f1_score': 57.14285714285715}, {'question': 'Во сколько обходится содержание и эксплуатация города Байконур и космодрома Байконур для российского бюджета?', 'answer_validate': 'в 10,16 млрд рублей в год', 'answer_model': 'Содержание и эксплуатация города Байконур и космодрома Байконур обходятся бюджету России в 10,16 млрд рублей в год.', 'answer_len': 115, 'inference_time': 2.470407009124756, 'semantic_similarity': 0.8595342636108398, 'bleu_score': 0.3333333333333333, 'em_score': 0.0, 'f1_score': 52.17391304347826}, {'question': 'Где расположен российский космодром', 'answer_validate': 'Байконур', 'answer_model': 'Российский космодром расположен в городе Байконур, который находится в Казахстане.', 'answer_len': 82, 'inference_time': 1.0364720821380615, 'semantic_similarity': 0.8177643418312073, 'bleu_score': 0.08333333333333333, 'em_score': 0.0, 'f1_score': 18.181818181818183}, {'question': 'У кого был арендован Россией комплекс Байконур ?', 'answer_validate': 'у Казахстана', 'answer_model': 'Комплекс Байконур арендован Россией у Казахстана.', 'answer_len': 49, 'inference_time': 0.9316480159759521, 'semantic_similarity': 0.874319314956665, 'bleu_score': 0.2857142857142857, 'em_score': 0.0, 'f1_score': 50.0}, {'question': 'У кого Россия арендует космодром', 'answer_validate': 'у Казахстана', 'answer_model': 'Россия арендует космодром у Казахстана.', 'answer_len': 39, 'inference_time': 0.7149715423583984, 'semantic_similarity': 0.8907871246337891, 'bleu_score': 0.3333333333333333, 'em_score': 0.0, 'f1_score': 57.14285714285715}, {'question': 'На какой период заключен договор аренды?', 'answer_validate': 'до 2050 года', 'answer_model': 'Договор аренды заключен на период до 2050 года.', 'answer_len': 47, 'inference_time': 0.915928840637207, 'semantic_similarity': 0.8049304485321045, 'bleu_score': 0.3333333333333333, 'em_score': 0.0, 'f1_score': 54.54545454545454}, {'question': 'Кому принадлежали согласно буллы все земли к западу и к югу от линии, соединяющей полюса Земли и проходящей в ста лигах западнее и южнее любого из островов Азорских островов или островов Кабо-Верде ?', 'answer_validate': 'принадлежали Испании', 'answer_model': 'Согласно буллы, все земли к западу и к югу от линии, соединяющей полюса Земли и проходящей в ста лигах западнее и южнее любого из островов Азорских островов или островов Кабо-Верде, принадлежали Испании.', 'answer_len': 203, 'inference_time': 3.2521917819976807, 'semantic_similarity': 0.8542162775993347, 'bleu_score': 0.05555555555555554, 'em_score': 0.0, 'f1_score': 11.76470588235294}, {'question': 'В чем возникла необходимость после прибытия Колумба из Вест-Индии ?', 'answer_validate': 'необходимость в разделении сфер влияния между Испанией и Португалией', 'answer_model': 'После прибытия Колумба из Вест-Индии возникла необходимость в разделении сфер влияния между Испанией и Португалией с целью избежания конфликтов.', 'answer_len': 144, 'inference_time': 2.5328128337860107, 'semantic_similarity': 0.9702749252319336, 'bleu_score': 0.45, 'em_score': 0.0, 'f1_score': 64.28571428571429}, {'question': 'чем представлены органические остатки?', 'answer_validate': 'известковыми выделениями сине-зелёных водорослей', 'answer_model': 'В протерозойских отложениях органические остатки представлены известковыми выделениями сине-зелёных водорослей, ходами червей, остатками кишечнополостных, скоплениями графито-углистого вещества, образовавшегося в результате разложения Corycium enigmaticum, нитевидные водоросли, грибные нити и формы, близкие современным кокколитофоридам, железистые продукты жизнедеятельности бактерий.', 'answer_len': 386, 'inference_time': 2.8867361545562744, 'semantic_similarity': 0.9525370597839355, 'bleu_score': 0.08888888888888888, 'em_score': 0.0, 'f1_score': 20.0}, {'question': 'что найдено в кремнистых сланцах железорудной формации Канады?', 'answer_validate': 'нитевидные водоросли, грибные нити', 'answer_model': 'Нитевидные водоросли, грибные нити и формы, близкие современным кокколитофоридам.', 'answer_len': 81, 'inference_time': 1.012221336364746, 'semantic_similarity': 0.9650744795799255, 'bleu_score': 0.3333333333333333, 'em_score': 0.0, 'f1_score': 61.53846153846153}, {'question': 'что встречается в протерозойских отложениях?', 'answer_validate': 'органические остатки', 'answer_model': 'В протерозойских отложениях встречаются органические остатки.', 'answer_len': 61, 'inference_time': 0.5462620258331299, 'semantic_similarity': 0.9598840475082397, 'bleu_score': 0.2857142857142857, 'em_score': 0.0, 'f1_score': 50.0}, {'question': 'что относится к числу древнейших растительных остатков?', 'answer_validate': 'скопления графито-углистого вещества', 'answer_model': 'Скопления графито-углистого вещества, образовавшегося в результате разложения Corycium enigmaticum.', 'answer_len': 99, 'inference_time': 0.7213995456695557, 'semantic_similarity': 0.9479044079780579, 'bleu_score': 0.18181818181818182, 'em_score': 0.0, 'f1_score': 50.0}, {'question': 'как образовалось графито-углистое вещество?', 'answer_validate': 'в результате разложения Corycium enigmaticum', 'answer_model': 'Графито-углистое вещество образовалось в результате разложения Corycium enigmaticum.', 'answer_len': 84, 'inference_time': 0.7785158157348633, 'semantic_similarity': 0.933590292930603, 'bleu_score': 0.5555555555555556, 'em_score': 0.0, 'f1_score': 76.92307692307693}, {'question': 'Куда поступают остатки непереваренной пищи?', 'answer_validate': 'в толстый кишечник', 'answer_model': 'Остатки непереваренной пищи поступают в толстый кишечник.', 'answer_len': 57, 'inference_time': 1.1118087768554688, 'semantic_similarity': 0.939481258392334, 'bleu_score': 0.375, 'em_score': 0.0, 'f1_score': 60.0}, {'question': 'Каким процессам подвергается непереваренная пища в толстом кишечнике?', 'answer_validate': 'бродильным процессам с участием эндосимбионтов', 'answer_model': 'Непереваренная пища подвергается бродильным процессам с участием эндосимбионтов – бактерий, грибков и простейших.', 'answer_len': 113, 'inference_time': 0.7584662437438965, 'semantic_similarity': 0.9728014469146729, 'bleu_score': 0.3333333333333333, 'em_score': 0.0, 'f1_score': 55.55555555555556}, {'question': 'В каком кишечнике переваривается основная часть пищи?', 'answer_validate': 'в тонком кишечнике', 'answer_model': 'В тонком кишечнике.', 'answer_len': 19, 'inference_time': 0.42851924896240234, 'semantic_similarity': 0.9974921345710754, 'bleu_score': 0.5, 'em_score': 100.0, 'f1_score': 100.0}, {'question': 'Какие виды анатомических сегментов выделяют в кишечнике у млекопитающих?', 'answer_validate': 'тонкий и толстый', 'answer_model': 'В кишечнике млекопитающих выделяют тонкий и толстый кишечник.', 'answer_len': 61, 'inference_time': 0.5734806060791016, 'semantic_similarity': 0.9194496273994446, 'bleu_score': 0.3333333333333333, 'em_score': 0.0, 'f1_score': 54.54545454545454}, {'question': 'Для каких видов млекопитающих особо важна слепая кишка?', 'answer_validate': 'Для видов, кормящихся грубой растительной пищей', 'answer_model': 'Для видов, кормящихся грубой растительной пищей.', 'answer_len': 48, 'inference_time': 0.6742491722106934, 'semantic_similarity': 0.9991160035133362, 'bleu_score': 0.875, 'em_score': 100.0, 'f1_score': 100.0}, {'question': 'В каком году истекает договор аренды Байконура', 'answer_validate': '2050', 'answer_model': 'Предоставленная информация гласит, что комплекс Байконур арендован Россией у Казахстана на период до 2050 года.', 'answer_len': 111, 'inference_time': 0.8798167705535889, 'semantic_similarity': 0.48262789845466614, 'bleu_score': 0.0588235294117647, 'em_score': 0.0, 'f1_score': 12.5}, {'question': 'Сколько стоит эксплуатация космодрома?', 'answer_validate': '9 млрд рублей в год', 'answer_model': 'Эксплуатация космодрома стоит около 9 млрд рублей в год.', 'answer_len': 56, 'inference_time': 0.6011543273925781, 'semantic_similarity': 0.9110720157623291, 'bleu_score': 0.5, 'em_score': 0.0, 'f1_score': 71.42857142857143}, {'question': 'В какую сумму в бщей сложности космодром и город обходятся бюджету России?', 'answer_validate': '10,16 млрд рублей в год.', 'answer_model': 'В общей сложности космодром и город обходятся бюджету России в 10,16 млрд рублей в год.', 'answer_len': 87, 'inference_time': 0.6588840484619141, 'semantic_similarity': 0.9068432450294495, 'bleu_score': 0.375, 'em_score': 0.0, 'f1_score': 50.0}, {'question': 'Что образуют вместе город Байконур и космодром Байконур?', 'answer_validate': 'комплекс Байконур ', 'answer_model': 'Комплекс Байконур.', 'answer_len': 18, 'inference_time': 0.6890914440155029, 'semantic_similarity': 0.9958178400993347, 'bleu_score': 0.3333333333333333, 'em_score': 100.0, 'f1_score': 100.0}, {'question': 'Какая сумма выплачивается городу Байконур из федерального бюджета России?', 'answer_validate': '1,16 млрд рублей', 'answer_model': '1,16 млрд рублей.', 'answer_len': 17, 'inference_time': 0.4087097644805908, 'semantic_similarity': 0.9961345195770264, 'bleu_score': 0.75, 'em_score': 100.0, 'f1_score': 100.0}, {'question': 'У кого Россия арендует этот комплекс?', 'answer_validate': 'у Казахстана', 'answer_model': 'У Казахстана.', 'answer_len': 13, 'inference_time': 0.4337632656097412, 'semantic_similarity': 0.995764434337616, 'bleu_score': 0.3333333333333333, 'em_score': 100.0, 'f1_score': 100.0}, {'question': 'На какой период был арендован Россией комплекс Байконур ', 'answer_validate': 'до 2050 года', 'answer_model': 'Россией комплекс Байконур был арендован на период до 2050 года.', 'answer_len': 63, 'inference_time': 0.6529185771942139, 'semantic_similarity': 0.8546693921089172, 'bleu_score': 0.2727272727272727, 'em_score': 0.0, 'f1_score': 46.15384615384615}, {'question': 'Какой страной комплекс Байконур арендуется у Казахстана?', 'answer_validate': 'Россией', 'answer_model': 'Россией.', 'answer_len': 8, 'inference_time': 0.344484806060791, 'semantic_similarity': 0.9920145273208618, 'bleu_score': 0.5, 'em_score': 100.0, 'f1_score': 100.0}, {'question': 'В какую сумму обходится эксплуатация космодрома Байконур в год?', 'answer_validate': '9 млрд рублей', 'answer_model': 'Около 1,5 млрд рублей в год.', 'answer_len': 28, 'inference_time': 0.46724867820739746, 'semantic_similarity': 0.6745335459709167, 'bleu_score': 0.2857142857142857, 'em_score': 0.0, 'f1_score': 44.44444444444444}, {'question': 'Сколько стоит Байконур', 'answer_validate': '9 млрд рублей в год', 'answer_model': 'Эксплуатация космодрома стоит около 9 млрд рублей в год.', 'answer_len': 56, 'inference_time': 0.6418700218200684, 'semantic_similarity': 0.9110720157623291, 'bleu_score': 0.5, 'em_score': 0.0, 'f1_score': 71.42857142857143}, {'question': 'Что образует комплекс Байконур ?', 'answer_validate': 'Город Байконур и космодром Байконур', 'answer_model': 'Город Байконур и космодром Байконур.', 'answer_len': 36, 'inference_time': 0.4923534393310547, 'semantic_similarity': 0.9981045722961426, 'bleu_score': 0.8333333333333334, 'em_score': 100.0, 'f1_score': 100.0}, {'question': 'У какой страны Россия арендует комплекс Байконур ?', 'answer_validate': 'у Казахстана', 'answer_model': 'Казахстан.', 'answer_len': 10, 'inference_time': 0.36452412605285645, 'semantic_similarity': 0.9796217679977417, 'bleu_score': 0.0, 'em_score': 0.0, 'f1_score': 0.0}, {'question': 'Какова стоимость эксплуатации космодрома в год?', 'answer_validate': 'около 9 млрд рублей', 'answer_model': 'Около 1,5 млрд рублей.', 'answer_len': 22, 'inference_time': 0.8621430397033691, 'semantic_similarity': 0.7120075821876526, 'bleu_score': 0.4, 'em_score': 0.0, 'f1_score': 75.0}, {'question': 'Во сколько обходится содержание и эксплуатация города Байконур и космодрома Байконур для российского бюджета?', 'answer_validate': 'в 10,16 млрд рублей в год', 'answer_model': 'Стоимость содержания и эксплуатации космодрома и города Байконур составляет 10,16 млрд рублей в год.', 'answer_len': 100, 'inference_time': 0.8210868835449219, 'semantic_similarity': 0.8735814094543457, 'bleu_score': 0.3333333333333333, 'em_score': 0.0, 'f1_score': 50.0}, {'question': 'Где расположен российский космодром', 'answer_validate': 'Байконур', 'answer_model': 'Космодром расположен в городе Байконур.', 'answer_len': 39, 'inference_time': 0.5061113834381104, 'semantic_similarity': 0.8690878748893738, 'bleu_score': 0.16666666666666669, 'em_score': 0.0, 'f1_score': 33.333333333333336}, {'question': 'У кого был арендован Россией комплекс Байконур ?', 'answer_validate': 'у Казахстана', 'answer_model': 'Казахстан.', 'answer_len': 10, 'inference_time': 0.3401062488555908, 'semantic_similarity': 0.9796217679977417, 'bleu_score': 0.0, 'em_score': 0.0, 'f1_score': 0.0}, {'question': 'У кого Россия арендует космодром', 'answer_validate': 'у Казахстана', 'answer_model': 'Россия арендует космодром Байконур у Казахстана.', 'answer_len': 48, 'inference_time': 0.5358030796051025, 'semantic_similarity': 0.876293420791626, 'bleu_score': 0.2857142857142857, 'em_score': 0.0, 'f1_score': 50.0}, {'question': 'На какой период заключен договор аренды?', 'answer_validate': 'до 2050 года', 'answer_model': 'Постановлением от 30.05.1995 г. 1151-П  был арендован комплекс космодрома Байконур на период до 2050 года.', 'answer_len': 106, 'inference_time': 0.9302787780761719, 'semantic_similarity': 0.7080994248390198, 'bleu_score': 0.15789473684210523, 'em_score': 0.0, 'f1_score': 33.333333333333336}, {'question': 'Кому принадлежали согласно буллы все земли к западу и к югу от линии, соединяющей полюса Земли и проходящей в ста лигах западнее и южнее любого из островов Азорских островов или островов Кабо-Верде ?', 'answer_validate': 'принадлежали Испании', 'answer_model': 'Согласно булле, все земли к западу и к югу от линии принадлежали Испании.', 'answer_len': 73, 'inference_time': 0.7116210460662842, 'semantic_similarity': 0.9150407314300537, 'bleu_score': 0.13333333333333333, 'em_score': 0.0, 'f1_score': 26.66666666666667}, {'question': 'В чем возникла необходимость после прибытия Колумба из Вест-Индии ?', 'answer_validate': 'необходимость в разделении сфер влияния между Испанией и Португалией', 'answer_model': 'Вскоре после прибытия Колумба из Вест-Индии возникла необходимость в разделении сфер влияния между Испанией и Португалией с целью избежания конфликтов.', 'answer_len': 151, 'inference_time': 0.9285290241241455, 'semantic_similarity': 0.9720727205276489, 'bleu_score': 0.42857142857142855, 'em_score': 0.0, 'f1_score': 62.06896551724138}, {'question': 'чем представлены органические остатки?', 'answer_validate': 'известковыми выделениями сине-зелёных водорослей', 'answer_model': 'Органические остатки представлены известковыми выделениями сине-зелёных водорослей, ходами червей, остатками кишечнополостных, скоплениями графито-углистого вещества, образованного в результате разложения Corycium enigmaticum, нитевидными водорослями, грибными нитями и формами, близкими современным кокколитофоридам, а также железистыми продуктами жизнедеятельности бактерий.', 'answer_len': 376, 'inference_time': 1.1106500625610352, 'semantic_similarity': 0.9522646069526672, 'bleu_score': 0.0909090909090909, 'em_score': 0.0, 'f1_score': 20.51282051282051}, {'question': 'что найдено в кремнистых сланцах железорудной формации Канады?', 'answer_validate': 'нитевидные водоросли, грибные нити', 'answer_model': 'В кремнистых сланцах железорудной формации Канады найдены нитевидные водоросли, грибные нити и формы, близкие современным кокколитофоридам.', 'answer_len': 139, 'inference_time': 0.5526280403137207, 'semantic_similarity': 0.9232925772666931, 'bleu_score': 0.2631578947368421, 'em_score': 0.0, 'f1_score': 40.0}, {'question': 'что встречается в протерозойских отложениях?', 'answer_validate': 'органические остатки', 'answer_model': 'В протерозойских отложениях встречаются органические остатки, представленные известковыми выделениями сине-зелёных водорослей, ходами червей, остатками кишечнополостных, скоплениями графито-углистого вещества, нитевидными водорослями, грибными нитями и формами, близкими современным кокколитофоридам, а также железистыми продуктами жизнедеятельности бактерий.', 'answer_len': 359, 'inference_time': 1.0292718410491943, 'semantic_similarity': 0.914993941783905, 'bleu_score': 0.047619047619047616, 'em_score': 0.0, 'f1_score': 11.428571428571429}, {'question': 'что относится к числу древнейших растительных остатков?', 'answer_validate': 'скопления графито-углистого вещества', 'answer_model': 'К числу древнейших растительных остатков относятся скопления графито-углистого вещества, образовавшегося в результате разложения Corycium enigmaticum.', 'answer_len': 150, 'inference_time': 0.48014211654663086, 'semantic_similarity': 0.9280242323875427, 'bleu_score': 0.17647058823529413, 'em_score': 0.0, 'f1_score': 33.333333333333336}, {'question': 'как образовалось графито-углистое вещество?', 'answer_validate': 'в результате разложения Corycium enigmaticum', 'answer_model': 'Графито-углистое вещество образовалось в результате разложения Corycium enigmaticum.', 'answer_len': 84, 'inference_time': 0.551666259765625, 'semantic_similarity': 0.933590292930603, 'bleu_score': 0.5555555555555556, 'em_score': 0.0, 'f1_score': 76.92307692307693}, {'question': 'Куда поступают остатки непереваренной пищи?', 'answer_validate': 'в толстый кишечник', 'answer_model': 'Остатки непереваренной пищи поступают в толстый кишечник.', 'answer_len': 57, 'inference_time': 0.33768725395202637, 'semantic_similarity': 0.939481258392334, 'bleu_score': 0.375, 'em_score': 0.0, 'f1_score': 60.0}, {'question': 'Каким процессам подвергается непереваренная пища в толстом кишечнике?', 'answer_validate': 'бродильным процессам с участием эндосимбионтов', 'answer_model': 'Непереваренная пища в толстом кишечнике подвергается бродильным процессам с участием эндосимбионтов — бактерий, грибков и простейших.', 'answer_len': 133, 'inference_time': 0.5740621089935303, 'semantic_similarity': 0.964302659034729, 'bleu_score': 0.2777777777777778, 'em_score': 0.0, 'f1_score': 47.61904761904761}, {'question': 'В каком кишечнике переваривается основная часть пищи?', 'answer_validate': 'в тонком кишечнике', 'answer_model': 'В тонком кишечнике.', 'answer_len': 19, 'inference_time': 0.26182985305786133, 'semantic_similarity': 0.9974921345710754, 'bleu_score': 0.5, 'em_score': 100.0, 'f1_score': 100.0}, {'question': 'Какие виды анатомических сегментов выделяют в кишечнике у млекопитающих?', 'answer_validate': 'тонкий и толстый', 'answer_model': 'В кишечнике у млекопитающих выделяют тонкий и толстый кишечник. К толстому кишечнику относятся слепая, ободочная и прямая кишка.', 'answer_len': 128, 'inference_time': 0.538276195526123, 'semantic_similarity': 0.8743495345115662, 'bleu_score': 0.14285714285714285, 'em_score': 0.0, 'f1_score': 28.57142857142857}, {'question': 'Для каких видов млекопитающих особо важна слепая кишка?', 'answer_validate': 'Для видов, кормящихся грубой растительной пищей', 'answer_model': 'Для видов, кормящихся грубой растительной пищей.', 'answer_len': 48, 'inference_time': 0.34270453453063965, 'semantic_similarity': 0.9991160035133362, 'bleu_score': 0.875, 'em_score': 100.0, 'f1_score': 100.0}, {'question': 'В каком году истекает договор аренды Байконура', 'answer_validate': '2050', 'answer_model': 'Договор аренды комплекса Байконур истекает в 2050 году.', 'answer_len': 55, 'inference_time': 0.4159402847290039, 'semantic_similarity': 0.6910439729690552, 'bleu_score': 0.11111111111111109, 'em_score': 0.0, 'f1_score': 22.22222222222222}, {'question': 'Сколько стоит эксплуатация космодрома?', 'answer_validate': '9 млрд рублей в год', 'answer_model': 'Эксплуатация космодрома стоит около 9 млрд рублей в год.', 'answer_len': 56, 'inference_time': 0.3969547748565674, 'semantic_similarity': 0.9110720157623291, 'bleu_score': 0.5, 'em_score': 0.0, 'f1_score': 71.42857142857143}, {'question': 'В какую сумму в бщей сложности космодром и город обходятся бюджету России?', 'answer_validate': '10,16 млрд рублей в год.', 'answer_model': 'В общей сложности космодром и город обходятся бюджету России в 10,16 млрд рублей в год.', 'answer_len': 87, 'inference_time': 0.4863705635070801, 'semantic_similarity': 0.9068432450294495, 'bleu_score': 0.375, 'em_score': 0.0, 'f1_score': 50.0}, {'question': 'Что образуют вместе город Байконур и космодром Байконур?', 'answer_validate': 'комплекс Байконур ', 'answer_model': 'Комплекс Байконур.', 'answer_len': 18, 'inference_time': 0.25746822357177734, 'semantic_similarity': 0.9958178400993347, 'bleu_score': 0.3333333333333333, 'em_score': 100.0, 'f1_score': 100.0}, {'question': 'Какая сумма выплачивается городу Байконур из федерального бюджета России?', 'answer_validate': '1,16 млрд рублей', 'answer_model': '1,16 млрд рублей.', 'answer_len': 17, 'inference_time': 0.2792844772338867, 'semantic_similarity': 0.9961345195770264, 'bleu_score': 0.75, 'em_score': 100.0, 'f1_score': 100.0}, {'question': 'У кого Россия арендует этот комплекс?', 'answer_validate': 'у Казахстана', 'answer_model': 'У Казахстана.', 'answer_len': 13, 'inference_time': 0.26810479164123535, 'semantic_similarity': 0.995764434337616, 'bleu_score': 0.3333333333333333, 'em_score': 100.0, 'f1_score': 100.0}, {'question': 'На какой период был арендован Россией комплекс Байконур ', 'answer_validate': 'до 2050 года', 'answer_model': 'На период до 2050 года.', 'answer_len': 23, 'inference_time': 0.30745935440063477, 'semantic_similarity': 0.9475510120391846, 'bleu_score': 0.5, 'em_score': 0.0, 'f1_score': 74.99999999999999}, {'question': 'Какой страной комплекс Байконур арендуется у Казахстана?', 'answer_validate': 'Россией', 'answer_model': 'Россией.', 'answer_len': 8, 'inference_time': 0.25699543952941895, 'semantic_similarity': 0.9920145273208618, 'bleu_score': 0.5, 'em_score': 100.0, 'f1_score': 100.0}, {'question': 'В какую сумму обходится эксплуатация космодрома Байконур в год?', 'answer_validate': '9 млрд рублей', 'answer_model': 'Около 9 млрд рублей в год.', 'answer_len': 26, 'inference_time': 0.33333778381347656, 'semantic_similarity': 0.9116678833961487, 'bleu_score': 0.42857142857142855, 'em_score': 0.0, 'f1_score': 66.66666666666666}, {'question': 'Сколько стоит Байконур', 'answer_validate': '9 млрд рублей в год', 'answer_model': 'Эксплуатация космодрома Байконур стоит около 9 млрд рублей в год. Стоимость аренды комплекса Байконур составляет 115 млн долларов — около 7,4 млрд рублей в год. В общей сложности космодром и город обходятся бюджету России в 10,16 млрд рублей в год.', 'answer_len': 248, 'inference_time': 1.0388052463531494, 'semantic_similarity': 0.8657044768333435, 'bleu_score': 0.11627906976744189, 'em_score': 0.0, 'f1_score': 22.22222222222222}, {'question': 'Что образует комплекс Байконур ?', 'answer_validate': 'Город Байконур и космодром Байконур', 'answer_model': 'Город Байконур и космодром Байконур.', 'answer_len': 36, 'inference_time': 0.31592464447021484, 'semantic_similarity': 0.9981045722961426, 'bleu_score': 0.8333333333333334, 'em_score': 100.0, 'f1_score': 100.0}, {'question': 'У какой страны Россия арендует комплекс Байконур ?', 'answer_validate': 'у Казахстана', 'answer_model': 'У Казахстана.', 'answer_len': 13, 'inference_time': 0.23096036911010742, 'semantic_similarity': 0.995764434337616, 'bleu_score': 0.3333333333333333, 'em_score': 100.0, 'f1_score': 100.0}, {'question': 'Какова стоимость эксплуатации космодрома в год?', 'answer_validate': 'около 9 млрд рублей', 'answer_model': 'Около 9 млрд рублей в год.', 'answer_len': 26, 'inference_time': 0.3098001480102539, 'semantic_similarity': 0.9458074569702148, 'bleu_score': 0.42857142857142855, 'em_score': 0.0, 'f1_score': 80.0}, {'question': 'Во сколько обходится содержание и эксплуатация города Байконур и космодрома Байконур для российского бюджета?', 'answer_validate': 'в 10,16 млрд рублей в год', 'answer_model': 'Содержание и эксплуатация города Байконур и космодрома Байконур для российского бюджета обходятся в 10,16 млрд рублей в год.', 'answer_len': 124, 'inference_time': 0.5953028202056885, 'semantic_similarity': 0.8564684987068176, 'bleu_score': 0.3157894736842105, 'em_score': 0.0, 'f1_score': 50.0}, {'question': 'Где расположен российский космодром', 'answer_validate': 'Байконур', 'answer_model': 'В городе Байконур.', 'answer_len': 18, 'inference_time': 0.3062717914581299, 'semantic_similarity': 0.9291647672653198, 'bleu_score': 0.25, 'em_score': 0.0, 'f1_score': 50.0}, {'question': 'У кого был арендован Россией комплекс Байконур ?', 'answer_validate': 'у Казахстана', 'answer_model': 'У Казахстана.', 'answer_len': 13, 'inference_time': 0.3054535388946533, 'semantic_similarity': 0.995764434337616, 'bleu_score': 0.3333333333333333, 'em_score': 100.0, 'f1_score': 100.0}, {'question': 'У кого Россия арендует космодром', 'answer_validate': 'у Казахстана', 'answer_model': 'Россия арендует космодром Байконур у Казахстана.', 'answer_len': 48, 'inference_time': 0.30703091621398926, 'semantic_similarity': 0.876293420791626, 'bleu_score': 0.2857142857142857, 'em_score': 0.0, 'f1_score': 50.0}, {'question': 'На какой период заключен договор аренды?', 'answer_validate': 'до 2050 года', 'answer_model': 'Договор аренды комплекса Байконур заключен на период до 2050 года.', 'answer_len': 66, 'inference_time': 0.3834664821624756, 'semantic_similarity': 0.8151430487632751, 'bleu_score': 0.2727272727272727, 'em_score': 0.0, 'f1_score': 46.15384615384615}, {'question': 'Кому принадлежали согласно буллы все земли к западу и к югу от линии, соединяющей полюса Земли и проходящей в ста лигах западнее и южнее любого из островов Азорских островов или островов Кабо-Верде ?', 'answer_validate': 'принадлежали Испании', 'answer_model': 'Согласно булле Inter caetera все земли к западу и к югу от линии, соединяющей полюса Земли и проходящей в ста лигах западнее и южнее любого из островов Азорских островов или островов Кабо-Верде, принадлежали Испании.', 'answer_len': 216, 'inference_time': 0.7949142456054688, 'semantic_similarity': 0.8546302914619446, 'bleu_score': 0.054054054054054064, 'em_score': 0.0, 'f1_score': 11.11111111111111}, {'question': 'В чем возникла необходимость после прибытия Колумба из Вест-Индии ?', 'answer_validate': 'необходимость в разделении сфер влияния между Испанией и Португалией', 'answer_model': 'В разделении сфер влияния между Испанией и Португалией, чтобы избежать конфликтов.', 'answer_len': 82, 'inference_time': 0.40297603607177734, 'semantic_similarity': 0.9882246255874634, 'bleu_score': 0.5384615384615384, 'em_score': 0.0, 'f1_score': 80.0}]\n"
     ]
    }
   ],
   "execution_count": 74
  },
  {
   "metadata": {
    "ExecuteTime": {
     "end_time": "2025-09-06T12:23:18.245866Z",
     "start_time": "2025-09-06T12:23:18.244281Z"
    }
   },
   "cell_type": "code",
   "source": "Запускаем код 3 раза для разной температуры генерации  (0.1, 0.5, 0.9)",
   "id": "6b0384ad015bf886",
   "outputs": [],
   "execution_count": null
  },
  {
   "metadata": {
    "ExecuteTime": {
     "end_time": "2025-09-06T12:23:18.294118Z",
     "start_time": "2025-09-06T12:23:18.292629Z"
    }
   },
   "cell_type": "code",
   "source": "",
   "id": "f3f7702431c658d5",
   "outputs": [],
   "execution_count": null
  }
 ],
 "metadata": {},
 "nbformat": 4,
 "nbformat_minor": 5
}
