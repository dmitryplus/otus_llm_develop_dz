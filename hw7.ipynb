{
 "cells": [
  {
   "metadata": {},
   "cell_type": "markdown",
   "source": [
    "# ДЗ: Дообучение модели под свою задачу и интеграция с внешними функциями\n",
    "\n",
    "Будем дообучать модель YandexGPT Lite по методу LoRA"
   ],
   "id": "f5b38e808cd11f72"
  },
  {
   "metadata": {
    "ExecuteTime": {
     "end_time": "2025-10-18T14:31:45.554780Z",
     "start_time": "2025-10-18T14:31:41.434096Z"
    }
   },
   "cell_type": "code",
   "source": [
    "%pip install yandex-cloud-ml-sdk\n",
    "%pip install datasets\n",
    "%pip install evaluate\n",
    "%pip install rouge_score\n",
    "%pip install kagglehub[pandas-datasets]\n",
    "%pip install langchain\n"
   ],
   "id": "38341cda85091a84",
   "outputs": [
    {
     "name": "stderr",
     "output_type": "stream",
     "text": [
      "WARNING: All log messages before absl::InitializeLog() is called are written to STDERR\n",
      "I0000 00:00:1760797901.438128   13512 fork_posix.cc:71] Other threads are currently calling into gRPC, skipping fork() handlers\n"
     ]
    },
    {
     "name": "stdout",
     "output_type": "stream",
     "text": [
      "Requirement already satisfied: yandex-cloud-ml-sdk in /home/dmitry/PyCharmMiscProject/.venv/lib/python3.12/site-packages (0.16.0)\r\n",
      "Requirement already satisfied: yandexcloud>=0.359.0 in /home/dmitry/PyCharmMiscProject/.venv/lib/python3.12/site-packages (from yandex-cloud-ml-sdk) (0.361.0)\r\n",
      "Requirement already satisfied: grpcio>=1.70.0 in /home/dmitry/PyCharmMiscProject/.venv/lib/python3.12/site-packages (from yandex-cloud-ml-sdk) (1.75.1)\r\n",
      "Requirement already satisfied: get-annotations in /home/dmitry/PyCharmMiscProject/.venv/lib/python3.12/site-packages (from yandex-cloud-ml-sdk) (0.1.2)\r\n",
      "Requirement already satisfied: httpx<1,>=0.27 in /home/dmitry/PyCharmMiscProject/.venv/lib/python3.12/site-packages (from yandex-cloud-ml-sdk) (0.28.1)\r\n",
      "Requirement already satisfied: httpx-sse>=0.4.1 in /home/dmitry/PyCharmMiscProject/.venv/lib/python3.12/site-packages (from yandex-cloud-ml-sdk) (0.4.1)\r\n",
      "Requirement already satisfied: typing-extensions>=4 in /home/dmitry/PyCharmMiscProject/.venv/lib/python3.12/site-packages (from yandex-cloud-ml-sdk) (4.14.1)\r\n",
      "Requirement already satisfied: aiofiles>=24.1.0 in /home/dmitry/PyCharmMiscProject/.venv/lib/python3.12/site-packages (from yandex-cloud-ml-sdk) (24.1.0)\r\n",
      "Requirement already satisfied: packaging>=24 in /home/dmitry/PyCharmMiscProject/.venv/lib/python3.12/site-packages (from yandex-cloud-ml-sdk) (25.0)\r\n",
      "Requirement already satisfied: anyio in /home/dmitry/PyCharmMiscProject/.venv/lib/python3.12/site-packages (from httpx<1,>=0.27->yandex-cloud-ml-sdk) (4.10.0)\r\n",
      "Requirement already satisfied: certifi in /home/dmitry/PyCharmMiscProject/.venv/lib/python3.12/site-packages (from httpx<1,>=0.27->yandex-cloud-ml-sdk) (2025.8.3)\r\n",
      "Requirement already satisfied: httpcore==1.* in /home/dmitry/PyCharmMiscProject/.venv/lib/python3.12/site-packages (from httpx<1,>=0.27->yandex-cloud-ml-sdk) (1.0.9)\r\n",
      "Requirement already satisfied: idna in /home/dmitry/PyCharmMiscProject/.venv/lib/python3.12/site-packages (from httpx<1,>=0.27->yandex-cloud-ml-sdk) (3.10)\r\n",
      "Requirement already satisfied: h11>=0.16 in /home/dmitry/PyCharmMiscProject/.venv/lib/python3.12/site-packages (from httpcore==1.*->httpx<1,>=0.27->yandex-cloud-ml-sdk) (0.16.0)\r\n",
      "Requirement already satisfied: cryptography>=44.0.0 in /home/dmitry/PyCharmMiscProject/.venv/lib/python3.12/site-packages (from yandexcloud>=0.359.0->yandex-cloud-ml-sdk) (45.0.6)\r\n",
      "Requirement already satisfied: protobuf<6,>=5.29.1 in /home/dmitry/PyCharmMiscProject/.venv/lib/python3.12/site-packages (from yandexcloud>=0.359.0->yandex-cloud-ml-sdk) (5.29.5)\r\n",
      "Requirement already satisfied: googleapis-common-protos<2,>=1.66.0 in /home/dmitry/PyCharmMiscProject/.venv/lib/python3.12/site-packages (from yandexcloud>=0.359.0->yandex-cloud-ml-sdk) (1.70.0)\r\n",
      "Requirement already satisfied: pyjwt<3,>=2.10.1 in /home/dmitry/PyCharmMiscProject/.venv/lib/python3.12/site-packages (from yandexcloud>=0.359.0->yandex-cloud-ml-sdk) (2.10.1)\r\n",
      "Requirement already satisfied: requests<3,>=2.32.3 in /home/dmitry/PyCharmMiscProject/.venv/lib/python3.12/site-packages (from yandexcloud>=0.359.0->yandex-cloud-ml-sdk) (2.32.5)\r\n",
      "Requirement already satisfied: six<2,>=1.17.0 in /home/dmitry/PyCharmMiscProject/.venv/lib/python3.12/site-packages (from yandexcloud>=0.359.0->yandex-cloud-ml-sdk) (1.17.0)\r\n",
      "Requirement already satisfied: grpcio-tools>=1.68.1 in /home/dmitry/PyCharmMiscProject/.venv/lib/python3.12/site-packages (from yandexcloud>=0.359.0->yandex-cloud-ml-sdk) (1.71.2)\r\n",
      "Requirement already satisfied: deprecated>=1.2.18 in /home/dmitry/PyCharmMiscProject/.venv/lib/python3.12/site-packages (from yandexcloud>=0.359.0->yandex-cloud-ml-sdk) (1.2.18)\r\n",
      "Requirement already satisfied: charset_normalizer<4,>=2 in /home/dmitry/PyCharmMiscProject/.venv/lib/python3.12/site-packages (from requests<3,>=2.32.3->yandexcloud>=0.359.0->yandex-cloud-ml-sdk) (3.4.3)\r\n",
      "Requirement already satisfied: urllib3<3,>=1.21.1 in /home/dmitry/PyCharmMiscProject/.venv/lib/python3.12/site-packages (from requests<3,>=2.32.3->yandexcloud>=0.359.0->yandex-cloud-ml-sdk) (2.5.0)\r\n",
      "Requirement already satisfied: cffi>=1.14 in /home/dmitry/PyCharmMiscProject/.venv/lib/python3.12/site-packages (from cryptography>=44.0.0->yandexcloud>=0.359.0->yandex-cloud-ml-sdk) (1.17.1)\r\n",
      "Requirement already satisfied: pycparser in /home/dmitry/PyCharmMiscProject/.venv/lib/python3.12/site-packages (from cffi>=1.14->cryptography>=44.0.0->yandexcloud>=0.359.0->yandex-cloud-ml-sdk) (2.22)\r\n",
      "Requirement already satisfied: wrapt<2,>=1.10 in /home/dmitry/PyCharmMiscProject/.venv/lib/python3.12/site-packages (from deprecated>=1.2.18->yandexcloud>=0.359.0->yandex-cloud-ml-sdk) (1.17.3)\r\n",
      "Requirement already satisfied: setuptools in /home/dmitry/PyCharmMiscProject/.venv/lib/python3.12/site-packages (from grpcio-tools>=1.68.1->yandexcloud>=0.359.0->yandex-cloud-ml-sdk) (79.0.1)\r\n",
      "Requirement already satisfied: sniffio>=1.1 in /home/dmitry/PyCharmMiscProject/.venv/lib/python3.12/site-packages (from anyio->httpx<1,>=0.27->yandex-cloud-ml-sdk) (1.3.1)\r\n",
      "Note: you may need to restart the kernel to use updated packages.\n"
     ]
    },
    {
     "name": "stderr",
     "output_type": "stream",
     "text": [
      "I0000 00:00:1760797902.411307   13512 fork_posix.cc:71] Other threads are currently calling into gRPC, skipping fork() handlers\n"
     ]
    },
    {
     "name": "stdout",
     "output_type": "stream",
     "text": [
      "Requirement already satisfied: datasets in /home/dmitry/PyCharmMiscProject/.venv/lib/python3.12/site-packages (2.16.1)\r\n",
      "Requirement already satisfied: filelock in /home/dmitry/PyCharmMiscProject/.venv/lib/python3.12/site-packages (from datasets) (3.19.1)\r\n",
      "Requirement already satisfied: numpy>=1.17 in /home/dmitry/PyCharmMiscProject/.venv/lib/python3.12/site-packages (from datasets) (2.2.6)\r\n",
      "Requirement already satisfied: pyarrow>=8.0.0 in /home/dmitry/PyCharmMiscProject/.venv/lib/python3.12/site-packages (from datasets) (21.0.0)\r\n",
      "Requirement already satisfied: pyarrow-hotfix in /home/dmitry/PyCharmMiscProject/.venv/lib/python3.12/site-packages (from datasets) (0.7)\r\n",
      "Requirement already satisfied: dill<0.3.8,>=0.3.0 in /home/dmitry/PyCharmMiscProject/.venv/lib/python3.12/site-packages (from datasets) (0.3.7)\r\n",
      "Requirement already satisfied: pandas in /home/dmitry/PyCharmMiscProject/.venv/lib/python3.12/site-packages (from datasets) (2.3.1)\r\n",
      "Requirement already satisfied: requests>=2.19.0 in /home/dmitry/PyCharmMiscProject/.venv/lib/python3.12/site-packages (from datasets) (2.32.5)\r\n",
      "Requirement already satisfied: tqdm>=4.62.1 in /home/dmitry/PyCharmMiscProject/.venv/lib/python3.12/site-packages (from datasets) (4.67.1)\r\n",
      "Requirement already satisfied: xxhash in /home/dmitry/PyCharmMiscProject/.venv/lib/python3.12/site-packages (from datasets) (3.5.0)\r\n",
      "Requirement already satisfied: multiprocess in /home/dmitry/PyCharmMiscProject/.venv/lib/python3.12/site-packages (from datasets) (0.70.15)\r\n",
      "Requirement already satisfied: fsspec<=2023.10.0,>=2023.1.0 in /home/dmitry/PyCharmMiscProject/.venv/lib/python3.12/site-packages (from fsspec[http]<=2023.10.0,>=2023.1.0->datasets) (2023.10.0)\r\n",
      "Requirement already satisfied: aiohttp in /home/dmitry/PyCharmMiscProject/.venv/lib/python3.12/site-packages (from datasets) (3.12.15)\r\n",
      "Requirement already satisfied: huggingface-hub>=0.19.4 in /home/dmitry/PyCharmMiscProject/.venv/lib/python3.12/site-packages (from datasets) (0.34.4)\r\n",
      "Requirement already satisfied: packaging in /home/dmitry/PyCharmMiscProject/.venv/lib/python3.12/site-packages (from datasets) (25.0)\r\n",
      "Requirement already satisfied: pyyaml>=5.1 in /home/dmitry/PyCharmMiscProject/.venv/lib/python3.12/site-packages (from datasets) (6.0.2)\r\n",
      "Requirement already satisfied: aiohappyeyeballs>=2.5.0 in /home/dmitry/PyCharmMiscProject/.venv/lib/python3.12/site-packages (from aiohttp->datasets) (2.6.1)\r\n",
      "Requirement already satisfied: aiosignal>=1.4.0 in /home/dmitry/PyCharmMiscProject/.venv/lib/python3.12/site-packages (from aiohttp->datasets) (1.4.0)\r\n",
      "Requirement already satisfied: attrs>=17.3.0 in /home/dmitry/PyCharmMiscProject/.venv/lib/python3.12/site-packages (from aiohttp->datasets) (25.3.0)\r\n",
      "Requirement already satisfied: frozenlist>=1.1.1 in /home/dmitry/PyCharmMiscProject/.venv/lib/python3.12/site-packages (from aiohttp->datasets) (1.7.0)\r\n",
      "Requirement already satisfied: multidict<7.0,>=4.5 in /home/dmitry/PyCharmMiscProject/.venv/lib/python3.12/site-packages (from aiohttp->datasets) (6.6.4)\r\n",
      "Requirement already satisfied: propcache>=0.2.0 in /home/dmitry/PyCharmMiscProject/.venv/lib/python3.12/site-packages (from aiohttp->datasets) (0.3.2)\r\n",
      "Requirement already satisfied: yarl<2.0,>=1.17.0 in /home/dmitry/PyCharmMiscProject/.venv/lib/python3.12/site-packages (from aiohttp->datasets) (1.20.1)\r\n",
      "Requirement already satisfied: idna>=2.0 in /home/dmitry/PyCharmMiscProject/.venv/lib/python3.12/site-packages (from yarl<2.0,>=1.17.0->aiohttp->datasets) (3.10)\r\n",
      "Requirement already satisfied: typing-extensions>=4.2 in /home/dmitry/PyCharmMiscProject/.venv/lib/python3.12/site-packages (from aiosignal>=1.4.0->aiohttp->datasets) (4.14.1)\r\n",
      "Requirement already satisfied: hf-xet<2.0.0,>=1.1.3 in /home/dmitry/PyCharmMiscProject/.venv/lib/python3.12/site-packages (from huggingface-hub>=0.19.4->datasets) (1.1.7)\r\n",
      "Requirement already satisfied: charset_normalizer<4,>=2 in /home/dmitry/PyCharmMiscProject/.venv/lib/python3.12/site-packages (from requests>=2.19.0->datasets) (3.4.3)\r\n",
      "Requirement already satisfied: urllib3<3,>=1.21.1 in /home/dmitry/PyCharmMiscProject/.venv/lib/python3.12/site-packages (from requests>=2.19.0->datasets) (2.5.0)\r\n",
      "Requirement already satisfied: certifi>=2017.4.17 in /home/dmitry/PyCharmMiscProject/.venv/lib/python3.12/site-packages (from requests>=2.19.0->datasets) (2025.8.3)\r\n",
      "Requirement already satisfied: python-dateutil>=2.8.2 in /home/dmitry/PyCharmMiscProject/.venv/lib/python3.12/site-packages (from pandas->datasets) (2.9.0.post0)\r\n",
      "Requirement already satisfied: pytz>=2020.1 in /home/dmitry/PyCharmMiscProject/.venv/lib/python3.12/site-packages (from pandas->datasets) (2025.2)\r\n",
      "Requirement already satisfied: tzdata>=2022.7 in /home/dmitry/PyCharmMiscProject/.venv/lib/python3.12/site-packages (from pandas->datasets) (2025.2)\r\n",
      "Requirement already satisfied: six>=1.5 in /home/dmitry/PyCharmMiscProject/.venv/lib/python3.12/site-packages (from python-dateutil>=2.8.2->pandas->datasets) (1.17.0)\r\n",
      "Note: you may need to restart the kernel to use updated packages.\n"
     ]
    },
    {
     "name": "stderr",
     "output_type": "stream",
     "text": [
      "I0000 00:00:1760797903.135028   13512 fork_posix.cc:71] Other threads are currently calling into gRPC, skipping fork() handlers\n"
     ]
    },
    {
     "name": "stdout",
     "output_type": "stream",
     "text": [
      "Requirement already satisfied: evaluate in /home/dmitry/PyCharmMiscProject/.venv/lib/python3.12/site-packages (0.4.0)\r\n",
      "Requirement already satisfied: datasets>=2.0.0 in /home/dmitry/PyCharmMiscProject/.venv/lib/python3.12/site-packages (from evaluate) (2.16.1)\r\n",
      "Requirement already satisfied: numpy>=1.17 in /home/dmitry/PyCharmMiscProject/.venv/lib/python3.12/site-packages (from evaluate) (2.2.6)\r\n",
      "Requirement already satisfied: dill in /home/dmitry/PyCharmMiscProject/.venv/lib/python3.12/site-packages (from evaluate) (0.3.7)\r\n",
      "Requirement already satisfied: pandas in /home/dmitry/PyCharmMiscProject/.venv/lib/python3.12/site-packages (from evaluate) (2.3.1)\r\n",
      "Requirement already satisfied: requests>=2.19.0 in /home/dmitry/PyCharmMiscProject/.venv/lib/python3.12/site-packages (from evaluate) (2.32.5)\r\n",
      "Requirement already satisfied: tqdm>=4.62.1 in /home/dmitry/PyCharmMiscProject/.venv/lib/python3.12/site-packages (from evaluate) (4.67.1)\r\n",
      "Requirement already satisfied: xxhash in /home/dmitry/PyCharmMiscProject/.venv/lib/python3.12/site-packages (from evaluate) (3.5.0)\r\n",
      "Requirement already satisfied: multiprocess in /home/dmitry/PyCharmMiscProject/.venv/lib/python3.12/site-packages (from evaluate) (0.70.15)\r\n",
      "Requirement already satisfied: fsspec>=2021.05.0 in /home/dmitry/PyCharmMiscProject/.venv/lib/python3.12/site-packages (from fsspec[http]>=2021.05.0->evaluate) (2023.10.0)\r\n",
      "Requirement already satisfied: huggingface-hub>=0.7.0 in /home/dmitry/PyCharmMiscProject/.venv/lib/python3.12/site-packages (from evaluate) (0.34.4)\r\n",
      "Requirement already satisfied: packaging in /home/dmitry/PyCharmMiscProject/.venv/lib/python3.12/site-packages (from evaluate) (25.0)\r\n",
      "Requirement already satisfied: responses<0.19 in /home/dmitry/PyCharmMiscProject/.venv/lib/python3.12/site-packages (from evaluate) (0.18.0)\r\n",
      "Requirement already satisfied: urllib3>=1.25.10 in /home/dmitry/PyCharmMiscProject/.venv/lib/python3.12/site-packages (from responses<0.19->evaluate) (2.5.0)\r\n",
      "Requirement already satisfied: charset_normalizer<4,>=2 in /home/dmitry/PyCharmMiscProject/.venv/lib/python3.12/site-packages (from requests>=2.19.0->evaluate) (3.4.3)\r\n",
      "Requirement already satisfied: idna<4,>=2.5 in /home/dmitry/PyCharmMiscProject/.venv/lib/python3.12/site-packages (from requests>=2.19.0->evaluate) (3.10)\r\n",
      "Requirement already satisfied: certifi>=2017.4.17 in /home/dmitry/PyCharmMiscProject/.venv/lib/python3.12/site-packages (from requests>=2.19.0->evaluate) (2025.8.3)\r\n",
      "Requirement already satisfied: filelock in /home/dmitry/PyCharmMiscProject/.venv/lib/python3.12/site-packages (from datasets>=2.0.0->evaluate) (3.19.1)\r\n",
      "Requirement already satisfied: pyarrow>=8.0.0 in /home/dmitry/PyCharmMiscProject/.venv/lib/python3.12/site-packages (from datasets>=2.0.0->evaluate) (21.0.0)\r\n",
      "Requirement already satisfied: pyarrow-hotfix in /home/dmitry/PyCharmMiscProject/.venv/lib/python3.12/site-packages (from datasets>=2.0.0->evaluate) (0.7)\r\n",
      "Requirement already satisfied: aiohttp in /home/dmitry/PyCharmMiscProject/.venv/lib/python3.12/site-packages (from datasets>=2.0.0->evaluate) (3.12.15)\r\n",
      "Requirement already satisfied: pyyaml>=5.1 in /home/dmitry/PyCharmMiscProject/.venv/lib/python3.12/site-packages (from datasets>=2.0.0->evaluate) (6.0.2)\r\n",
      "Requirement already satisfied: aiohappyeyeballs>=2.5.0 in /home/dmitry/PyCharmMiscProject/.venv/lib/python3.12/site-packages (from aiohttp->datasets>=2.0.0->evaluate) (2.6.1)\r\n",
      "Requirement already satisfied: aiosignal>=1.4.0 in /home/dmitry/PyCharmMiscProject/.venv/lib/python3.12/site-packages (from aiohttp->datasets>=2.0.0->evaluate) (1.4.0)\r\n",
      "Requirement already satisfied: attrs>=17.3.0 in /home/dmitry/PyCharmMiscProject/.venv/lib/python3.12/site-packages (from aiohttp->datasets>=2.0.0->evaluate) (25.3.0)\r\n",
      "Requirement already satisfied: frozenlist>=1.1.1 in /home/dmitry/PyCharmMiscProject/.venv/lib/python3.12/site-packages (from aiohttp->datasets>=2.0.0->evaluate) (1.7.0)\r\n",
      "Requirement already satisfied: multidict<7.0,>=4.5 in /home/dmitry/PyCharmMiscProject/.venv/lib/python3.12/site-packages (from aiohttp->datasets>=2.0.0->evaluate) (6.6.4)\r\n",
      "Requirement already satisfied: propcache>=0.2.0 in /home/dmitry/PyCharmMiscProject/.venv/lib/python3.12/site-packages (from aiohttp->datasets>=2.0.0->evaluate) (0.3.2)\r\n",
      "Requirement already satisfied: yarl<2.0,>=1.17.0 in /home/dmitry/PyCharmMiscProject/.venv/lib/python3.12/site-packages (from aiohttp->datasets>=2.0.0->evaluate) (1.20.1)\r\n",
      "Requirement already satisfied: typing-extensions>=4.2 in /home/dmitry/PyCharmMiscProject/.venv/lib/python3.12/site-packages (from aiosignal>=1.4.0->aiohttp->datasets>=2.0.0->evaluate) (4.14.1)\r\n",
      "Requirement already satisfied: hf-xet<2.0.0,>=1.1.3 in /home/dmitry/PyCharmMiscProject/.venv/lib/python3.12/site-packages (from huggingface-hub>=0.7.0->evaluate) (1.1.7)\r\n",
      "Requirement already satisfied: python-dateutil>=2.8.2 in /home/dmitry/PyCharmMiscProject/.venv/lib/python3.12/site-packages (from pandas->evaluate) (2.9.0.post0)\r\n",
      "Requirement already satisfied: pytz>=2020.1 in /home/dmitry/PyCharmMiscProject/.venv/lib/python3.12/site-packages (from pandas->evaluate) (2025.2)\r\n",
      "Requirement already satisfied: tzdata>=2022.7 in /home/dmitry/PyCharmMiscProject/.venv/lib/python3.12/site-packages (from pandas->evaluate) (2025.2)\r\n",
      "Requirement already satisfied: six>=1.5 in /home/dmitry/PyCharmMiscProject/.venv/lib/python3.12/site-packages (from python-dateutil>=2.8.2->pandas->evaluate) (1.17.0)\r\n",
      "Note: you may need to restart the kernel to use updated packages.\n"
     ]
    },
    {
     "name": "stderr",
     "output_type": "stream",
     "text": [
      "I0000 00:00:1760797903.878629   13512 fork_posix.cc:71] Other threads are currently calling into gRPC, skipping fork() handlers\n"
     ]
    },
    {
     "name": "stdout",
     "output_type": "stream",
     "text": [
      "Requirement already satisfied: rouge_score in /home/dmitry/PyCharmMiscProject/.venv/lib/python3.12/site-packages (0.1.2)\r\n",
      "Requirement already satisfied: absl-py in /home/dmitry/PyCharmMiscProject/.venv/lib/python3.12/site-packages (from rouge_score) (2.3.1)\r\n",
      "Requirement already satisfied: nltk in /home/dmitry/PyCharmMiscProject/.venv/lib/python3.12/site-packages (from rouge_score) (3.9.2)\r\n",
      "Requirement already satisfied: numpy in /home/dmitry/PyCharmMiscProject/.venv/lib/python3.12/site-packages (from rouge_score) (2.2.6)\r\n",
      "Requirement already satisfied: six>=1.14.0 in /home/dmitry/PyCharmMiscProject/.venv/lib/python3.12/site-packages (from rouge_score) (1.17.0)\r\n",
      "Requirement already satisfied: click in /home/dmitry/PyCharmMiscProject/.venv/lib/python3.12/site-packages (from nltk->rouge_score) (8.2.1)\r\n",
      "Requirement already satisfied: joblib in /home/dmitry/PyCharmMiscProject/.venv/lib/python3.12/site-packages (from nltk->rouge_score) (1.5.1)\r\n",
      "Requirement already satisfied: regex>=2021.8.3 in /home/dmitry/PyCharmMiscProject/.venv/lib/python3.12/site-packages (from nltk->rouge_score) (2025.7.34)\r\n",
      "Requirement already satisfied: tqdm in /home/dmitry/PyCharmMiscProject/.venv/lib/python3.12/site-packages (from nltk->rouge_score) (4.67.1)\r\n",
      "Note: you may need to restart the kernel to use updated packages.\n",
      "zsh:1: no matches found: kagglehub[pandas-datasets]\r\n",
      "Note: you may need to restart the kernel to use updated packages.\n"
     ]
    },
    {
     "name": "stderr",
     "output_type": "stream",
     "text": [
      "I0000 00:00:1760797904.650186   13512 fork_posix.cc:71] Other threads are currently calling into gRPC, skipping fork() handlers\n",
      "I0000 00:00:1760797904.824280   13512 fork_posix.cc:71] Other threads are currently calling into gRPC, skipping fork() handlers\n"
     ]
    },
    {
     "name": "stdout",
     "output_type": "stream",
     "text": [
      "Requirement already satisfied: langchain in /home/dmitry/PyCharmMiscProject/.venv/lib/python3.12/site-packages (0.3.27)\r\n",
      "Requirement already satisfied: langchain-core<1.0.0,>=0.3.72 in /home/dmitry/PyCharmMiscProject/.venv/lib/python3.12/site-packages (from langchain) (0.3.75)\r\n",
      "Requirement already satisfied: langchain-text-splitters<1.0.0,>=0.3.9 in /home/dmitry/PyCharmMiscProject/.venv/lib/python3.12/site-packages (from langchain) (0.3.11)\r\n",
      "Requirement already satisfied: langsmith>=0.1.17 in /home/dmitry/PyCharmMiscProject/.venv/lib/python3.12/site-packages (from langchain) (0.4.27)\r\n",
      "Requirement already satisfied: pydantic<3.0.0,>=2.7.4 in /home/dmitry/PyCharmMiscProject/.venv/lib/python3.12/site-packages (from langchain) (2.11.7)\r\n",
      "Requirement already satisfied: SQLAlchemy<3,>=1.4 in /home/dmitry/PyCharmMiscProject/.venv/lib/python3.12/site-packages (from langchain) (2.0.43)\r\n",
      "Requirement already satisfied: requests<3,>=2 in /home/dmitry/PyCharmMiscProject/.venv/lib/python3.12/site-packages (from langchain) (2.32.5)\r\n",
      "Requirement already satisfied: PyYAML>=5.3 in /home/dmitry/PyCharmMiscProject/.venv/lib/python3.12/site-packages (from langchain) (6.0.2)\r\n",
      "Requirement already satisfied: tenacity!=8.4.0,<10.0.0,>=8.1.0 in /home/dmitry/PyCharmMiscProject/.venv/lib/python3.12/site-packages (from langchain-core<1.0.0,>=0.3.72->langchain) (9.1.2)\r\n",
      "Requirement already satisfied: jsonpatch<2.0,>=1.33 in /home/dmitry/PyCharmMiscProject/.venv/lib/python3.12/site-packages (from langchain-core<1.0.0,>=0.3.72->langchain) (1.33)\r\n",
      "Requirement already satisfied: typing-extensions>=4.7 in /home/dmitry/PyCharmMiscProject/.venv/lib/python3.12/site-packages (from langchain-core<1.0.0,>=0.3.72->langchain) (4.14.1)\r\n",
      "Requirement already satisfied: packaging>=23.2 in /home/dmitry/PyCharmMiscProject/.venv/lib/python3.12/site-packages (from langchain-core<1.0.0,>=0.3.72->langchain) (25.0)\r\n",
      "Requirement already satisfied: jsonpointer>=1.9 in /home/dmitry/PyCharmMiscProject/.venv/lib/python3.12/site-packages (from jsonpatch<2.0,>=1.33->langchain-core<1.0.0,>=0.3.72->langchain) (3.0.0)\r\n",
      "Requirement already satisfied: annotated-types>=0.6.0 in /home/dmitry/PyCharmMiscProject/.venv/lib/python3.12/site-packages (from pydantic<3.0.0,>=2.7.4->langchain) (0.7.0)\r\n",
      "Requirement already satisfied: pydantic-core==2.33.2 in /home/dmitry/PyCharmMiscProject/.venv/lib/python3.12/site-packages (from pydantic<3.0.0,>=2.7.4->langchain) (2.33.2)\r\n",
      "Requirement already satisfied: typing-inspection>=0.4.0 in /home/dmitry/PyCharmMiscProject/.venv/lib/python3.12/site-packages (from pydantic<3.0.0,>=2.7.4->langchain) (0.4.1)\r\n",
      "Requirement already satisfied: charset_normalizer<4,>=2 in /home/dmitry/PyCharmMiscProject/.venv/lib/python3.12/site-packages (from requests<3,>=2->langchain) (3.4.3)\r\n",
      "Requirement already satisfied: idna<4,>=2.5 in /home/dmitry/PyCharmMiscProject/.venv/lib/python3.12/site-packages (from requests<3,>=2->langchain) (3.10)\r\n",
      "Requirement already satisfied: urllib3<3,>=1.21.1 in /home/dmitry/PyCharmMiscProject/.venv/lib/python3.12/site-packages (from requests<3,>=2->langchain) (2.5.0)\r\n",
      "Requirement already satisfied: certifi>=2017.4.17 in /home/dmitry/PyCharmMiscProject/.venv/lib/python3.12/site-packages (from requests<3,>=2->langchain) (2025.8.3)\r\n",
      "Requirement already satisfied: greenlet>=1 in /home/dmitry/PyCharmMiscProject/.venv/lib/python3.12/site-packages (from SQLAlchemy<3,>=1.4->langchain) (3.2.4)\r\n",
      "Requirement already satisfied: httpx<1,>=0.23.0 in /home/dmitry/PyCharmMiscProject/.venv/lib/python3.12/site-packages (from langsmith>=0.1.17->langchain) (0.28.1)\r\n",
      "Requirement already satisfied: orjson>=3.9.14 in /home/dmitry/PyCharmMiscProject/.venv/lib/python3.12/site-packages (from langsmith>=0.1.17->langchain) (3.11.3)\r\n",
      "Requirement already satisfied: requests-toolbelt>=1.0.0 in /home/dmitry/PyCharmMiscProject/.venv/lib/python3.12/site-packages (from langsmith>=0.1.17->langchain) (1.0.0)\r\n",
      "Requirement already satisfied: zstandard>=0.23.0 in /home/dmitry/PyCharmMiscProject/.venv/lib/python3.12/site-packages (from langsmith>=0.1.17->langchain) (0.24.0)\r\n",
      "Requirement already satisfied: anyio in /home/dmitry/PyCharmMiscProject/.venv/lib/python3.12/site-packages (from httpx<1,>=0.23.0->langsmith>=0.1.17->langchain) (4.10.0)\r\n",
      "Requirement already satisfied: httpcore==1.* in /home/dmitry/PyCharmMiscProject/.venv/lib/python3.12/site-packages (from httpx<1,>=0.23.0->langsmith>=0.1.17->langchain) (1.0.9)\r\n",
      "Requirement already satisfied: h11>=0.16 in /home/dmitry/PyCharmMiscProject/.venv/lib/python3.12/site-packages (from httpcore==1.*->httpx<1,>=0.23.0->langsmith>=0.1.17->langchain) (0.16.0)\r\n",
      "Requirement already satisfied: sniffio>=1.1 in /home/dmitry/PyCharmMiscProject/.venv/lib/python3.12/site-packages (from anyio->httpx<1,>=0.23.0->langsmith>=0.1.17->langchain) (1.3.1)\r\n",
      "Note: you may need to restart the kernel to use updated packages.\n"
     ]
    }
   ],
   "execution_count": 44
  },
  {
   "metadata": {},
   "cell_type": "markdown",
   "source": "Поднимаем sdk",
   "id": "c7a76e447009f51d"
  },
  {
   "metadata": {
    "ExecuteTime": {
     "end_time": "2025-10-18T13:25:10.723912Z",
     "start_time": "2025-10-18T13:25:10.720656Z"
    }
   },
   "cell_type": "code",
   "source": [
    "import os\n",
    "from yandex_cloud_ml_sdk import YCloudML\n",
    "\n",
    "\n",
    "YANDEX_CLOUD_FOLDER = os.getenv(\"folder_id\")\n",
    "YANDEX_CLOUD_API_KEY = os.getenv(\"ya_token\")\n",
    "\n",
    "sdk = YCloudML(\n",
    "    folder_id=YANDEX_CLOUD_FOLDER,\n",
    "    auth=YANDEX_CLOUD_API_KEY,\n",
    ")\n",
    "\n",
    "sdk.setup_default_logging()\n",
    "\n",
    "print(sdk)"
   ],
   "id": "70d1333b5a733dec",
   "outputs": [
    {
     "name": "stdout",
     "output_type": "stream",
     "text": [
      "<yandex_cloud_ml_sdk._sdk.YCloudML object at 0x7404ffb0baa0>\n"
     ]
    }
   ],
   "execution_count": 4
  },
  {
   "metadata": {},
   "cell_type": "markdown",
   "source": "Создаем базовую модель yandexgpt-lite",
   "id": "b581cd1f833a200d"
  },
  {
   "metadata": {
    "ExecuteTime": {
     "end_time": "2025-10-18T13:25:12.530352Z",
     "start_time": "2025-10-18T13:25:12.528149Z"
    }
   },
   "cell_type": "code",
   "source": "base_model = sdk.models.completions(\"yandexgpt-lite\")",
   "id": "b1787f75d3449831",
   "outputs": [],
   "execution_count": 5
  },
  {
   "metadata": {},
   "cell_type": "markdown",
   "source": "Скачиваем датасет bond005/russian-child-tales",
   "id": "21bb2ef4333f67c"
  },
  {
   "metadata": {
    "ExecuteTime": {
     "end_time": "2025-10-18T13:32:46.730092Z",
     "start_time": "2025-10-18T13:32:46.159459Z"
    }
   },
   "cell_type": "code",
   "source": [
    "import kagglehub\n",
    "import pandas as pd\n",
    "\n",
    "# Download latest version\n",
    "path = kagglehub.dataset_download(\"bond005/russian-child-tales\")\n",
    "\n",
    "file_path = os.path.join(path, \"test.csv\")\n",
    "\n",
    "# Загружаем данные в DataFrame\n",
    "df = pd.read_csv(file_path)\n",
    "\n",
    "# Вывод первых 5 записей\n",
    "print(\"Первые 5 записей датасета:\")\n",
    "display(df.head())\n",
    "\n"
   ],
   "id": "e7606bda9943acee",
   "outputs": [
    {
     "name": "stdout",
     "output_type": "stream",
     "text": [
      "Первые 5 записей датасета:\n"
     ]
    },
    {
     "data": {
      "text/plain": [
       "                                               query  \\\n",
       "0  Расскажи, пожалуйста, какие запахи приносит в ...   \n",
       "1                                Где же мой сверчок?   \n",
       "2  Мама, а ты можешь рассказать мне сказку (или и...   \n",
       "3        Можно я спрошу цветочки откуда они взялись?   \n",
       "4          Расскажи, пожалуйста, стишок про рыбалку.   \n",
       "\n",
       "                                            response  \n",
       "0  На мохнатых колких лапах\\nЕлка в дом приносит ...  \n",
       "1  Папа работал, \\nШуметь запрещал...\\nВдруг\\nПод...  \n",
       "2  Если вам уже лет двадцать,\\nВсё равно вы помни...  \n",
       "3  Эй, ромашки,\\nДайте мне ответ:\\nВы откуда,\\nЕс...  \n",
       "4  От рыбалки мало проку,\\nНе клюёт, хоть тресни,...  "
      ],
      "text/html": [
       "<div>\n",
       "<style scoped>\n",
       "    .dataframe tbody tr th:only-of-type {\n",
       "        vertical-align: middle;\n",
       "    }\n",
       "\n",
       "    .dataframe tbody tr th {\n",
       "        vertical-align: top;\n",
       "    }\n",
       "\n",
       "    .dataframe thead th {\n",
       "        text-align: right;\n",
       "    }\n",
       "</style>\n",
       "<table border=\"1\" class=\"dataframe\">\n",
       "  <thead>\n",
       "    <tr style=\"text-align: right;\">\n",
       "      <th></th>\n",
       "      <th>query</th>\n",
       "      <th>response</th>\n",
       "    </tr>\n",
       "  </thead>\n",
       "  <tbody>\n",
       "    <tr>\n",
       "      <th>0</th>\n",
       "      <td>Расскажи, пожалуйста, какие запахи приносит в ...</td>\n",
       "      <td>На мохнатых колких лапах\\nЕлка в дом приносит ...</td>\n",
       "    </tr>\n",
       "    <tr>\n",
       "      <th>1</th>\n",
       "      <td>Где же мой сверчок?</td>\n",
       "      <td>Папа работал, \\nШуметь запрещал...\\nВдруг\\nПод...</td>\n",
       "    </tr>\n",
       "    <tr>\n",
       "      <th>2</th>\n",
       "      <td>Мама, а ты можешь рассказать мне сказку (или и...</td>\n",
       "      <td>Если вам уже лет двадцать,\\nВсё равно вы помни...</td>\n",
       "    </tr>\n",
       "    <tr>\n",
       "      <th>3</th>\n",
       "      <td>Можно я спрошу цветочки откуда они взялись?</td>\n",
       "      <td>Эй, ромашки,\\nДайте мне ответ:\\nВы откуда,\\nЕс...</td>\n",
       "    </tr>\n",
       "    <tr>\n",
       "      <th>4</th>\n",
       "      <td>Расскажи, пожалуйста, стишок про рыбалку.</td>\n",
       "      <td>От рыбалки мало проку,\\nНе клюёт, хоть тресни,...</td>\n",
       "    </tr>\n",
       "  </tbody>\n",
       "</table>\n",
       "</div>"
      ]
     },
     "metadata": {},
     "output_type": "display_data"
    }
   ],
   "execution_count": 10
  },
  {
   "metadata": {},
   "cell_type": "markdown",
   "source": "Проверяем ответы базовой модели на запросах из датасета",
   "id": "b67811dc52c9dbb9"
  },
  {
   "metadata": {
    "ExecuteTime": {
     "end_time": "2025-10-18T14:00:31.527124Z",
     "start_time": "2025-10-18T14:00:30.035467Z"
    }
   },
   "cell_type": "code",
   "source": [
    "    result = base_model.configure(\n",
    "        temperature=0.5,\n",
    "    ).run(\"Где же мой сверчок?\")\n",
    "\n",
    "    for alternative in result:\n",
    "        print(alternative.text)\n"
   ],
   "id": "7c58a83e75616f68",
   "outputs": [
    {
     "name": "stdout",
     "output_type": "stream",
     "text": [
      "Уточните, пожалуйста, ваш запрос. Что нужно сделать со сверчком? Если вы хотите найти сверчка в доме или квартире, попробуйте прислушаться в тёмное время суток, возможно, вы услышите его стрекотание. Если у вас есть другие вопросы или задачи, пожалуйста, уточните их.\n"
     ]
    }
   ],
   "execution_count": 28
  },
  {
   "metadata": {},
   "cell_type": "markdown",
   "source": "Переводим датасет в формат понятный модели",
   "id": "5902ceb9c545e6"
  },
  {
   "metadata": {
    "ExecuteTime": {
     "end_time": "2025-10-18T13:40:57.765946Z",
     "start_time": "2025-10-18T13:40:57.741624Z"
    }
   },
   "cell_type": "code",
   "source": [
    "import json\n",
    "\n",
    "data_pd = pd.read_csv(os.path.join(path, \"train.csv\"))\n",
    "\n",
    "# переводим в нужный формат\n",
    "#{\"request\": [{\"role\": \"user\", \"text\": example[\"act\"]}], \"response\": example[\"prompt\"]}\n",
    "\n",
    "output_file = \"train_data.jsonl\"\n",
    "with open(output_file, \"w\", encoding=\"utf-8\") as f:\n",
    "   for _, row in data_pd.iterrows():\n",
    "       line = json.dumps({\n",
    "           \"request\": [{\"role\": \"user\", \"text\": row[\"query\"]}],\n",
    "           \"response\": row[\"response\"]\n",
    "       }, ensure_ascii=False)\n",
    "       f.write(line + \"\\n\")\n",
    "\n"
   ],
   "id": "4689ca4704e08db",
   "outputs": [],
   "execution_count": 13
  },
  {
   "metadata": {},
   "cell_type": "markdown",
   "source": "Загружаем датасет в облако или получаем id (если уже был загружен)",
   "id": "14051d60dd773250"
  },
  {
   "metadata": {
    "ExecuteTime": {
     "end_time": "2025-10-18T13:44:20.176631Z",
     "start_time": "2025-10-18T13:42:36.668448Z"
    }
   },
   "cell_type": "code",
   "source": [
    "# Название датасета для поиска\n",
    "DATASET_NAME = \"YandexGPT_LoRA_Tuning_Dataset\"\n",
    "\n",
    "# Ищем существующий датасет по имени\n",
    "existing_dataset = None\n",
    "for dataset in sdk.datasets.list():\n",
    "    if dataset.name == DATASET_NAME:\n",
    "        existing_dataset = dataset\n",
    "        break\n",
    "\n",
    "if existing_dataset:\n",
    "    # Используем существующий датасет\n",
    "    dataset_id = existing_dataset.id\n",
    "    print(f\"Найден существующий датасет с ID: {dataset_id}\")\n",
    "else:\n",
    "    # Создаём и загружаем новый датасет\n",
    "    dataset_draft = sdk.datasets.draft_from_path(\n",
    "        task_type=\"TextToTextGeneration\",\n",
    "        path=output_file,\n",
    "        upload_format=\"jsonlines\",\n",
    "        name=DATASET_NAME\n",
    "    )\n",
    "\n",
    "    operation = dataset_draft.upload_deferred()\n",
    "    tuning_dataset = operation.wait()\n",
    "    dataset_id = tuning_dataset.id\n",
    "    print(f\"Создан новый датасет с ID: {dataset_id}\")\n"
   ],
   "id": "49749ee1f449f5ca",
   "outputs": [
    {
     "name": "stderr",
     "output_type": "stream",
     "text": [
      "[I 2025-10-18 16:42:36 yandex_cloud_ml_sdk._datasets.domain:168] 0 datasets successfully fetched\n",
      "[I 2025-10-18 16:42:37 yandex_cloud_ml_sdk._datasets.domain:103] New (empty) dataset fdsjgno7i1vqor649q6j of type TextToTextGeneration successfully created\n",
      "[I 2025-10-18 16:42:37 yandex_cloud_ml_sdk._datasets.dataset:301] Dataset fdsjgno7i1vqor649q6j upload url successfully fetched\n",
      "[I 2025-10-18 16:42:38 yandex_cloud_ml_sdk._datasets.draft:171] Data from path train_data.jsonl to dataset fdsjgno7i1vqor649q6j successfully uploaded\n",
      "[I 2025-10-18 16:42:38 yandex_cloud_ml_sdk._datasets.draft:111] Dataset fdsjgno7i1vqor649q6j validation operation fds0gbomgv3a4ap80n4q started\n",
      "[I 2025-10-18 16:42:38 yandex_cloud_ml_sdk._types.operation:168] Starting Operation<id='fds0gbomgv3a4ap80n4q', result_type=Dataset, endpoint_name=ai-foundation-models> polling with a poll interval 10.000000s and poll timeout 21600.000000s\n",
      "[I 2025-10-18 16:44:20 yandex_cloud_ml_sdk._types.operation:149] Operation<id='fds0gbomgv3a4ap80n4q', result_type=Dataset, endpoint_name=ai-foundation-models> successfully finished\n",
      "[I 2025-10-18 16:44:20 yandex_cloud_ml_sdk._types.operation:179] Operation<id='fds0gbomgv3a4ap80n4q', result_type=Dataset, endpoint_name=ai-foundation-models> polling finished\n",
      "[I 2025-10-18 16:44:20 yandex_cloud_ml_sdk._datasets.domain:125] Dataset fdsjgno7i1vqor649q6j successfully fetched\n"
     ]
    },
    {
     "name": "stdout",
     "output_type": "stream",
     "text": [
      "Создан новый датасет с ID: fdsjgno7i1vqor649q6j\n"
     ]
    }
   ],
   "execution_count": 14
  },
  {
   "metadata": {},
   "cell_type": "markdown",
   "source": "Запускаем дообучение",
   "id": "7848b373c70a9a4d"
  },
  {
   "metadata": {
    "ExecuteTime": {
     "end_time": "2025-10-18T14:10:30.589244Z",
     "start_time": "2025-10-18T14:05:29.034121Z"
    }
   },
   "cell_type": "code",
   "source": [
    "# получаем датасет\n",
    "train_dataset = sdk.datasets.get(dataset_id)\n",
    "\n",
    "# Название модели для поиска\n",
    "MODEL_NAME = \"YandexGPT_LoRA_Tuned_Model_Tales\"\n",
    "\n",
    "# запускаем обучение\n",
    "tuned_model = base_model.tune(\n",
    "    train_dataset,\n",
    "    name=MODEL_NAME,\n",
    "    n_samples=1000,\n",
    ")\n",
    "print(f\"Resulting {tuned_model}\")\n"
   ],
   "id": "67a65ad88859f63a",
   "outputs": [
    {
     "name": "stderr",
     "output_type": "stream",
     "text": [
      "[I 2025-10-18 17:05:29 yandex_cloud_ml_sdk._datasets.domain:125] Dataset fdsjgno7i1vqor649q6j successfully fetched\n",
      "[I 2025-10-18 17:05:29 yandex_cloud_ml_sdk._tuning.domain:93] Tuning operation 'ftnh9rj1ai980eqsn9nr' created for model gpt://b1gmgddvdfql2k4f6vk6/yandexgpt-lite/latest with train datasets (('fdsjgno7i1vqor649q6j', 1.0),) and validation datasets ()\n",
      "[I 2025-10-18 17:05:29 yandex_cloud_ml_sdk._types.operation:168] Starting TuningTask<id='ftnh9rj1ai980eqsn9nr', result_type=GPTModel(...)> polling with a poll interval 60.000000s and poll timeout 259200.000000s\n",
      "[I 2025-10-18 17:10:30 yandex_cloud_ml_sdk._types.operation:149] TuningTask<id='ftnh9rj1ai980eqsn9nr', result_type=GPTModel(...)> successfully finished\n",
      "[I 2025-10-18 17:10:30 yandex_cloud_ml_sdk._types.operation:179] TuningTask<id='ftnh9rj1ai980eqsn9nr', result_type=GPTModel(...)> polling finished\n"
     ]
    },
    {
     "name": "stdout",
     "output_type": "stream",
     "text": [
      "Resulting GPTModel(uri=gpt://b1gmgddvdfql2k4f6vk6/yandexgpt-lite/latest@tamrpd80r0rvd5n06rcdh, config=GPTModelConfig(temperature=None, max_tokens=None, reasoning_mode=None, response_format=None, tools=None, parallel_tool_calls=None, tool_choice=None))\n"
     ]
    }
   ],
   "execution_count": 31
  },
  {
   "metadata": {},
   "cell_type": "markdown",
   "source": "Проверяем результат дообученой модели на том же запросе",
   "id": "168825fcb79ea77a"
  },
  {
   "metadata": {
    "ExecuteTime": {
     "end_time": "2025-10-18T14:16:47.003519Z",
     "start_time": "2025-10-18T14:16:45.885536Z"
    }
   },
   "cell_type": "code",
   "source": [
    "tuned_model_url = \"gpt://b1gmgddvdfql2k4f6vk6/yandexgpt-lite/latest@tamrsmigif8aocaddnds6\"\n",
    "\n",
    "tuned_model = sdk.models.completions(tuned_model_url)\n",
    "\n",
    "tuned_result = tuned_model.configure(\n",
    "    temperature=0.5,\n",
    ").run(\"Где же мой сверчок?\")\n",
    "\n",
    "for alternative in tuned_result:\n",
    "    print(alternative.text)\n"
   ],
   "id": "8c33a595ff29dc3",
   "outputs": [
    {
     "name": "stdout",
     "output_type": "stream",
     "text": [
      "Сверчок за печкой,\n",
      "Жужжит на печи.\n",
      "Ты, сверчок, за печкой,\n",
      "Не жужжи!\n",
      "\n",
      "А то дедушка\n",
      "Тебя найдёт\n",
      "И веником\n",
      "Тебя прибьёт!\n"
     ]
    }
   ],
   "execution_count": 43
  },
  {
   "metadata": {},
   "cell_type": "markdown",
   "source": "В результате дообучения модель уже понимает что требуется детское стихотворение",
   "id": "44dc629d05d6156e"
  },
  {
   "metadata": {},
   "cell_type": "markdown",
   "source": "Делаем агента и функциональности с помощью langchain tools",
   "id": "58105c81753d661d"
  },
  {
   "metadata": {
    "ExecuteTime": {
     "end_time": "2025-10-18T15:07:18.579723Z",
     "start_time": "2025-10-18T15:07:13.079374Z"
    }
   },
   "cell_type": "code",
   "source": [
    "from langchain_community.llms import YandexGPT\n",
    "\n",
    "\n",
    "yandex_gpt_tales = YandexGPT(\n",
    "    folder_id=YANDEX_CLOUD_FOLDER,\n",
    "    api_key=YANDEX_CLOUD_API_KEY,\n",
    "    model_url=\"gpt://b1gmgddvdfql2k4f6vk6/yandexgpt-lite/latest@tamrsmigif8aocaddnds6\",\n",
    "    temperature=0.5\n",
    ")\n",
    "\n",
    "\n",
    "from langchain.agents import Tool\n",
    "\n",
    "def get_search_results(query: str) -> str:\n",
    "\n",
    "    search = sdk.search_api.generative(\n",
    "        site=['https://tykityk.ru'],\n",
    "        fix_misspell=True,\n",
    "        enable_nrfm_docs=True,\n",
    "    )\n",
    "\n",
    "    search_result = search.run(query)\n",
    "\n",
    "    return search_result.text\n",
    "\n",
    "search_tool = Tool(\n",
    "    name=\"web_search\",\n",
    "    func=get_search_results,\n",
    "    description=\"Ищет информацию на сайте сказок\"\n",
    ")\n",
    "\n",
    "from langchain.agents import initialize_agent, AgentType\n",
    "\n",
    "agent = initialize_agent(\n",
    "    tools=[search_tool],\n",
    "    llm=yandex_gpt_tales,\n",
    "    agent=AgentType.ZERO_SHOT_REACT_DESCRIPTION,\n",
    "    verbose=True\n",
    ")\n",
    "\n",
    "response = agent.run(\"Где же мой сверчок?\")\n",
    "print(response)\n"
   ],
   "id": "fa81dc17905c71a8",
   "outputs": [
    {
     "name": "stdout",
     "output_type": "stream",
     "text": [
      "\n",
      "\n",
      "\u001B[1m> Entering new AgentExecutor chain...\u001B[0m\n",
      "\u001B[32;1m\u001B[1;3mQuestion: Где же мой сверчок?\n",
      "Thought: I need to find out what this phrase means or if it's related to a story or context. I will use a web search to find information.\n",
      "Action: web_search\n",
      "Action Input: Где же мой сверчок?\u001B[0m\n",
      "Observation: \u001B[36;1m\u001B[1;3mВозможно, имелся в виду персонаж из сказки А. Н. Толстого «Золотой ключик или Приключения Буратино» — **Говорящий Сверчок**. [1] \n",
      "\n",
      "В произведении сверчок — существо, похожее на таракана, с головой кузнечика, которое живёт в комнате больше ста лет. [1]\u001B[0m\n",
      "Thought:\u001B[32;1m\u001B[1;3mI now know the final answer.\n",
      "\n",
      "Final Answer: Вероятно, имеется в виду Говорящий Сверчок из сказки А. Н. Толстого «Золотой ключик или Приключения Буратино».\u001B[0m\n",
      "\n",
      "\u001B[1m> Finished chain.\u001B[0m\n",
      "Вероятно, имеется в виду Говорящий Сверчок из сказки А. Н. Толстого «Золотой ключик или Приключения Буратино».\n"
     ]
    }
   ],
   "execution_count": 57
  }
 ],
 "metadata": {
  "kernelspec": {
   "display_name": "Python 3",
   "language": "python",
   "name": "python3"
  },
  "language_info": {
   "codemirror_mode": {
    "name": "ipython",
    "version": 2
   },
   "file_extension": ".py",
   "mimetype": "text/x-python",
   "name": "python",
   "nbconvert_exporter": "python",
   "pygments_lexer": "ipython2",
   "version": "2.7.6"
  }
 },
 "nbformat": 4,
 "nbformat_minor": 5
}
