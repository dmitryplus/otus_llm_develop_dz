{
 "cells": [
  {
   "metadata": {
    "collapsed": true,
    "ExecuteTime": {
     "end_time": "2025-09-27T15:28:46.745951Z",
     "start_time": "2025-09-27T15:28:44.053591Z"
    }
   },
   "cell_type": "code",
   "source": [
    "%pip install langfuse\n",
    "%pip install langchain langgraph langchain_openai langchain_community\n",
    "%pip install --upgrade --quiet  yandexcloud yandex-cloud-ml-sdk\n"
   ],
   "id": "initial_id",
   "outputs": [
    {
     "name": "stdout",
     "output_type": "stream",
     "text": [
      "Requirement already satisfied: langfuse in /home/dmitry/PyCharmMiscProject/.venv/lib/python3.12/site-packages (3.5.1)\r\n",
      "Requirement already satisfied: backoff>=1.10.0 in /home/dmitry/PyCharmMiscProject/.venv/lib/python3.12/site-packages (from langfuse) (2.2.1)\r\n",
      "Requirement already satisfied: httpx<1.0,>=0.15.4 in /home/dmitry/PyCharmMiscProject/.venv/lib/python3.12/site-packages (from langfuse) (0.28.1)\r\n",
      "Requirement already satisfied: opentelemetry-api<2.0.0,>=1.33.1 in /home/dmitry/PyCharmMiscProject/.venv/lib/python3.12/site-packages (from langfuse) (1.37.0)\r\n",
      "Requirement already satisfied: opentelemetry-exporter-otlp-proto-http<2.0.0,>=1.33.1 in /home/dmitry/PyCharmMiscProject/.venv/lib/python3.12/site-packages (from langfuse) (1.37.0)\r\n",
      "Requirement already satisfied: opentelemetry-sdk<2.0.0,>=1.33.1 in /home/dmitry/PyCharmMiscProject/.venv/lib/python3.12/site-packages (from langfuse) (1.37.0)\r\n",
      "Requirement already satisfied: packaging<26.0,>=23.2 in /home/dmitry/PyCharmMiscProject/.venv/lib/python3.12/site-packages (from langfuse) (25.0)\r\n",
      "Requirement already satisfied: pydantic<3.0,>=1.10.7 in /home/dmitry/PyCharmMiscProject/.venv/lib/python3.12/site-packages (from langfuse) (2.11.7)\r\n",
      "Requirement already satisfied: requests<3,>=2 in /home/dmitry/PyCharmMiscProject/.venv/lib/python3.12/site-packages (from langfuse) (2.32.5)\r\n",
      "Requirement already satisfied: wrapt<2.0,>=1.14 in /home/dmitry/PyCharmMiscProject/.venv/lib/python3.12/site-packages (from langfuse) (1.17.3)\r\n",
      "Requirement already satisfied: anyio in /home/dmitry/PyCharmMiscProject/.venv/lib/python3.12/site-packages (from httpx<1.0,>=0.15.4->langfuse) (4.10.0)\r\n",
      "Requirement already satisfied: certifi in /home/dmitry/PyCharmMiscProject/.venv/lib/python3.12/site-packages (from httpx<1.0,>=0.15.4->langfuse) (2025.8.3)\r\n",
      "Requirement already satisfied: httpcore==1.* in /home/dmitry/PyCharmMiscProject/.venv/lib/python3.12/site-packages (from httpx<1.0,>=0.15.4->langfuse) (1.0.9)\r\n",
      "Requirement already satisfied: idna in /home/dmitry/PyCharmMiscProject/.venv/lib/python3.12/site-packages (from httpx<1.0,>=0.15.4->langfuse) (3.10)\r\n",
      "Requirement already satisfied: h11>=0.16 in /home/dmitry/PyCharmMiscProject/.venv/lib/python3.12/site-packages (from httpcore==1.*->httpx<1.0,>=0.15.4->langfuse) (0.16.0)\r\n",
      "Requirement already satisfied: importlib-metadata<8.8.0,>=6.0 in /home/dmitry/PyCharmMiscProject/.venv/lib/python3.12/site-packages (from opentelemetry-api<2.0.0,>=1.33.1->langfuse) (8.7.0)\r\n",
      "Requirement already satisfied: typing-extensions>=4.5.0 in /home/dmitry/PyCharmMiscProject/.venv/lib/python3.12/site-packages (from opentelemetry-api<2.0.0,>=1.33.1->langfuse) (4.14.1)\r\n",
      "Requirement already satisfied: zipp>=3.20 in /home/dmitry/PyCharmMiscProject/.venv/lib/python3.12/site-packages (from importlib-metadata<8.8.0,>=6.0->opentelemetry-api<2.0.0,>=1.33.1->langfuse) (3.23.0)\r\n",
      "Requirement already satisfied: googleapis-common-protos~=1.52 in /home/dmitry/PyCharmMiscProject/.venv/lib/python3.12/site-packages (from opentelemetry-exporter-otlp-proto-http<2.0.0,>=1.33.1->langfuse) (1.70.0)\r\n",
      "Requirement already satisfied: opentelemetry-exporter-otlp-proto-common==1.37.0 in /home/dmitry/PyCharmMiscProject/.venv/lib/python3.12/site-packages (from opentelemetry-exporter-otlp-proto-http<2.0.0,>=1.33.1->langfuse) (1.37.0)\r\n",
      "Requirement already satisfied: opentelemetry-proto==1.37.0 in /home/dmitry/PyCharmMiscProject/.venv/lib/python3.12/site-packages (from opentelemetry-exporter-otlp-proto-http<2.0.0,>=1.33.1->langfuse) (1.37.0)\r\n",
      "Requirement already satisfied: protobuf<7.0,>=5.0 in /home/dmitry/PyCharmMiscProject/.venv/lib/python3.12/site-packages (from opentelemetry-proto==1.37.0->opentelemetry-exporter-otlp-proto-http<2.0.0,>=1.33.1->langfuse) (5.29.5)\r\n",
      "Requirement already satisfied: opentelemetry-semantic-conventions==0.58b0 in /home/dmitry/PyCharmMiscProject/.venv/lib/python3.12/site-packages (from opentelemetry-sdk<2.0.0,>=1.33.1->langfuse) (0.58b0)\r\n",
      "Requirement already satisfied: annotated-types>=0.6.0 in /home/dmitry/PyCharmMiscProject/.venv/lib/python3.12/site-packages (from pydantic<3.0,>=1.10.7->langfuse) (0.7.0)\r\n",
      "Requirement already satisfied: pydantic-core==2.33.2 in /home/dmitry/PyCharmMiscProject/.venv/lib/python3.12/site-packages (from pydantic<3.0,>=1.10.7->langfuse) (2.33.2)\r\n",
      "Requirement already satisfied: typing-inspection>=0.4.0 in /home/dmitry/PyCharmMiscProject/.venv/lib/python3.12/site-packages (from pydantic<3.0,>=1.10.7->langfuse) (0.4.1)\r\n",
      "Requirement already satisfied: charset_normalizer<4,>=2 in /home/dmitry/PyCharmMiscProject/.venv/lib/python3.12/site-packages (from requests<3,>=2->langfuse) (3.4.3)\r\n",
      "Requirement already satisfied: urllib3<3,>=1.21.1 in /home/dmitry/PyCharmMiscProject/.venv/lib/python3.12/site-packages (from requests<3,>=2->langfuse) (2.5.0)\r\n",
      "Requirement already satisfied: sniffio>=1.1 in /home/dmitry/PyCharmMiscProject/.venv/lib/python3.12/site-packages (from anyio->httpx<1.0,>=0.15.4->langfuse) (1.3.1)\r\n",
      "Note: you may need to restart the kernel to use updated packages.\n",
      "Requirement already satisfied: langchain in /home/dmitry/PyCharmMiscProject/.venv/lib/python3.12/site-packages (0.3.27)\r\n",
      "Requirement already satisfied: langgraph in /home/dmitry/PyCharmMiscProject/.venv/lib/python3.12/site-packages (0.6.7)\r\n",
      "Requirement already satisfied: langchain_openai in /home/dmitry/PyCharmMiscProject/.venv/lib/python3.12/site-packages (0.3.32)\r\n",
      "Requirement already satisfied: langchain_community in /home/dmitry/PyCharmMiscProject/.venv/lib/python3.12/site-packages (0.3.30)\r\n",
      "Requirement already satisfied: langchain-core<1.0.0,>=0.3.72 in /home/dmitry/PyCharmMiscProject/.venv/lib/python3.12/site-packages (from langchain) (0.3.75)\r\n",
      "Requirement already satisfied: langchain-text-splitters<1.0.0,>=0.3.9 in /home/dmitry/PyCharmMiscProject/.venv/lib/python3.12/site-packages (from langchain) (0.3.11)\r\n",
      "Requirement already satisfied: langsmith>=0.1.17 in /home/dmitry/PyCharmMiscProject/.venv/lib/python3.12/site-packages (from langchain) (0.4.27)\r\n",
      "Requirement already satisfied: pydantic<3.0.0,>=2.7.4 in /home/dmitry/PyCharmMiscProject/.venv/lib/python3.12/site-packages (from langchain) (2.11.7)\r\n",
      "Requirement already satisfied: SQLAlchemy<3,>=1.4 in /home/dmitry/PyCharmMiscProject/.venv/lib/python3.12/site-packages (from langchain) (2.0.43)\r\n",
      "Requirement already satisfied: requests<3,>=2 in /home/dmitry/PyCharmMiscProject/.venv/lib/python3.12/site-packages (from langchain) (2.32.5)\r\n",
      "Requirement already satisfied: PyYAML>=5.3 in /home/dmitry/PyCharmMiscProject/.venv/lib/python3.12/site-packages (from langchain) (6.0.2)\r\n",
      "Requirement already satisfied: tenacity!=8.4.0,<10.0.0,>=8.1.0 in /home/dmitry/PyCharmMiscProject/.venv/lib/python3.12/site-packages (from langchain-core<1.0.0,>=0.3.72->langchain) (9.1.2)\r\n",
      "Requirement already satisfied: jsonpatch<2.0,>=1.33 in /home/dmitry/PyCharmMiscProject/.venv/lib/python3.12/site-packages (from langchain-core<1.0.0,>=0.3.72->langchain) (1.33)\r\n",
      "Requirement already satisfied: typing-extensions>=4.7 in /home/dmitry/PyCharmMiscProject/.venv/lib/python3.12/site-packages (from langchain-core<1.0.0,>=0.3.72->langchain) (4.14.1)\r\n",
      "Requirement already satisfied: packaging>=23.2 in /home/dmitry/PyCharmMiscProject/.venv/lib/python3.12/site-packages (from langchain-core<1.0.0,>=0.3.72->langchain) (25.0)\r\n",
      "Requirement already satisfied: jsonpointer>=1.9 in /home/dmitry/PyCharmMiscProject/.venv/lib/python3.12/site-packages (from jsonpatch<2.0,>=1.33->langchain-core<1.0.0,>=0.3.72->langchain) (3.0.0)\r\n",
      "Requirement already satisfied: annotated-types>=0.6.0 in /home/dmitry/PyCharmMiscProject/.venv/lib/python3.12/site-packages (from pydantic<3.0.0,>=2.7.4->langchain) (0.7.0)\r\n",
      "Requirement already satisfied: pydantic-core==2.33.2 in /home/dmitry/PyCharmMiscProject/.venv/lib/python3.12/site-packages (from pydantic<3.0.0,>=2.7.4->langchain) (2.33.2)\r\n",
      "Requirement already satisfied: typing-inspection>=0.4.0 in /home/dmitry/PyCharmMiscProject/.venv/lib/python3.12/site-packages (from pydantic<3.0.0,>=2.7.4->langchain) (0.4.1)\r\n",
      "Requirement already satisfied: charset_normalizer<4,>=2 in /home/dmitry/PyCharmMiscProject/.venv/lib/python3.12/site-packages (from requests<3,>=2->langchain) (3.4.3)\r\n",
      "Requirement already satisfied: idna<4,>=2.5 in /home/dmitry/PyCharmMiscProject/.venv/lib/python3.12/site-packages (from requests<3,>=2->langchain) (3.10)\r\n",
      "Requirement already satisfied: urllib3<3,>=1.21.1 in /home/dmitry/PyCharmMiscProject/.venv/lib/python3.12/site-packages (from requests<3,>=2->langchain) (2.5.0)\r\n",
      "Requirement already satisfied: certifi>=2017.4.17 in /home/dmitry/PyCharmMiscProject/.venv/lib/python3.12/site-packages (from requests<3,>=2->langchain) (2025.8.3)\r\n",
      "Requirement already satisfied: greenlet>=1 in /home/dmitry/PyCharmMiscProject/.venv/lib/python3.12/site-packages (from SQLAlchemy<3,>=1.4->langchain) (3.2.4)\r\n",
      "Requirement already satisfied: langgraph-checkpoint<3.0.0,>=2.1.0 in /home/dmitry/PyCharmMiscProject/.venv/lib/python3.12/site-packages (from langgraph) (2.1.1)\r\n",
      "Requirement already satisfied: langgraph-prebuilt<0.7.0,>=0.6.0 in /home/dmitry/PyCharmMiscProject/.venv/lib/python3.12/site-packages (from langgraph) (0.6.4)\r\n",
      "Requirement already satisfied: langgraph-sdk<0.3.0,>=0.2.2 in /home/dmitry/PyCharmMiscProject/.venv/lib/python3.12/site-packages (from langgraph) (0.2.9)\r\n",
      "Requirement already satisfied: xxhash>=3.5.0 in /home/dmitry/PyCharmMiscProject/.venv/lib/python3.12/site-packages (from langgraph) (3.5.0)\r\n",
      "Requirement already satisfied: ormsgpack>=1.10.0 in /home/dmitry/PyCharmMiscProject/.venv/lib/python3.12/site-packages (from langgraph-checkpoint<3.0.0,>=2.1.0->langgraph) (1.10.0)\r\n",
      "Requirement already satisfied: httpx>=0.25.2 in /home/dmitry/PyCharmMiscProject/.venv/lib/python3.12/site-packages (from langgraph-sdk<0.3.0,>=0.2.2->langgraph) (0.28.1)\r\n",
      "Requirement already satisfied: orjson>=3.10.1 in /home/dmitry/PyCharmMiscProject/.venv/lib/python3.12/site-packages (from langgraph-sdk<0.3.0,>=0.2.2->langgraph) (3.11.3)\r\n",
      "Requirement already satisfied: openai<2.0.0,>=1.99.9 in /home/dmitry/PyCharmMiscProject/.venv/lib/python3.12/site-packages (from langchain_openai) (1.101.0)\r\n",
      "Requirement already satisfied: tiktoken<1,>=0.7 in /home/dmitry/PyCharmMiscProject/.venv/lib/python3.12/site-packages (from langchain_openai) (0.11.0)\r\n",
      "Requirement already satisfied: anyio<5,>=3.5.0 in /home/dmitry/PyCharmMiscProject/.venv/lib/python3.12/site-packages (from openai<2.0.0,>=1.99.9->langchain_openai) (4.10.0)\r\n",
      "Requirement already satisfied: distro<2,>=1.7.0 in /home/dmitry/PyCharmMiscProject/.venv/lib/python3.12/site-packages (from openai<2.0.0,>=1.99.9->langchain_openai) (1.9.0)\r\n",
      "Requirement already satisfied: jiter<1,>=0.4.0 in /home/dmitry/PyCharmMiscProject/.venv/lib/python3.12/site-packages (from openai<2.0.0,>=1.99.9->langchain_openai) (0.10.0)\r\n",
      "Requirement already satisfied: sniffio in /home/dmitry/PyCharmMiscProject/.venv/lib/python3.12/site-packages (from openai<2.0.0,>=1.99.9->langchain_openai) (1.3.1)\r\n",
      "Requirement already satisfied: tqdm>4 in /home/dmitry/PyCharmMiscProject/.venv/lib/python3.12/site-packages (from openai<2.0.0,>=1.99.9->langchain_openai) (4.67.1)\r\n",
      "Requirement already satisfied: httpcore==1.* in /home/dmitry/PyCharmMiscProject/.venv/lib/python3.12/site-packages (from httpx>=0.25.2->langgraph-sdk<0.3.0,>=0.2.2->langgraph) (1.0.9)\r\n",
      "Requirement already satisfied: h11>=0.16 in /home/dmitry/PyCharmMiscProject/.venv/lib/python3.12/site-packages (from httpcore==1.*->httpx>=0.25.2->langgraph-sdk<0.3.0,>=0.2.2->langgraph) (0.16.0)\r\n",
      "Requirement already satisfied: regex>=2022.1.18 in /home/dmitry/PyCharmMiscProject/.venv/lib/python3.12/site-packages (from tiktoken<1,>=0.7->langchain_openai) (2025.7.34)\r\n",
      "Requirement already satisfied: aiohttp<4.0.0,>=3.8.3 in /home/dmitry/PyCharmMiscProject/.venv/lib/python3.12/site-packages (from langchain_community) (3.12.15)\r\n",
      "Requirement already satisfied: dataclasses-json<0.7.0,>=0.6.7 in /home/dmitry/PyCharmMiscProject/.venv/lib/python3.12/site-packages (from langchain_community) (0.6.7)\r\n",
      "Requirement already satisfied: pydantic-settings<3.0.0,>=2.10.1 in /home/dmitry/PyCharmMiscProject/.venv/lib/python3.12/site-packages (from langchain_community) (2.10.1)\r\n",
      "Requirement already satisfied: httpx-sse<1.0.0,>=0.4.0 in /home/dmitry/PyCharmMiscProject/.venv/lib/python3.12/site-packages (from langchain_community) (0.4.1)\r\n",
      "Requirement already satisfied: numpy>=1.26.2 in /home/dmitry/PyCharmMiscProject/.venv/lib/python3.12/site-packages (from langchain_community) (2.2.6)\r\n",
      "Requirement already satisfied: aiohappyeyeballs>=2.5.0 in /home/dmitry/PyCharmMiscProject/.venv/lib/python3.12/site-packages (from aiohttp<4.0.0,>=3.8.3->langchain_community) (2.6.1)\r\n",
      "Requirement already satisfied: aiosignal>=1.4.0 in /home/dmitry/PyCharmMiscProject/.venv/lib/python3.12/site-packages (from aiohttp<4.0.0,>=3.8.3->langchain_community) (1.4.0)\r\n",
      "Requirement already satisfied: attrs>=17.3.0 in /home/dmitry/PyCharmMiscProject/.venv/lib/python3.12/site-packages (from aiohttp<4.0.0,>=3.8.3->langchain_community) (25.3.0)\r\n",
      "Requirement already satisfied: frozenlist>=1.1.1 in /home/dmitry/PyCharmMiscProject/.venv/lib/python3.12/site-packages (from aiohttp<4.0.0,>=3.8.3->langchain_community) (1.7.0)\r\n",
      "Requirement already satisfied: multidict<7.0,>=4.5 in /home/dmitry/PyCharmMiscProject/.venv/lib/python3.12/site-packages (from aiohttp<4.0.0,>=3.8.3->langchain_community) (6.6.4)\r\n",
      "Requirement already satisfied: propcache>=0.2.0 in /home/dmitry/PyCharmMiscProject/.venv/lib/python3.12/site-packages (from aiohttp<4.0.0,>=3.8.3->langchain_community) (0.3.2)\r\n",
      "Requirement already satisfied: yarl<2.0,>=1.17.0 in /home/dmitry/PyCharmMiscProject/.venv/lib/python3.12/site-packages (from aiohttp<4.0.0,>=3.8.3->langchain_community) (1.20.1)\r\n",
      "Requirement already satisfied: marshmallow<4.0.0,>=3.18.0 in /home/dmitry/PyCharmMiscProject/.venv/lib/python3.12/site-packages (from dataclasses-json<0.7.0,>=0.6.7->langchain_community) (3.26.1)\r\n",
      "Requirement already satisfied: typing-inspect<1,>=0.4.0 in /home/dmitry/PyCharmMiscProject/.venv/lib/python3.12/site-packages (from dataclasses-json<0.7.0,>=0.6.7->langchain_community) (0.9.0)\r\n",
      "Requirement already satisfied: requests-toolbelt>=1.0.0 in /home/dmitry/PyCharmMiscProject/.venv/lib/python3.12/site-packages (from langsmith>=0.1.17->langchain) (1.0.0)\r\n",
      "Requirement already satisfied: zstandard>=0.23.0 in /home/dmitry/PyCharmMiscProject/.venv/lib/python3.12/site-packages (from langsmith>=0.1.17->langchain) (0.24.0)\r\n",
      "Requirement already satisfied: python-dotenv>=0.21.0 in /home/dmitry/PyCharmMiscProject/.venv/lib/python3.12/site-packages (from pydantic-settings<3.0.0,>=2.10.1->langchain_community) (1.1.1)\r\n",
      "Requirement already satisfied: mypy-extensions>=0.3.0 in /home/dmitry/PyCharmMiscProject/.venv/lib/python3.12/site-packages (from typing-inspect<1,>=0.4.0->dataclasses-json<0.7.0,>=0.6.7->langchain_community) (1.1.0)\r\n",
      "Note: you may need to restart the kernel to use updated packages.\n",
      "Note: you may need to restart the kernel to use updated packages.\n"
     ]
    }
   ],
   "execution_count": 2
  },
  {
   "metadata": {},
   "cell_type": "markdown",
   "source": "Заполняем словарь документов",
   "id": "5fb65e8ee63fac7b"
  },
  {
   "metadata": {
    "ExecuteTime": {
     "end_time": "2025-09-27T15:28:48.538227Z",
     "start_time": "2025-09-27T15:28:48.535069Z"
    }
   },
   "cell_type": "code",
   "source": [
    "documents = [\n",
    "    {\n",
    "        \"id\": 166213,\n",
    "        \"title\": \"Изменить формат общего шаблона excel при скачивании файлов\",\n",
    "        \"url\": \"https://inside.notamedia.ru/company/personal/user/4658/tasks/task/view/166213/\"\n",
    "    },\n",
    "\n",
    "    {\n",
    "        \"id\": 151543,\n",
    "        \"title\": \"Реализовать страницу со списком акселераторов\",\n",
    "        \"url\": \"https://inside.notamedia.ru/company/personal/user/4658/tasks/task/view/151543/\"\n",
    "    },\n",
    "\n",
    "    {\n",
    "        \"id\": 196677,\n",
    "        \"title\": \"[Bug][Major] Доработать статусы заявок в Акселераторах\",\n",
    "        \"url\": \"https://inside.notamedia.ru/company/personal/user/4658/tasks/task/view/196677/\"\n",
    "    },\n",
    "\n",
    "    {\n",
    "        \"id\": 181744,\n",
    "        \"title\": \"Реализация группы прав \\\"Менеджер Акселератора партнер\\\"\",\n",
    "        \"url\": \"https://inside.notamedia.ru/company/personal/user/4658/tasks/task/view/181744/\"\n",
    "    },\n",
    "\n",
    "    {\n",
    "        \"id\": 190897,\n",
    "        \"title\": \"Доработка кабинета Акселератора, добавление внешних модераторов\",\n",
    "        \"url\": \"https://inside.notamedia.ru/company/personal/user/4658/tasks/task/view/190897/\"\n",
    "    },\n",
    "\n",
    "    {\n",
    "        \"id\": 184464,\n",
    "        \"title\": \"Доработка ролевой модели в Акселерации (Демо)\",\n",
    "        \"url\": \"https://inside.notamedia.ru/company/personal/user/4658/tasks/task/view/184464/\"\n",
    "    },\n",
    "\n",
    "    {\n",
    "        \"id\": 187834,\n",
    "        \"title\": \"Добавление рассылки видеозаписи прошедшего мероприятия\",\n",
    "        \"url\": \"https://inside.notamedia.ru/company/personal/user/4658/tasks/task/view/187834/\"\n",
    "    },\n",
    "]"
   ],
   "id": "c8dd3daed55c1292",
   "outputs": [],
   "execution_count": 3
  },
  {
   "metadata": {},
   "cell_type": "markdown",
   "source": "обогащаем documents текстами задач",
   "id": "8f195a297aa3f322"
  },
  {
   "metadata": {
    "ExecuteTime": {
     "end_time": "2025-09-27T15:28:51.040848Z",
     "start_time": "2025-09-27T15:28:51.035665Z"
    }
   },
   "cell_type": "code",
   "source": [
    "import os\n",
    "\n",
    "# Добавляем поле context с текстом из .md файлов\n",
    "for doc in documents:\n",
    "    file_name = f\"{doc['id']}.md\"\n",
    "    file_path = os.path.join(\"tasks\", file_name)\n",
    "\n",
    "    if os.path.exists(file_path):\n",
    "        with open(file_path, \"r\", encoding=\"utf-8\") as f:\n",
    "            doc[\"context\"] = f.read()\n",
    "    else:\n",
    "        doc[\"context\"] = \"\"\n",
    "\n",
    "    # Создаем поле search как объединение title и context\n",
    "    doc[\"search\"] = f\"{doc['title']} {doc['context']}\"\n",
    "\n"
   ],
   "id": "78e09d5ce8d375b4",
   "outputs": [],
   "execution_count": 4
  },
  {
   "metadata": {
    "ExecuteTime": {
     "end_time": "2025-09-27T15:28:52.693229Z",
     "start_time": "2025-09-27T15:28:52.681429Z"
    }
   },
   "cell_type": "code",
   "source": [
    "import pandas as pd  # если нет импорта пандаса, то остальной код не имеет смысла\n",
    "\n",
    "# создаем из наших документов датафрейм\n",
    "df = pd.DataFrame(documents)\n",
    "df.head()"
   ],
   "id": "7227ca0d5c6a76d",
   "outputs": [
    {
     "data": {
      "text/plain": [
       "       id                                              title  \\\n",
       "0  166213  Изменить формат общего шаблона excel при скачи...   \n",
       "1  151543      Реализовать страницу со списком акселераторов   \n",
       "2  196677  [Bug][Major] Доработать статусы заявок в Аксел...   \n",
       "3  181744  Реализация группы прав \"Менеджер Акселератора ...   \n",
       "4  190897  Доработка кабинета Акселератора, добавление вн...   \n",
       "\n",
       "                                                 url  \\\n",
       "0  https://inside.notamedia.ru/company/personal/u...   \n",
       "1  https://inside.notamedia.ru/company/personal/u...   \n",
       "2  https://inside.notamedia.ru/company/personal/u...   \n",
       "3  https://inside.notamedia.ru/company/personal/u...   \n",
       "4  https://inside.notamedia.ru/company/personal/u...   \n",
       "\n",
       "                                             context  \\\n",
       "0  Требуется изменить формат excel общего шаблона...   \n",
       "1  1. Необходимо сделать активной кнопку \"Акселер...   \n",
       "2  Стенд: все площадки\\n\\n1) Кейс 1\\n- Создать Ак...   \n",
       "3  Требуется реализовать новую группу прав \"Менед...   \n",
       "4  Требуется в кабинете Акселератора доработать д...   \n",
       "\n",
       "                                              search  \n",
       "0  Изменить формат общего шаблона excel при скачи...  \n",
       "1  Реализовать страницу со списком акселераторов ...  \n",
       "2  [Bug][Major] Доработать статусы заявок в Аксел...  \n",
       "3  Реализация группы прав \"Менеджер Акселератора ...  \n",
       "4  Доработка кабинета Акселератора, добавление вн...  "
      ],
      "text/html": [
       "<div>\n",
       "<style scoped>\n",
       "    .dataframe tbody tr th:only-of-type {\n",
       "        vertical-align: middle;\n",
       "    }\n",
       "\n",
       "    .dataframe tbody tr th {\n",
       "        vertical-align: top;\n",
       "    }\n",
       "\n",
       "    .dataframe thead th {\n",
       "        text-align: right;\n",
       "    }\n",
       "</style>\n",
       "<table border=\"1\" class=\"dataframe\">\n",
       "  <thead>\n",
       "    <tr style=\"text-align: right;\">\n",
       "      <th></th>\n",
       "      <th>id</th>\n",
       "      <th>title</th>\n",
       "      <th>url</th>\n",
       "      <th>context</th>\n",
       "      <th>search</th>\n",
       "    </tr>\n",
       "  </thead>\n",
       "  <tbody>\n",
       "    <tr>\n",
       "      <th>0</th>\n",
       "      <td>166213</td>\n",
       "      <td>Изменить формат общего шаблона excel при скачи...</td>\n",
       "      <td>https://inside.notamedia.ru/company/personal/u...</td>\n",
       "      <td>Требуется изменить формат excel общего шаблона...</td>\n",
       "      <td>Изменить формат общего шаблона excel при скачи...</td>\n",
       "    </tr>\n",
       "    <tr>\n",
       "      <th>1</th>\n",
       "      <td>151543</td>\n",
       "      <td>Реализовать страницу со списком акселераторов</td>\n",
       "      <td>https://inside.notamedia.ru/company/personal/u...</td>\n",
       "      <td>1. Необходимо сделать активной кнопку \"Акселер...</td>\n",
       "      <td>Реализовать страницу со списком акселераторов ...</td>\n",
       "    </tr>\n",
       "    <tr>\n",
       "      <th>2</th>\n",
       "      <td>196677</td>\n",
       "      <td>[Bug][Major] Доработать статусы заявок в Аксел...</td>\n",
       "      <td>https://inside.notamedia.ru/company/personal/u...</td>\n",
       "      <td>Стенд: все площадки\\n\\n1) Кейс 1\\n- Создать Ак...</td>\n",
       "      <td>[Bug][Major] Доработать статусы заявок в Аксел...</td>\n",
       "    </tr>\n",
       "    <tr>\n",
       "      <th>3</th>\n",
       "      <td>181744</td>\n",
       "      <td>Реализация группы прав \"Менеджер Акселератора ...</td>\n",
       "      <td>https://inside.notamedia.ru/company/personal/u...</td>\n",
       "      <td>Требуется реализовать новую группу прав \"Менед...</td>\n",
       "      <td>Реализация группы прав \"Менеджер Акселератора ...</td>\n",
       "    </tr>\n",
       "    <tr>\n",
       "      <th>4</th>\n",
       "      <td>190897</td>\n",
       "      <td>Доработка кабинета Акселератора, добавление вн...</td>\n",
       "      <td>https://inside.notamedia.ru/company/personal/u...</td>\n",
       "      <td>Требуется в кабинете Акселератора доработать д...</td>\n",
       "      <td>Доработка кабинета Акселератора, добавление вн...</td>\n",
       "    </tr>\n",
       "  </tbody>\n",
       "</table>\n",
       "</div>"
      ]
     },
     "execution_count": 5,
     "metadata": {},
     "output_type": "execute_result"
    }
   ],
   "execution_count": 5
  },
  {
   "metadata": {
    "ExecuteTime": {
     "end_time": "2025-09-27T15:28:54.915747Z",
     "start_time": "2025-09-27T15:28:54.675360Z"
    }
   },
   "cell_type": "code",
   "source": [
    "from langchain.document_loaders import DataFrameLoader\n",
    "from langchain.text_splitter import RecursiveCharacterTextSplitter\n",
    "from langchain.embeddings import OpenAIEmbeddings\n",
    "from langchain.vectorstores import FAISS\n",
    "\n",
    "loader = DataFrameLoader(df, page_content_column='search')\n",
    "documents = loader.load()\n",
    "\n",
    "print(documents)"
   ],
   "id": "1327c795d5cc7837",
   "outputs": [
    {
     "name": "stdout",
     "output_type": "stream",
     "text": [
      "[Document(metadata={'id': 166213, 'title': 'Изменить формат общего шаблона excel при скачивании файлов', 'url': 'https://inside.notamedia.ru/company/personal/user/4658/tasks/task/view/166213/', 'context': 'Требуется изменить формат excel общего шаблона при скачивании файлов. Изменить с формата \"Веб-страница\" https://pastenow.ru/GMPC8 на xls.\\n\\nОтчеты в xls в блоке Бизнес-образования https://pastenow.ru/GMPBC\\n\\nОценка: 1 р.д.'}, page_content='Изменить формат общего шаблона excel при скачивании файлов Требуется изменить формат excel общего шаблона при скачивании файлов. Изменить с формата \"Веб-страница\" https://pastenow.ru/GMPC8 на xls.\\n\\nОтчеты в xls в блоке Бизнес-образования https://pastenow.ru/GMPBC\\n\\nОценка: 1 р.д.'), Document(metadata={'id': 151543, 'title': 'Реализовать страницу со списком акселераторов', 'url': 'https://inside.notamedia.ru/company/personal/user/4658/tasks/task/view/151543/', 'context': '1. Необходимо сделать активной кнопку \"Акселерация\" в разделе Бизнес-компетенций\\n2. При переходе из раздела Акселерация -пользователь попадает на страницу списка акселераторов\\nСсылка на страницу со списком: https://www.figma.com/file/d1UJj9qDws3...D0%B0%D...\\n\\n3. Кнопка подачи заявки на акселератор с текстовой подсказкой (Отображение кнопок описано в задаче: https://inside.notamedia.ru/ex/workgro...ew/160210/)\\n\\nПоля, влияющие на отображение превью карточки акселератора (Поля описаны в задаче в блоке \"Значения свойств\"\\n]https://inside.notamedia.ru/ex/workgroups/group/3974/tasks/task/view/159946/?EVENT_TYPE=UPDATE&a...= ):\\n\\nПоле админ.панели\\n\\t\\n\\nВлияние\\n\\nАктивность\\n\\t\\n\\nОтображение карточки в списке   акселераторов\\n\\nДата начала активности\\n\\t\\n\\nНачало отображения карточки акселератора   в списке акселераторов\\n\\nДата окончания активности\\n\\t\\n\\nКонец отображения карточки акселератора   в списке акселераторов\\n\\nНазвание\\n\\t\\n\\nЗаголовок акселератора\\n\\nТекстовое описание\\n\\t\\n\\nКраткое описание - анонс\\n\\nДата старта сбора заявок\\n\\t\\n\\nПри наступлении дня начала сбора заявок,   активируется кнопка «Подать заявку», которая в дальнейшем может изменяться\\n\\nДата окончания сбора заявок\\n\\t\\n\\nДата, влияющая на подсказку рядом с   кнопкой «Подать заявку»\\n\\nПродление сбора заявок\\n\\t\\n\\nЧекбокс, активность которого означает,   что подсказка рядом с кнопкой «Подать заявку» зависит от второго поля «Дата   окончания сбора заявок»\\n\\nТакже чекбокс влияет на рассылку   уведомления о продлении периода сбора заявок\\n\\nДата окончания сбора заявок\\n\\t\\n\\nДата, влияющая на подсказку рядом с   кнопкой «Подать заявку» в случае, если активирован чекбокс «Продление сбора   заявок»\\n\\n\\nИзображение акселератора\\n\\t\\n\\nЛоготип акселератора, отображающееся в   превью карточки акселератора\\n\\n\\n\\n'}, page_content='Реализовать страницу со списком акселераторов 1. Необходимо сделать активной кнопку \"Акселерация\" в разделе Бизнес-компетенций\\n2. При переходе из раздела Акселерация -пользователь попадает на страницу списка акселераторов\\nСсылка на страницу со списком: https://www.figma.com/file/d1UJj9qDws3...D0%B0%D...\\n\\n3. Кнопка подачи заявки на акселератор с текстовой подсказкой (Отображение кнопок описано в задаче: https://inside.notamedia.ru/ex/workgro...ew/160210/)\\n\\nПоля, влияющие на отображение превью карточки акселератора (Поля описаны в задаче в блоке \"Значения свойств\"\\n]https://inside.notamedia.ru/ex/workgroups/group/3974/tasks/task/view/159946/?EVENT_TYPE=UPDATE&a...= ):\\n\\nПоле админ.панели\\n\\t\\n\\nВлияние\\n\\nАктивность\\n\\t\\n\\nОтображение карточки в списке   акселераторов\\n\\nДата начала активности\\n\\t\\n\\nНачало отображения карточки акселератора   в списке акселераторов\\n\\nДата окончания активности\\n\\t\\n\\nКонец отображения карточки акселератора   в списке акселераторов\\n\\nНазвание\\n\\t\\n\\nЗаголовок акселератора\\n\\nТекстовое описание\\n\\t\\n\\nКраткое описание - анонс\\n\\nДата старта сбора заявок\\n\\t\\n\\nПри наступлении дня начала сбора заявок,   активируется кнопка «Подать заявку», которая в дальнейшем может изменяться\\n\\nДата окончания сбора заявок\\n\\t\\n\\nДата, влияющая на подсказку рядом с   кнопкой «Подать заявку»\\n\\nПродление сбора заявок\\n\\t\\n\\nЧекбокс, активность которого означает,   что подсказка рядом с кнопкой «Подать заявку» зависит от второго поля «Дата   окончания сбора заявок»\\n\\nТакже чекбокс влияет на рассылку   уведомления о продлении периода сбора заявок\\n\\nДата окончания сбора заявок\\n\\t\\n\\nДата, влияющая на подсказку рядом с   кнопкой «Подать заявку» в случае, если активирован чекбокс «Продление сбора   заявок»\\n\\n\\nИзображение акселератора\\n\\t\\n\\nЛоготип акселератора, отображающееся в   превью карточки акселератора\\n\\n\\n\\n'), Document(metadata={'id': 196677, 'title': '[Bug][Major] Доработать статусы заявок в Акселераторах', 'url': 'https://inside.notamedia.ru/company/personal/user/4658/tasks/task/view/196677/', 'context': 'Стенд: все площадки\\n\\n1) Кейс 1\\n- Создать Акселератор\\n- Авторизоваться от пользователя с ИП/с бизнесом (на тесте можно использовать ID 2321)\\n- Перейти в раздел \"Бизнес-обучение\" -> \"Акселерация\"\\n- Подать заявку на участие в акселераторе\\n- Перевести заявку в статус \"Отклонена\" (https://test.smbn.ru/bitrix/admin/busi...ration.php)\\n\\nПроблема: пользователю в \"Мои заявки\" и в колокольчик приходят только 2 уведомления на смену статусов \"На рассмотрении\" и \"Одобрена\". В детальную карточку акселератора приходят все статусы. Требуется доработать формирование уведомлений в колокольчик и в \"Мои заявки\" на остальные статусы.\\n\\nСуществующие статусы:\\n1.1 На рассмотрении\\n1.2 Черновик\\n1.3 На доработку\\n1.4 Отклонена\\n1.5 Одобрена\\nМакет https://www.figma.com/file/u0DisVIzlix...0%B5%D0...\\n\\n2) Кейс 2:\\n- Создать Акселератор\\n- Авторизоваться от пользователя с ИП/с бизнесом (на тесте можно использовать ID 2321)\\n- Перейти в раздел \"Бизнес-обучение\" -> \"Акселерация\"\\n- Подать заявку на участие акселераторе\\n- Перевести заявку в статус \"На доработку\" (https://test.smbn.ru/bitrix/admin/busi...ration.php)\\n- Перейти в раздел \"Бизнес-обучение\" -> \"Акселерация\" -> Детальная карточка акселератора\\n- В детальной карточке акселератора статус заявки изменился на \"Заявка возвращена на доработку\"  \\n\\nПроблема: в детальной карточке акселератора, в публичке, при наведении на кнопку \"Заявка возвращена на доработку\", не меняется курсор (видео \"Статус НА ДОРАБОТКУ.mp4\")'}, page_content='[Bug][Major] Доработать статусы заявок в Акселераторах Стенд: все площадки\\n\\n1) Кейс 1\\n- Создать Акселератор\\n- Авторизоваться от пользователя с ИП/с бизнесом (на тесте можно использовать ID 2321)\\n- Перейти в раздел \"Бизнес-обучение\" -> \"Акселерация\"\\n- Подать заявку на участие в акселераторе\\n- Перевести заявку в статус \"Отклонена\" (https://test.smbn.ru/bitrix/admin/busi...ration.php)\\n\\nПроблема: пользователю в \"Мои заявки\" и в колокольчик приходят только 2 уведомления на смену статусов \"На рассмотрении\" и \"Одобрена\". В детальную карточку акселератора приходят все статусы. Требуется доработать формирование уведомлений в колокольчик и в \"Мои заявки\" на остальные статусы.\\n\\nСуществующие статусы:\\n1.1 На рассмотрении\\n1.2 Черновик\\n1.3 На доработку\\n1.4 Отклонена\\n1.5 Одобрена\\nМакет https://www.figma.com/file/u0DisVIzlix...0%B5%D0...\\n\\n2) Кейс 2:\\n- Создать Акселератор\\n- Авторизоваться от пользователя с ИП/с бизнесом (на тесте можно использовать ID 2321)\\n- Перейти в раздел \"Бизнес-обучение\" -> \"Акселерация\"\\n- Подать заявку на участие акселераторе\\n- Перевести заявку в статус \"На доработку\" (https://test.smbn.ru/bitrix/admin/busi...ration.php)\\n- Перейти в раздел \"Бизнес-обучение\" -> \"Акселерация\" -> Детальная карточка акселератора\\n- В детальной карточке акселератора статус заявки изменился на \"Заявка возвращена на доработку\"  \\n\\nПроблема: в детальной карточке акселератора, в публичке, при наведении на кнопку \"Заявка возвращена на доработку\", не меняется курсор (видео \"Статус НА ДОРАБОТКУ.mp4\")'), Document(metadata={'id': 181744, 'title': 'Реализация группы прав \"Менеджер Акселератора партнер\"', 'url': 'https://inside.notamedia.ru/company/personal/user/4658/tasks/task/view/181744/', 'context': 'Требуется реализовать новую группу прав \"Менеджер Акселератора партнер\"\\n\\nДоступы к вкладкам («Сервисы»- «Бизнес-обучение»):\\n\\n1. Отчеты по Акселерации (только назначенные Акселераторы).\\n\\nДоступные возможности:\\n\\n    Просмотр и выгрузка отчетов (Отчет по посещению, Трекшн-карты по всем командам).   \\n\\nСсылка на вкладку: https://test.smbn.ru/bitrix/admin/busi...eports.php\\n\\n\\n2. Кабинет Акселератора ( только назначенные Акселераторы).\\n\\nДоступные возможности:\\n\\n    Просмотр в публичной части кабинета Акселератора (кнопка \"Просмотр\");\\n\\n    Дополнение от 19.01. Редактировать вкладок в кабинете Акселератора “Программа Преакселератора” и “Программа Акселератора”\\n\\nСсылка на вкладку:  https://test.smbn.ru/bitrix/admin/busi...abinet.php  \\n\\n\\n3. Кабинет Трекера (только назначенные Акселераторы).\\n\\nДоступные возможности:\\n\\n    Просмотр в публичной части кабинета Трекера (данные по всем командам).\\n\\nСсылка на вкладку:  https://test.smbn.ru/bitrix/admin/busi...ackers.php\\n\\n\\n4. Участники Акселерации (только назначенные Акселераторы).\\n\\nДоступные возможности:\\n\\n    Просмотр участников и их статусов.   \\n\\nСсылка на вкладку:  https://test.smbn.ru/bitrix/admin/busi...ipants.php\\n\\nОписание назначения прав:  \\n\\n1. Назначение прав пользователю производится в админ панели. В случае, если нет назначенных Акселераторов для пользователя с данной ролью,  все вкладки пустые;\\n\\n2. Администратору доступно прикрепление «Менеджер Акселератора партнер» в карточку Акселератора, требуется создать поле «Менеджер Акселератора партнер» (расположить после поля «Менеджер Акселератора внешний»). Добавить возможно нескольких внешних партнеров Акселератора к одному элементу;\\n\\n3. При добавлении пользователя в поле «Менеджер Акселератора партнер» открывается список пользователей которые состоят в данной группе.\\n\\nСсылка на матрицу ролевую: https://docs.google.com/spreadsheets/d...1068701...\\n\\nДополнение от 19.01.\\nУдаление любых элементов на доступных вкладках пользователю с группой прав «Менеджер Акселератора партнер» недоступно.'}, page_content='Реализация группы прав \"Менеджер Акселератора партнер\" Требуется реализовать новую группу прав \"Менеджер Акселератора партнер\"\\n\\nДоступы к вкладкам («Сервисы»- «Бизнес-обучение»):\\n\\n1. Отчеты по Акселерации (только назначенные Акселераторы).\\n\\nДоступные возможности:\\n\\n    Просмотр и выгрузка отчетов (Отчет по посещению, Трекшн-карты по всем командам).   \\n\\nСсылка на вкладку: https://test.smbn.ru/bitrix/admin/busi...eports.php\\n\\n\\n2. Кабинет Акселератора ( только назначенные Акселераторы).\\n\\nДоступные возможности:\\n\\n    Просмотр в публичной части кабинета Акселератора (кнопка \"Просмотр\");\\n\\n    Дополнение от 19.01. Редактировать вкладок в кабинете Акселератора “Программа Преакселератора” и “Программа Акселератора”\\n\\nСсылка на вкладку:  https://test.smbn.ru/bitrix/admin/busi...abinet.php  \\n\\n\\n3. Кабинет Трекера (только назначенные Акселераторы).\\n\\nДоступные возможности:\\n\\n    Просмотр в публичной части кабинета Трекера (данные по всем командам).\\n\\nСсылка на вкладку:  https://test.smbn.ru/bitrix/admin/busi...ackers.php\\n\\n\\n4. Участники Акселерации (только назначенные Акселераторы).\\n\\nДоступные возможности:\\n\\n    Просмотр участников и их статусов.   \\n\\nСсылка на вкладку:  https://test.smbn.ru/bitrix/admin/busi...ipants.php\\n\\nОписание назначения прав:  \\n\\n1. Назначение прав пользователю производится в админ панели. В случае, если нет назначенных Акселераторов для пользователя с данной ролью,  все вкладки пустые;\\n\\n2. Администратору доступно прикрепление «Менеджер Акселератора партнер» в карточку Акселератора, требуется создать поле «Менеджер Акселератора партнер» (расположить после поля «Менеджер Акселератора внешний»). Добавить возможно нескольких внешних партнеров Акселератора к одному элементу;\\n\\n3. При добавлении пользователя в поле «Менеджер Акселератора партнер» открывается список пользователей которые состоят в данной группе.\\n\\nСсылка на матрицу ролевую: https://docs.google.com/spreadsheets/d...1068701...\\n\\nДополнение от 19.01.\\nУдаление любых элементов на доступных вкладках пользователю с группой прав «Менеджер Акселератора партнер» недоступно.'), Document(metadata={'id': 190897, 'title': 'Доработка кабинета Акселератора, добавление внешних модераторов', 'url': 'https://inside.notamedia.ru/company/personal/user/4658/tasks/task/view/190897/', 'context': 'Требуется в кабинете Акселератора доработать добавление внешних модераторов.\\nПри создании мероприятия в поле \"Модератор мероприятий внешний\" https://pastenow.ru/ME4M0 поставить ограничение на группу прав.\\nДобавление доступно только пользователей из группы \"Модератор мероприятий внешний\", а не всех пользователей ЦП.  '}, page_content='Доработка кабинета Акселератора, добавление внешних модераторов Требуется в кабинете Акселератора доработать добавление внешних модераторов.\\nПри создании мероприятия в поле \"Модератор мероприятий внешний\" https://pastenow.ru/ME4M0 поставить ограничение на группу прав.\\nДобавление доступно только пользователей из группы \"Модератор мероприятий внешний\", а не всех пользователей ЦП.  '), Document(metadata={'id': 184464, 'title': 'Доработка ролевой модели в Акселерации (Демо)', 'url': 'https://inside.notamedia.ru/company/personal/user/4658/tasks/task/view/184464/', 'context': 'Требуется доработать подачу заявок от сотрудник бизнеса в разделе Акселерации.\\n\\nАкселератор: Новый акселератор 2 2 2 роль\\n\\nВладелец: Басов В (ид 1488) ИП БАсов и ООО \"Ромашка\"\\n\\nСотрудник: Мигина Мария (ид 1518)\\n\\nКейс 1. Сотруднику назначены права на сохранение заявок в Акселерации по двум бизнесам, ИП БАсов и ООО \"Ромашка\". В шапке сотрудника бизнесы отображаются корректно, но при нажатии на кнопку \"Подать заявку\" в модальном окне \"Выберете, от кого подать заявку\" выводится только один бизнес, скрин: https://pastenow.ru/KQNY6\\n\\nТребуется доработка, должен выводится бизнес что указан в шапке сотрудника. В данном случае два бизнеса в модальное окно \"Выберете, от кого подать заявку\".\\n\\nКейс 2. Сотруднику назначены права на сохранение заявок в Акселерации по одному бизнесу ООО \"Ромашка\", в шапке сотрудника бизнес отображаются корректно, но при нажатии на кнопку \"Подать заявку\" в модальном окне \"Выберете, от кого подать заявку\" выводится только один бизнес и не тот - \"ИП Басов\", скрин:   https://pastenow.ru/KQNYL\\n\\nТребуется доработка, должен выводится бизнес что указан в шапке сотрудника. '}, page_content='Доработка ролевой модели в Акселерации (Демо) Требуется доработать подачу заявок от сотрудник бизнеса в разделе Акселерации.\\n\\nАкселератор: Новый акселератор 2 2 2 роль\\n\\nВладелец: Басов В (ид 1488) ИП БАсов и ООО \"Ромашка\"\\n\\nСотрудник: Мигина Мария (ид 1518)\\n\\nКейс 1. Сотруднику назначены права на сохранение заявок в Акселерации по двум бизнесам, ИП БАсов и ООО \"Ромашка\". В шапке сотрудника бизнесы отображаются корректно, но при нажатии на кнопку \"Подать заявку\" в модальном окне \"Выберете, от кого подать заявку\" выводится только один бизнес, скрин: https://pastenow.ru/KQNY6\\n\\nТребуется доработка, должен выводится бизнес что указан в шапке сотрудника. В данном случае два бизнеса в модальное окно \"Выберете, от кого подать заявку\".\\n\\nКейс 2. Сотруднику назначены права на сохранение заявок в Акселерации по одному бизнесу ООО \"Ромашка\", в шапке сотрудника бизнес отображаются корректно, но при нажатии на кнопку \"Подать заявку\" в модальном окне \"Выберете, от кого подать заявку\" выводится только один бизнес и не тот - \"ИП Басов\", скрин:   https://pastenow.ru/KQNYL\\n\\nТребуется доработка, должен выводится бизнес что указан в шапке сотрудника. '), Document(metadata={'id': 187834, 'title': 'Добавление рассылки видеозаписи прошедшего мероприятия', 'url': 'https://inside.notamedia.ru/company/personal/user/4658/tasks/task/view/187834/', 'context': 'Требуется добавить элемент по управлению рассылками видеозаписи прошедшего мероприятия\\n\\n1. В карточку мероприятия добавить возможность прикрепление обработанной видеозаписи (смонтированной) и записи после мероприятия (автоматическая запись трансляции)\\nДоработать карточку мероприятия, добавить:\\n1. 1. Чек-бокс \"Добавить видеозапись после завершения мероприятия (автоматическая запись трансляции)\";\\n1. 2. Поле \"Добавить видеозапись после завершения мероприятия (Обработанная видеозапись)\"\\nСтандартное поле для загрузки видео (как в акселераторе и видеолекциях), добавление через загрузку с ПК или медиабиблиотеку\\nСнимок экрана 2023-02-11 в 16.57.29.png\\n\\n\\n1. 3. Новые поля разместить после поля: Количество зарегистрированных пользователей: 1\\n\\n2. Добавить вывод на фронт\\n2. 1. Добавить вывод загруженного видео на карточку мероприятия.\\n- Плеер взять стандартный из видеолекций;\\n- После нажатия на кнопку \"Перейти в мероприятия\" пользователя переходит в раздел мероприятия.\\nДизайн-макет: https://www.figma.com/file/GZjgrV7sC76...1%80%D0...\\n3. Добавить уведомление:\\n3.1. Добавить уведомление о записи прошедшего мероприятия\\n- Триггер: Администратор загрузил видеозапись мероприятия или она добавлена автоматически\\n- Уведомления отправляются в колокольчик и на эл.почту:\\nhttps://www.figma.com/file/GZjgrV7sC76...1%80%D0...-'}, page_content='Добавление рассылки видеозаписи прошедшего мероприятия Требуется добавить элемент по управлению рассылками видеозаписи прошедшего мероприятия\\n\\n1. В карточку мероприятия добавить возможность прикрепление обработанной видеозаписи (смонтированной) и записи после мероприятия (автоматическая запись трансляции)\\nДоработать карточку мероприятия, добавить:\\n1. 1. Чек-бокс \"Добавить видеозапись после завершения мероприятия (автоматическая запись трансляции)\";\\n1. 2. Поле \"Добавить видеозапись после завершения мероприятия (Обработанная видеозапись)\"\\nСтандартное поле для загрузки видео (как в акселераторе и видеолекциях), добавление через загрузку с ПК или медиабиблиотеку\\nСнимок экрана 2023-02-11 в 16.57.29.png\\n\\n\\n1. 3. Новые поля разместить после поля: Количество зарегистрированных пользователей: 1\\n\\n2. Добавить вывод на фронт\\n2. 1. Добавить вывод загруженного видео на карточку мероприятия.\\n- Плеер взять стандартный из видеолекций;\\n- После нажатия на кнопку \"Перейти в мероприятия\" пользователя переходит в раздел мероприятия.\\nДизайн-макет: https://www.figma.com/file/GZjgrV7sC76...1%80%D0...\\n3. Добавить уведомление:\\n3.1. Добавить уведомление о записи прошедшего мероприятия\\n- Триггер: Администратор загрузил видеозапись мероприятия или она добавлена автоматически\\n- Уведомления отправляются в колокольчик и на эл.почту:\\nhttps://www.figma.com/file/GZjgrV7sC76...1%80%D0...-')]\n"
     ]
    }
   ],
   "execution_count": 6
  },
  {
   "metadata": {
    "ExecuteTime": {
     "end_time": "2025-09-27T15:28:56.941717Z",
     "start_time": "2025-09-27T15:28:56.938051Z"
    }
   },
   "cell_type": "code",
   "source": [
    "# # создаем сплиттер документов, чтобы уложиться в лимит по токенам, в нашем случае это не очень полезный шаг\n",
    "\n",
    "text_splitter = RecursiveCharacterTextSplitter(chunk_size=1000, chunk_overlap=0)\n",
    "texts = text_splitter.split_documents(documents)\n",
    "\n",
    "print(texts)"
   ],
   "id": "a6fd5d58d8b54567",
   "outputs": [
    {
     "name": "stdout",
     "output_type": "stream",
     "text": [
      "[Document(metadata={'id': 166213, 'title': 'Изменить формат общего шаблона excel при скачивании файлов', 'url': 'https://inside.notamedia.ru/company/personal/user/4658/tasks/task/view/166213/', 'context': 'Требуется изменить формат excel общего шаблона при скачивании файлов. Изменить с формата \"Веб-страница\" https://pastenow.ru/GMPC8 на xls.\\n\\nОтчеты в xls в блоке Бизнес-образования https://pastenow.ru/GMPBC\\n\\nОценка: 1 р.д.'}, page_content='Изменить формат общего шаблона excel при скачивании файлов Требуется изменить формат excel общего шаблона при скачивании файлов. Изменить с формата \"Веб-страница\" https://pastenow.ru/GMPC8 на xls.\\n\\nОтчеты в xls в блоке Бизнес-образования https://pastenow.ru/GMPBC\\n\\nОценка: 1 р.д.'), Document(metadata={'id': 151543, 'title': 'Реализовать страницу со списком акселераторов', 'url': 'https://inside.notamedia.ru/company/personal/user/4658/tasks/task/view/151543/', 'context': '1. Необходимо сделать активной кнопку \"Акселерация\" в разделе Бизнес-компетенций\\n2. При переходе из раздела Акселерация -пользователь попадает на страницу списка акселераторов\\nСсылка на страницу со списком: https://www.figma.com/file/d1UJj9qDws3...D0%B0%D...\\n\\n3. Кнопка подачи заявки на акселератор с текстовой подсказкой (Отображение кнопок описано в задаче: https://inside.notamedia.ru/ex/workgro...ew/160210/)\\n\\nПоля, влияющие на отображение превью карточки акселератора (Поля описаны в задаче в блоке \"Значения свойств\"\\n]https://inside.notamedia.ru/ex/workgroups/group/3974/tasks/task/view/159946/?EVENT_TYPE=UPDATE&a...= ):\\n\\nПоле админ.панели\\n\\t\\n\\nВлияние\\n\\nАктивность\\n\\t\\n\\nОтображение карточки в списке   акселераторов\\n\\nДата начала активности\\n\\t\\n\\nНачало отображения карточки акселератора   в списке акселераторов\\n\\nДата окончания активности\\n\\t\\n\\nКонец отображения карточки акселератора   в списке акселераторов\\n\\nНазвание\\n\\t\\n\\nЗаголовок акселератора\\n\\nТекстовое описание\\n\\t\\n\\nКраткое описание - анонс\\n\\nДата старта сбора заявок\\n\\t\\n\\nПри наступлении дня начала сбора заявок,   активируется кнопка «Подать заявку», которая в дальнейшем может изменяться\\n\\nДата окончания сбора заявок\\n\\t\\n\\nДата, влияющая на подсказку рядом с   кнопкой «Подать заявку»\\n\\nПродление сбора заявок\\n\\t\\n\\nЧекбокс, активность которого означает,   что подсказка рядом с кнопкой «Подать заявку» зависит от второго поля «Дата   окончания сбора заявок»\\n\\nТакже чекбокс влияет на рассылку   уведомления о продлении периода сбора заявок\\n\\nДата окончания сбора заявок\\n\\t\\n\\nДата, влияющая на подсказку рядом с   кнопкой «Подать заявку» в случае, если активирован чекбокс «Продление сбора   заявок»\\n\\n\\nИзображение акселератора\\n\\t\\n\\nЛоготип акселератора, отображающееся в   превью карточки акселератора\\n\\n\\n\\n'}, page_content='Реализовать страницу со списком акселераторов 1. Необходимо сделать активной кнопку \"Акселерация\" в разделе Бизнес-компетенций\\n2. При переходе из раздела Акселерация -пользователь попадает на страницу списка акселераторов\\nСсылка на страницу со списком: https://www.figma.com/file/d1UJj9qDws3...D0%B0%D...\\n\\n3. Кнопка подачи заявки на акселератор с текстовой подсказкой (Отображение кнопок описано в задаче: https://inside.notamedia.ru/ex/workgro...ew/160210/)\\n\\nПоля, влияющие на отображение превью карточки акселератора (Поля описаны в задаче в блоке \"Значения свойств\"\\n]https://inside.notamedia.ru/ex/workgroups/group/3974/tasks/task/view/159946/?EVENT_TYPE=UPDATE&a...= ):\\n\\nПоле админ.панели\\n\\t\\n\\nВлияние\\n\\nАктивность\\n\\t\\n\\nОтображение карточки в списке   акселераторов\\n\\nДата начала активности\\n\\t\\n\\nНачало отображения карточки акселератора   в списке акселераторов\\n\\nДата окончания активности\\n\\t\\n\\nКонец отображения карточки акселератора   в списке акселераторов\\n\\nНазвание\\n\\t\\n\\nЗаголовок акселератора'), Document(metadata={'id': 151543, 'title': 'Реализовать страницу со списком акселераторов', 'url': 'https://inside.notamedia.ru/company/personal/user/4658/tasks/task/view/151543/', 'context': '1. Необходимо сделать активной кнопку \"Акселерация\" в разделе Бизнес-компетенций\\n2. При переходе из раздела Акселерация -пользователь попадает на страницу списка акселераторов\\nСсылка на страницу со списком: https://www.figma.com/file/d1UJj9qDws3...D0%B0%D...\\n\\n3. Кнопка подачи заявки на акселератор с текстовой подсказкой (Отображение кнопок описано в задаче: https://inside.notamedia.ru/ex/workgro...ew/160210/)\\n\\nПоля, влияющие на отображение превью карточки акселератора (Поля описаны в задаче в блоке \"Значения свойств\"\\n]https://inside.notamedia.ru/ex/workgroups/group/3974/tasks/task/view/159946/?EVENT_TYPE=UPDATE&a...= ):\\n\\nПоле админ.панели\\n\\t\\n\\nВлияние\\n\\nАктивность\\n\\t\\n\\nОтображение карточки в списке   акселераторов\\n\\nДата начала активности\\n\\t\\n\\nНачало отображения карточки акселератора   в списке акселераторов\\n\\nДата окончания активности\\n\\t\\n\\nКонец отображения карточки акселератора   в списке акселераторов\\n\\nНазвание\\n\\t\\n\\nЗаголовок акселератора\\n\\nТекстовое описание\\n\\t\\n\\nКраткое описание - анонс\\n\\nДата старта сбора заявок\\n\\t\\n\\nПри наступлении дня начала сбора заявок,   активируется кнопка «Подать заявку», которая в дальнейшем может изменяться\\n\\nДата окончания сбора заявок\\n\\t\\n\\nДата, влияющая на подсказку рядом с   кнопкой «Подать заявку»\\n\\nПродление сбора заявок\\n\\t\\n\\nЧекбокс, активность которого означает,   что подсказка рядом с кнопкой «Подать заявку» зависит от второго поля «Дата   окончания сбора заявок»\\n\\nТакже чекбокс влияет на рассылку   уведомления о продлении периода сбора заявок\\n\\nДата окончания сбора заявок\\n\\t\\n\\nДата, влияющая на подсказку рядом с   кнопкой «Подать заявку» в случае, если активирован чекбокс «Продление сбора   заявок»\\n\\n\\nИзображение акселератора\\n\\t\\n\\nЛоготип акселератора, отображающееся в   превью карточки акселератора\\n\\n\\n\\n'}, page_content='Текстовое описание\\n\\t\\n\\nКраткое описание - анонс\\n\\nДата старта сбора заявок\\n\\t\\n\\nПри наступлении дня начала сбора заявок,   активируется кнопка «Подать заявку», которая в дальнейшем может изменяться\\n\\nДата окончания сбора заявок\\n\\t\\n\\nДата, влияющая на подсказку рядом с   кнопкой «Подать заявку»\\n\\nПродление сбора заявок\\n\\t\\n\\nЧекбокс, активность которого означает,   что подсказка рядом с кнопкой «Подать заявку» зависит от второго поля «Дата   окончания сбора заявок»\\n\\nТакже чекбокс влияет на рассылку   уведомления о продлении периода сбора заявок\\n\\nДата окончания сбора заявок\\n\\t\\n\\nДата, влияющая на подсказку рядом с   кнопкой «Подать заявку» в случае, если активирован чекбокс «Продление сбора   заявок»\\n\\n\\nИзображение акселератора\\n\\t\\n\\nЛоготип акселератора, отображающееся в   превью карточки акселератора'), Document(metadata={'id': 196677, 'title': '[Bug][Major] Доработать статусы заявок в Акселераторах', 'url': 'https://inside.notamedia.ru/company/personal/user/4658/tasks/task/view/196677/', 'context': 'Стенд: все площадки\\n\\n1) Кейс 1\\n- Создать Акселератор\\n- Авторизоваться от пользователя с ИП/с бизнесом (на тесте можно использовать ID 2321)\\n- Перейти в раздел \"Бизнес-обучение\" -> \"Акселерация\"\\n- Подать заявку на участие в акселераторе\\n- Перевести заявку в статус \"Отклонена\" (https://test.smbn.ru/bitrix/admin/busi...ration.php)\\n\\nПроблема: пользователю в \"Мои заявки\" и в колокольчик приходят только 2 уведомления на смену статусов \"На рассмотрении\" и \"Одобрена\". В детальную карточку акселератора приходят все статусы. Требуется доработать формирование уведомлений в колокольчик и в \"Мои заявки\" на остальные статусы.\\n\\nСуществующие статусы:\\n1.1 На рассмотрении\\n1.2 Черновик\\n1.3 На доработку\\n1.4 Отклонена\\n1.5 Одобрена\\nМакет https://www.figma.com/file/u0DisVIzlix...0%B5%D0...\\n\\n2) Кейс 2:\\n- Создать Акселератор\\n- Авторизоваться от пользователя с ИП/с бизнесом (на тесте можно использовать ID 2321)\\n- Перейти в раздел \"Бизнес-обучение\" -> \"Акселерация\"\\n- Подать заявку на участие акселераторе\\n- Перевести заявку в статус \"На доработку\" (https://test.smbn.ru/bitrix/admin/busi...ration.php)\\n- Перейти в раздел \"Бизнес-обучение\" -> \"Акселерация\" -> Детальная карточка акселератора\\n- В детальной карточке акселератора статус заявки изменился на \"Заявка возвращена на доработку\"  \\n\\nПроблема: в детальной карточке акселератора, в публичке, при наведении на кнопку \"Заявка возвращена на доработку\", не меняется курсор (видео \"Статус НА ДОРАБОТКУ.mp4\")'}, page_content='[Bug][Major] Доработать статусы заявок в Акселераторах Стенд: все площадки\\n\\n1) Кейс 1\\n- Создать Акселератор\\n- Авторизоваться от пользователя с ИП/с бизнесом (на тесте можно использовать ID 2321)\\n- Перейти в раздел \"Бизнес-обучение\" -> \"Акселерация\"\\n- Подать заявку на участие в акселераторе\\n- Перевести заявку в статус \"Отклонена\" (https://test.smbn.ru/bitrix/admin/busi...ration.php)\\n\\nПроблема: пользователю в \"Мои заявки\" и в колокольчик приходят только 2 уведомления на смену статусов \"На рассмотрении\" и \"Одобрена\". В детальную карточку акселератора приходят все статусы. Требуется доработать формирование уведомлений в колокольчик и в \"Мои заявки\" на остальные статусы.\\n\\nСуществующие статусы:\\n1.1 На рассмотрении\\n1.2 Черновик\\n1.3 На доработку\\n1.4 Отклонена\\n1.5 Одобрена\\nМакет https://www.figma.com/file/u0DisVIzlix...0%B5%D0...'), Document(metadata={'id': 196677, 'title': '[Bug][Major] Доработать статусы заявок в Акселераторах', 'url': 'https://inside.notamedia.ru/company/personal/user/4658/tasks/task/view/196677/', 'context': 'Стенд: все площадки\\n\\n1) Кейс 1\\n- Создать Акселератор\\n- Авторизоваться от пользователя с ИП/с бизнесом (на тесте можно использовать ID 2321)\\n- Перейти в раздел \"Бизнес-обучение\" -> \"Акселерация\"\\n- Подать заявку на участие в акселераторе\\n- Перевести заявку в статус \"Отклонена\" (https://test.smbn.ru/bitrix/admin/busi...ration.php)\\n\\nПроблема: пользователю в \"Мои заявки\" и в колокольчик приходят только 2 уведомления на смену статусов \"На рассмотрении\" и \"Одобрена\". В детальную карточку акселератора приходят все статусы. Требуется доработать формирование уведомлений в колокольчик и в \"Мои заявки\" на остальные статусы.\\n\\nСуществующие статусы:\\n1.1 На рассмотрении\\n1.2 Черновик\\n1.3 На доработку\\n1.4 Отклонена\\n1.5 Одобрена\\nМакет https://www.figma.com/file/u0DisVIzlix...0%B5%D0...\\n\\n2) Кейс 2:\\n- Создать Акселератор\\n- Авторизоваться от пользователя с ИП/с бизнесом (на тесте можно использовать ID 2321)\\n- Перейти в раздел \"Бизнес-обучение\" -> \"Акселерация\"\\n- Подать заявку на участие акселераторе\\n- Перевести заявку в статус \"На доработку\" (https://test.smbn.ru/bitrix/admin/busi...ration.php)\\n- Перейти в раздел \"Бизнес-обучение\" -> \"Акселерация\" -> Детальная карточка акселератора\\n- В детальной карточке акселератора статус заявки изменился на \"Заявка возвращена на доработку\"  \\n\\nПроблема: в детальной карточке акселератора, в публичке, при наведении на кнопку \"Заявка возвращена на доработку\", не меняется курсор (видео \"Статус НА ДОРАБОТКУ.mp4\")'}, page_content='2) Кейс 2:\\n- Создать Акселератор\\n- Авторизоваться от пользователя с ИП/с бизнесом (на тесте можно использовать ID 2321)\\n- Перейти в раздел \"Бизнес-обучение\" -> \"Акселерация\"\\n- Подать заявку на участие акселераторе\\n- Перевести заявку в статус \"На доработку\" (https://test.smbn.ru/bitrix/admin/busi...ration.php)\\n- Перейти в раздел \"Бизнес-обучение\" -> \"Акселерация\" -> Детальная карточка акселератора\\n- В детальной карточке акселератора статус заявки изменился на \"Заявка возвращена на доработку\"  \\n\\nПроблема: в детальной карточке акселератора, в публичке, при наведении на кнопку \"Заявка возвращена на доработку\", не меняется курсор (видео \"Статус НА ДОРАБОТКУ.mp4\")'), Document(metadata={'id': 181744, 'title': 'Реализация группы прав \"Менеджер Акселератора партнер\"', 'url': 'https://inside.notamedia.ru/company/personal/user/4658/tasks/task/view/181744/', 'context': 'Требуется реализовать новую группу прав \"Менеджер Акселератора партнер\"\\n\\nДоступы к вкладкам («Сервисы»- «Бизнес-обучение»):\\n\\n1. Отчеты по Акселерации (только назначенные Акселераторы).\\n\\nДоступные возможности:\\n\\n    Просмотр и выгрузка отчетов (Отчет по посещению, Трекшн-карты по всем командам).   \\n\\nСсылка на вкладку: https://test.smbn.ru/bitrix/admin/busi...eports.php\\n\\n\\n2. Кабинет Акселератора ( только назначенные Акселераторы).\\n\\nДоступные возможности:\\n\\n    Просмотр в публичной части кабинета Акселератора (кнопка \"Просмотр\");\\n\\n    Дополнение от 19.01. Редактировать вкладок в кабинете Акселератора “Программа Преакселератора” и “Программа Акселератора”\\n\\nСсылка на вкладку:  https://test.smbn.ru/bitrix/admin/busi...abinet.php  \\n\\n\\n3. Кабинет Трекера (только назначенные Акселераторы).\\n\\nДоступные возможности:\\n\\n    Просмотр в публичной части кабинета Трекера (данные по всем командам).\\n\\nСсылка на вкладку:  https://test.smbn.ru/bitrix/admin/busi...ackers.php\\n\\n\\n4. Участники Акселерации (только назначенные Акселераторы).\\n\\nДоступные возможности:\\n\\n    Просмотр участников и их статусов.   \\n\\nСсылка на вкладку:  https://test.smbn.ru/bitrix/admin/busi...ipants.php\\n\\nОписание назначения прав:  \\n\\n1. Назначение прав пользователю производится в админ панели. В случае, если нет назначенных Акселераторов для пользователя с данной ролью,  все вкладки пустые;\\n\\n2. Администратору доступно прикрепление «Менеджер Акселератора партнер» в карточку Акселератора, требуется создать поле «Менеджер Акселератора партнер» (расположить после поля «Менеджер Акселератора внешний»). Добавить возможно нескольких внешних партнеров Акселератора к одному элементу;\\n\\n3. При добавлении пользователя в поле «Менеджер Акселератора партнер» открывается список пользователей которые состоят в данной группе.\\n\\nСсылка на матрицу ролевую: https://docs.google.com/spreadsheets/d...1068701...\\n\\nДополнение от 19.01.\\nУдаление любых элементов на доступных вкладках пользователю с группой прав «Менеджер Акселератора партнер» недоступно.'}, page_content='Реализация группы прав \"Менеджер Акселератора партнер\" Требуется реализовать новую группу прав \"Менеджер Акселератора партнер\"\\n\\nДоступы к вкладкам («Сервисы»- «Бизнес-обучение»):\\n\\n1. Отчеты по Акселерации (только назначенные Акселераторы).\\n\\nДоступные возможности:\\n\\n    Просмотр и выгрузка отчетов (Отчет по посещению, Трекшн-карты по всем командам).   \\n\\nСсылка на вкладку: https://test.smbn.ru/bitrix/admin/busi...eports.php\\n\\n\\n2. Кабинет Акселератора ( только назначенные Акселераторы).\\n\\nДоступные возможности:\\n\\n    Просмотр в публичной части кабинета Акселератора (кнопка \"Просмотр\");\\n\\n    Дополнение от 19.01. Редактировать вкладок в кабинете Акселератора “Программа Преакселератора” и “Программа Акселератора”\\n\\nСсылка на вкладку:  https://test.smbn.ru/bitrix/admin/busi...abinet.php  \\n\\n\\n3. Кабинет Трекера (только назначенные Акселераторы).\\n\\nДоступные возможности:\\n\\n    Просмотр в публичной части кабинета Трекера (данные по всем командам).'), Document(metadata={'id': 181744, 'title': 'Реализация группы прав \"Менеджер Акселератора партнер\"', 'url': 'https://inside.notamedia.ru/company/personal/user/4658/tasks/task/view/181744/', 'context': 'Требуется реализовать новую группу прав \"Менеджер Акселератора партнер\"\\n\\nДоступы к вкладкам («Сервисы»- «Бизнес-обучение»):\\n\\n1. Отчеты по Акселерации (только назначенные Акселераторы).\\n\\nДоступные возможности:\\n\\n    Просмотр и выгрузка отчетов (Отчет по посещению, Трекшн-карты по всем командам).   \\n\\nСсылка на вкладку: https://test.smbn.ru/bitrix/admin/busi...eports.php\\n\\n\\n2. Кабинет Акселератора ( только назначенные Акселераторы).\\n\\nДоступные возможности:\\n\\n    Просмотр в публичной части кабинета Акселератора (кнопка \"Просмотр\");\\n\\n    Дополнение от 19.01. Редактировать вкладок в кабинете Акселератора “Программа Преакселератора” и “Программа Акселератора”\\n\\nСсылка на вкладку:  https://test.smbn.ru/bitrix/admin/busi...abinet.php  \\n\\n\\n3. Кабинет Трекера (только назначенные Акселераторы).\\n\\nДоступные возможности:\\n\\n    Просмотр в публичной части кабинета Трекера (данные по всем командам).\\n\\nСсылка на вкладку:  https://test.smbn.ru/bitrix/admin/busi...ackers.php\\n\\n\\n4. Участники Акселерации (только назначенные Акселераторы).\\n\\nДоступные возможности:\\n\\n    Просмотр участников и их статусов.   \\n\\nСсылка на вкладку:  https://test.smbn.ru/bitrix/admin/busi...ipants.php\\n\\nОписание назначения прав:  \\n\\n1. Назначение прав пользователю производится в админ панели. В случае, если нет назначенных Акселераторов для пользователя с данной ролью,  все вкладки пустые;\\n\\n2. Администратору доступно прикрепление «Менеджер Акселератора партнер» в карточку Акселератора, требуется создать поле «Менеджер Акселератора партнер» (расположить после поля «Менеджер Акселератора внешний»). Добавить возможно нескольких внешних партнеров Акселератора к одному элементу;\\n\\n3. При добавлении пользователя в поле «Менеджер Акселератора партнер» открывается список пользователей которые состоят в данной группе.\\n\\nСсылка на матрицу ролевую: https://docs.google.com/spreadsheets/d...1068701...\\n\\nДополнение от 19.01.\\nУдаление любых элементов на доступных вкладках пользователю с группой прав «Менеджер Акселератора партнер» недоступно.'}, page_content='Ссылка на вкладку:  https://test.smbn.ru/bitrix/admin/busi...ackers.php\\n\\n\\n4. Участники Акселерации (только назначенные Акселераторы).\\n\\nДоступные возможности:\\n\\n    Просмотр участников и их статусов.   \\n\\nСсылка на вкладку:  https://test.smbn.ru/bitrix/admin/busi...ipants.php\\n\\nОписание назначения прав:  \\n\\n1. Назначение прав пользователю производится в админ панели. В случае, если нет назначенных Акселераторов для пользователя с данной ролью,  все вкладки пустые;\\n\\n2. Администратору доступно прикрепление «Менеджер Акселератора партнер» в карточку Акселератора, требуется создать поле «Менеджер Акселератора партнер» (расположить после поля «Менеджер Акселератора внешний»). Добавить возможно нескольких внешних партнеров Акселератора к одному элементу;\\n\\n3. При добавлении пользователя в поле «Менеджер Акселератора партнер» открывается список пользователей которые состоят в данной группе.\\n\\nСсылка на матрицу ролевую: https://docs.google.com/spreadsheets/d...1068701...'), Document(metadata={'id': 181744, 'title': 'Реализация группы прав \"Менеджер Акселератора партнер\"', 'url': 'https://inside.notamedia.ru/company/personal/user/4658/tasks/task/view/181744/', 'context': 'Требуется реализовать новую группу прав \"Менеджер Акселератора партнер\"\\n\\nДоступы к вкладкам («Сервисы»- «Бизнес-обучение»):\\n\\n1. Отчеты по Акселерации (только назначенные Акселераторы).\\n\\nДоступные возможности:\\n\\n    Просмотр и выгрузка отчетов (Отчет по посещению, Трекшн-карты по всем командам).   \\n\\nСсылка на вкладку: https://test.smbn.ru/bitrix/admin/busi...eports.php\\n\\n\\n2. Кабинет Акселератора ( только назначенные Акселераторы).\\n\\nДоступные возможности:\\n\\n    Просмотр в публичной части кабинета Акселератора (кнопка \"Просмотр\");\\n\\n    Дополнение от 19.01. Редактировать вкладок в кабинете Акселератора “Программа Преакселератора” и “Программа Акселератора”\\n\\nСсылка на вкладку:  https://test.smbn.ru/bitrix/admin/busi...abinet.php  \\n\\n\\n3. Кабинет Трекера (только назначенные Акселераторы).\\n\\nДоступные возможности:\\n\\n    Просмотр в публичной части кабинета Трекера (данные по всем командам).\\n\\nСсылка на вкладку:  https://test.smbn.ru/bitrix/admin/busi...ackers.php\\n\\n\\n4. Участники Акселерации (только назначенные Акселераторы).\\n\\nДоступные возможности:\\n\\n    Просмотр участников и их статусов.   \\n\\nСсылка на вкладку:  https://test.smbn.ru/bitrix/admin/busi...ipants.php\\n\\nОписание назначения прав:  \\n\\n1. Назначение прав пользователю производится в админ панели. В случае, если нет назначенных Акселераторов для пользователя с данной ролью,  все вкладки пустые;\\n\\n2. Администратору доступно прикрепление «Менеджер Акселератора партнер» в карточку Акселератора, требуется создать поле «Менеджер Акселератора партнер» (расположить после поля «Менеджер Акселератора внешний»). Добавить возможно нескольких внешних партнеров Акселератора к одному элементу;\\n\\n3. При добавлении пользователя в поле «Менеджер Акселератора партнер» открывается список пользователей которые состоят в данной группе.\\n\\nСсылка на матрицу ролевую: https://docs.google.com/spreadsheets/d...1068701...\\n\\nДополнение от 19.01.\\nУдаление любых элементов на доступных вкладках пользователю с группой прав «Менеджер Акселератора партнер» недоступно.'}, page_content='Дополнение от 19.01.\\nУдаление любых элементов на доступных вкладках пользователю с группой прав «Менеджер Акселератора партнер» недоступно.'), Document(metadata={'id': 190897, 'title': 'Доработка кабинета Акселератора, добавление внешних модераторов', 'url': 'https://inside.notamedia.ru/company/personal/user/4658/tasks/task/view/190897/', 'context': 'Требуется в кабинете Акселератора доработать добавление внешних модераторов.\\nПри создании мероприятия в поле \"Модератор мероприятий внешний\" https://pastenow.ru/ME4M0 поставить ограничение на группу прав.\\nДобавление доступно только пользователей из группы \"Модератор мероприятий внешний\", а не всех пользователей ЦП.  '}, page_content='Доработка кабинета Акселератора, добавление внешних модераторов Требуется в кабинете Акселератора доработать добавление внешних модераторов.\\nПри создании мероприятия в поле \"Модератор мероприятий внешний\" https://pastenow.ru/ME4M0 поставить ограничение на группу прав.\\nДобавление доступно только пользователей из группы \"Модератор мероприятий внешний\", а не всех пользователей ЦП.'), Document(metadata={'id': 184464, 'title': 'Доработка ролевой модели в Акселерации (Демо)', 'url': 'https://inside.notamedia.ru/company/personal/user/4658/tasks/task/view/184464/', 'context': 'Требуется доработать подачу заявок от сотрудник бизнеса в разделе Акселерации.\\n\\nАкселератор: Новый акселератор 2 2 2 роль\\n\\nВладелец: Басов В (ид 1488) ИП БАсов и ООО \"Ромашка\"\\n\\nСотрудник: Мигина Мария (ид 1518)\\n\\nКейс 1. Сотруднику назначены права на сохранение заявок в Акселерации по двум бизнесам, ИП БАсов и ООО \"Ромашка\". В шапке сотрудника бизнесы отображаются корректно, но при нажатии на кнопку \"Подать заявку\" в модальном окне \"Выберете, от кого подать заявку\" выводится только один бизнес, скрин: https://pastenow.ru/KQNY6\\n\\nТребуется доработка, должен выводится бизнес что указан в шапке сотрудника. В данном случае два бизнеса в модальное окно \"Выберете, от кого подать заявку\".\\n\\nКейс 2. Сотруднику назначены права на сохранение заявок в Акселерации по одному бизнесу ООО \"Ромашка\", в шапке сотрудника бизнес отображаются корректно, но при нажатии на кнопку \"Подать заявку\" в модальном окне \"Выберете, от кого подать заявку\" выводится только один бизнес и не тот - \"ИП Басов\", скрин:   https://pastenow.ru/KQNYL\\n\\nТребуется доработка, должен выводится бизнес что указан в шапке сотрудника. '}, page_content='Доработка ролевой модели в Акселерации (Демо) Требуется доработать подачу заявок от сотрудник бизнеса в разделе Акселерации.\\n\\nАкселератор: Новый акселератор 2 2 2 роль\\n\\nВладелец: Басов В (ид 1488) ИП БАсов и ООО \"Ромашка\"\\n\\nСотрудник: Мигина Мария (ид 1518)\\n\\nКейс 1. Сотруднику назначены права на сохранение заявок в Акселерации по двум бизнесам, ИП БАсов и ООО \"Ромашка\". В шапке сотрудника бизнесы отображаются корректно, но при нажатии на кнопку \"Подать заявку\" в модальном окне \"Выберете, от кого подать заявку\" выводится только один бизнес, скрин: https://pastenow.ru/KQNY6\\n\\nТребуется доработка, должен выводится бизнес что указан в шапке сотрудника. В данном случае два бизнеса в модальное окно \"Выберете, от кого подать заявку\".'), Document(metadata={'id': 184464, 'title': 'Доработка ролевой модели в Акселерации (Демо)', 'url': 'https://inside.notamedia.ru/company/personal/user/4658/tasks/task/view/184464/', 'context': 'Требуется доработать подачу заявок от сотрудник бизнеса в разделе Акселерации.\\n\\nАкселератор: Новый акселератор 2 2 2 роль\\n\\nВладелец: Басов В (ид 1488) ИП БАсов и ООО \"Ромашка\"\\n\\nСотрудник: Мигина Мария (ид 1518)\\n\\nКейс 1. Сотруднику назначены права на сохранение заявок в Акселерации по двум бизнесам, ИП БАсов и ООО \"Ромашка\". В шапке сотрудника бизнесы отображаются корректно, но при нажатии на кнопку \"Подать заявку\" в модальном окне \"Выберете, от кого подать заявку\" выводится только один бизнес, скрин: https://pastenow.ru/KQNY6\\n\\nТребуется доработка, должен выводится бизнес что указан в шапке сотрудника. В данном случае два бизнеса в модальное окно \"Выберете, от кого подать заявку\".\\n\\nКейс 2. Сотруднику назначены права на сохранение заявок в Акселерации по одному бизнесу ООО \"Ромашка\", в шапке сотрудника бизнес отображаются корректно, но при нажатии на кнопку \"Подать заявку\" в модальном окне \"Выберете, от кого подать заявку\" выводится только один бизнес и не тот - \"ИП Басов\", скрин:   https://pastenow.ru/KQNYL\\n\\nТребуется доработка, должен выводится бизнес что указан в шапке сотрудника. '}, page_content='Кейс 2. Сотруднику назначены права на сохранение заявок в Акселерации по одному бизнесу ООО \"Ромашка\", в шапке сотрудника бизнес отображаются корректно, но при нажатии на кнопку \"Подать заявку\" в модальном окне \"Выберете, от кого подать заявку\" выводится только один бизнес и не тот - \"ИП Басов\", скрин:   https://pastenow.ru/KQNYL\\n\\nТребуется доработка, должен выводится бизнес что указан в шапке сотрудника.'), Document(metadata={'id': 187834, 'title': 'Добавление рассылки видеозаписи прошедшего мероприятия', 'url': 'https://inside.notamedia.ru/company/personal/user/4658/tasks/task/view/187834/', 'context': 'Требуется добавить элемент по управлению рассылками видеозаписи прошедшего мероприятия\\n\\n1. В карточку мероприятия добавить возможность прикрепление обработанной видеозаписи (смонтированной) и записи после мероприятия (автоматическая запись трансляции)\\nДоработать карточку мероприятия, добавить:\\n1. 1. Чек-бокс \"Добавить видеозапись после завершения мероприятия (автоматическая запись трансляции)\";\\n1. 2. Поле \"Добавить видеозапись после завершения мероприятия (Обработанная видеозапись)\"\\nСтандартное поле для загрузки видео (как в акселераторе и видеолекциях), добавление через загрузку с ПК или медиабиблиотеку\\nСнимок экрана 2023-02-11 в 16.57.29.png\\n\\n\\n1. 3. Новые поля разместить после поля: Количество зарегистрированных пользователей: 1\\n\\n2. Добавить вывод на фронт\\n2. 1. Добавить вывод загруженного видео на карточку мероприятия.\\n- Плеер взять стандартный из видеолекций;\\n- После нажатия на кнопку \"Перейти в мероприятия\" пользователя переходит в раздел мероприятия.\\nДизайн-макет: https://www.figma.com/file/GZjgrV7sC76...1%80%D0...\\n3. Добавить уведомление:\\n3.1. Добавить уведомление о записи прошедшего мероприятия\\n- Триггер: Администратор загрузил видеозапись мероприятия или она добавлена автоматически\\n- Уведомления отправляются в колокольчик и на эл.почту:\\nhttps://www.figma.com/file/GZjgrV7sC76...1%80%D0...-'}, page_content='Добавление рассылки видеозаписи прошедшего мероприятия Требуется добавить элемент по управлению рассылками видеозаписи прошедшего мероприятия\\n\\n1. В карточку мероприятия добавить возможность прикрепление обработанной видеозаписи (смонтированной) и записи после мероприятия (автоматическая запись трансляции)\\nДоработать карточку мероприятия, добавить:\\n1. 1. Чек-бокс \"Добавить видеозапись после завершения мероприятия (автоматическая запись трансляции)\";\\n1. 2. Поле \"Добавить видеозапись после завершения мероприятия (Обработанная видеозапись)\"\\nСтандартное поле для загрузки видео (как в акселераторе и видеолекциях), добавление через загрузку с ПК или медиабиблиотеку\\nСнимок экрана 2023-02-11 в 16.57.29.png\\n\\n\\n1. 3. Новые поля разместить после поля: Количество зарегистрированных пользователей: 1'), Document(metadata={'id': 187834, 'title': 'Добавление рассылки видеозаписи прошедшего мероприятия', 'url': 'https://inside.notamedia.ru/company/personal/user/4658/tasks/task/view/187834/', 'context': 'Требуется добавить элемент по управлению рассылками видеозаписи прошедшего мероприятия\\n\\n1. В карточку мероприятия добавить возможность прикрепление обработанной видеозаписи (смонтированной) и записи после мероприятия (автоматическая запись трансляции)\\nДоработать карточку мероприятия, добавить:\\n1. 1. Чек-бокс \"Добавить видеозапись после завершения мероприятия (автоматическая запись трансляции)\";\\n1. 2. Поле \"Добавить видеозапись после завершения мероприятия (Обработанная видеозапись)\"\\nСтандартное поле для загрузки видео (как в акселераторе и видеолекциях), добавление через загрузку с ПК или медиабиблиотеку\\nСнимок экрана 2023-02-11 в 16.57.29.png\\n\\n\\n1. 3. Новые поля разместить после поля: Количество зарегистрированных пользователей: 1\\n\\n2. Добавить вывод на фронт\\n2. 1. Добавить вывод загруженного видео на карточку мероприятия.\\n- Плеер взять стандартный из видеолекций;\\n- После нажатия на кнопку \"Перейти в мероприятия\" пользователя переходит в раздел мероприятия.\\nДизайн-макет: https://www.figma.com/file/GZjgrV7sC76...1%80%D0...\\n3. Добавить уведомление:\\n3.1. Добавить уведомление о записи прошедшего мероприятия\\n- Триггер: Администратор загрузил видеозапись мероприятия или она добавлена автоматически\\n- Уведомления отправляются в колокольчик и на эл.почту:\\nhttps://www.figma.com/file/GZjgrV7sC76...1%80%D0...-'}, page_content='2. Добавить вывод на фронт\\n2. 1. Добавить вывод загруженного видео на карточку мероприятия.\\n- Плеер взять стандартный из видеолекций;\\n- После нажатия на кнопку \"Перейти в мероприятия\" пользователя переходит в раздел мероприятия.\\nДизайн-макет: https://www.figma.com/file/GZjgrV7sC76...1%80%D0...\\n3. Добавить уведомление:\\n3.1. Добавить уведомление о записи прошедшего мероприятия\\n- Триггер: Администратор загрузил видеозапись мероприятия или она добавлена автоматически\\n- Уведомления отправляются в колокольчик и на эл.почту:\\nhttps://www.figma.com/file/GZjgrV7sC76...1%80%D0...-')]\n"
     ]
    }
   ],
   "execution_count": 7
  },
  {
   "metadata": {
    "ExecuteTime": {
     "end_time": "2025-09-27T15:28:59.857575Z",
     "start_time": "2025-09-27T15:28:59.855149Z"
    }
   },
   "cell_type": "code",
   "source": [
    "import os\n",
    "\n",
    "YC_FOLDER_ID = os.getenv(\"folder_id\")\n",
    "YC_API_KEY = os.getenv(\"ya_token\")\n"
   ],
   "id": "4c592db90cf0836d",
   "outputs": [],
   "execution_count": 8
  },
  {
   "metadata": {
    "ExecuteTime": {
     "end_time": "2025-09-27T15:29:02.589788Z",
     "start_time": "2025-09-27T15:29:02.584389Z"
    }
   },
   "cell_type": "code",
   "source": [
    "from langchain_community.embeddings.yandex import YandexGPTEmbeddings\n",
    "\n",
    "# Создаем модель для генерации эмбеддингов\n",
    "yandex_embeddings = YandexGPTEmbeddings(model=\"doc\", folder_id=YC_FOLDER_ID, iam_token=YC_API_KEY)\n"
   ],
   "id": "69116d610ed31c0f",
   "outputs": [],
   "execution_count": 9
  },
  {
   "metadata": {},
   "cell_type": "markdown",
   "source": "Создаем индекс в бд clickhouse",
   "id": "a913a41447c0ab63"
  },
  {
   "metadata": {},
   "cell_type": "markdown",
   "source": "Запускаем бд в docker контейнере",
   "id": "479e5460e078939"
  },
  {
   "metadata": {},
   "cell_type": "code",
   "outputs": [],
   "execution_count": null,
   "source": [
    "%%sh\n",
    "docker run -d --rm --network=host --name some-clickhouse-server --ulimit nofile=262144:262144 clickhouse"
   ],
   "id": "cb2d027d86d45ad2"
  },
  {
   "metadata": {},
   "cell_type": "markdown",
   "source": "Проверяем доступ и создает таблицу если нет",
   "id": "a8cfc20a1b91b0be"
  },
  {
   "metadata": {
    "ExecuteTime": {
     "end_time": "2025-09-27T15:28:36.095028Z",
     "start_time": "2025-09-27T15:28:31.938981Z"
    }
   },
   "cell_type": "code",
   "source": "%pip install clickhouse-connect",
   "id": "b7747ae2bbd6da11",
   "outputs": [
    {
     "name": "stdout",
     "output_type": "stream",
     "text": [
      "Collecting clickhouse-connect\r\n",
      "  Downloading clickhouse_connect-0.9.2-cp312-cp312-manylinux_2_17_x86_64.manylinux2014_x86_64.whl.metadata (3.8 kB)\r\n",
      "Requirement already satisfied: certifi in /home/dmitry/PyCharmMiscProject/.venv/lib/python3.12/site-packages (from clickhouse-connect) (2025.8.3)\r\n",
      "Requirement already satisfied: urllib3>=1.26 in /home/dmitry/PyCharmMiscProject/.venv/lib/python3.12/site-packages (from clickhouse-connect) (2.5.0)\r\n",
      "Requirement already satisfied: pytz in /home/dmitry/PyCharmMiscProject/.venv/lib/python3.12/site-packages (from clickhouse-connect) (2025.2)\r\n",
      "Requirement already satisfied: zstandard in /home/dmitry/PyCharmMiscProject/.venv/lib/python3.12/site-packages (from clickhouse-connect) (0.24.0)\r\n",
      "Collecting lz4 (from clickhouse-connect)\r\n",
      "  Downloading lz4-4.4.4-cp312-cp312-manylinux_2_17_x86_64.manylinux2014_x86_64.whl.metadata (3.8 kB)\r\n",
      "Downloading clickhouse_connect-0.9.2-cp312-cp312-manylinux_2_17_x86_64.manylinux2014_x86_64.whl (1.1 MB)\r\n",
      "\u001B[2K   \u001B[90m━━━━━━━━━━━━━━━━━━━━━━━━━━━━━━━━━━━━━━━━\u001B[0m \u001B[32m1.1/1.1 MB\u001B[0m \u001B[31m7.9 MB/s\u001B[0m  \u001B[33m0:00:00\u001B[0m eta \u001B[36m0:00:01\u001B[0m\r\n",
      "\u001B[?25hDownloading lz4-4.4.4-cp312-cp312-manylinux_2_17_x86_64.manylinux2014_x86_64.whl (1.3 MB)\r\n",
      "\u001B[2K   \u001B[90m━━━━━━━━━━━━━━━━━━━━━━━━━━━━━━━━━━━━━━━━\u001B[0m \u001B[32m1.3/1.3 MB\u001B[0m \u001B[31m8.6 MB/s\u001B[0m  \u001B[33m0:00:00\u001B[0m\r\n",
      "\u001B[?25hInstalling collected packages: lz4, clickhouse-connect\r\n",
      "\u001B[2K   \u001B[90m━━━━━━━━━━━━━━━━━━━━━━━━━━━━━━━━━━━━━━━━\u001B[0m \u001B[32m2/2\u001B[0m [clickhouse-connect]\r\n",
      "\u001B[1A\u001B[2KSuccessfully installed clickhouse-connect-0.9.2 lz4-4.4.4\r\n",
      "Note: you may need to restart the kernel to use updated packages.\n"
     ]
    }
   ],
   "execution_count": 1
  },
  {
   "metadata": {
    "ExecuteTime": {
     "end_time": "2025-09-27T16:07:23.871771Z",
     "start_time": "2025-09-27T16:07:23.847851Z"
    }
   },
   "cell_type": "code",
   "source": [
    "import clickhouse_connect\n",
    "\n",
    "client = clickhouse_connect.get_client(host=\"localhost\", username=\"default\", password=\"\")\n",
    "client.command(\"DROP TABLE IF EXISTS test_clickhouse\")\n",
    "\n",
    "client.command(f\"\"\"\n",
    "CREATE TABLE test_clickhouse (\n",
    "    id UInt64,\n",
    "    text String,\n",
    "    title String,\n",
    "    url String,\n",
    "    embedding Array(Float32)\n",
    ") ENGINE = MergeTree() ORDER BY id\n",
    "\"\"\")"
   ],
   "id": "4fe624bec0b84e16",
   "outputs": [
    {
     "data": {
      "text/plain": [
       "<clickhouse_connect.driver.summary.QuerySummary at 0x7de9735b7800>"
      ]
     },
     "execution_count": 25,
     "metadata": {},
     "output_type": "execute_result"
    }
   ],
   "execution_count": 25
  },
  {
   "metadata": {
    "ExecuteTime": {
     "end_time": "2025-09-27T16:07:26.119057Z",
     "start_time": "2025-09-27T16:07:26.113786Z"
    }
   },
   "cell_type": "code",
   "source": [
    "from yandex_cloud_ml_sdk import YCloudML\n",
    "\n",
    "sdk = YCloudML(\n",
    "    folder_id=YC_FOLDER_ID,\n",
    "    auth=YC_API_KEY,\n",
    ")"
   ],
   "id": "c907040b7adc486b",
   "outputs": [],
   "execution_count": 26
  },
  {
   "metadata": {},
   "cell_type": "markdown",
   "source": "Заполняем бд",
   "id": "9557e766de44b924"
  },
  {
   "metadata": {
    "ExecuteTime": {
     "end_time": "2025-09-27T16:12:44.967252Z",
     "start_time": "2025-09-27T16:12:43.796106Z"
    }
   },
   "cell_type": "code",
   "source": [
    "for doc in (texts):\n",
    "\n",
    "    # Получаем поля из документа\n",
    "    id = doc.metadata.get(\"id\", 0)\n",
    "    url = doc.metadata.get(\"url\", \"\")\n",
    "    title = doc.metadata.get(\"title\", \"\")\n",
    "    text = doc.page_content  # Добавляем текст документа\n",
    "\n",
    "    # Генерируем эмбеддинг\n",
    "    doc_model = sdk.models.text_embeddings(\"doc\")\n",
    "    doc_embeddings = doc_model.run(text)\n",
    "\n",
    "    embedding_array = doc_embeddings.embedding\n",
    "\n",
    "\n",
    "    # Вставляем строку в таблицу\n",
    "    client.insert(\n",
    "        \"test_clickhouse\",\n",
    "        [\n",
    "            (id, text, title, url, embedding_array)\n",
    "        ]\n",
    "    )\n"
   ],
   "id": "6c7d37f03665868",
   "outputs": [],
   "execution_count": 31
  },
  {
   "metadata": {},
   "cell_type": "markdown",
   "source": "Запрос:",
   "id": "5713b31f97603daa"
  },
  {
   "metadata": {
    "ExecuteTime": {
     "end_time": "2025-09-27T16:14:12.559016Z",
     "start_time": "2025-09-27T16:14:12.557114Z"
    }
   },
   "cell_type": "code",
   "source": "query = 'Какие поля есть в карточке мероприятия?'",
   "id": "f6a4ec402adfffa3",
   "outputs": [],
   "execution_count": 32
  },
  {
   "metadata": {},
   "cell_type": "markdown",
   "source": "Векторизуем запрос",
   "id": "e454e02f8b8059b9"
  },
  {
   "metadata": {
    "ExecuteTime": {
     "end_time": "2025-09-27T16:14:24.700584Z",
     "start_time": "2025-09-27T16:14:24.643584Z"
    }
   },
   "cell_type": "code",
   "source": [
    "query_model = sdk.models.text_embeddings(\"query\")\n",
    "query_embedding = query_model.run(query)\n",
    "\n",
    "print(query_embedding)"
   ],
   "id": "9ccc665047c8f361",
   "outputs": [
    {
     "name": "stdout",
     "output_type": "stream",
     "text": [
      "TextEmbeddingsModelResult(embedding=(-0.0085601806640625, -0.0162353515625, -0.06597900390625, 0.005767822265625, -0.041748046875, -0.03179931640625, 0.0318603515625, -0.10015869140625, -0.0105438232421875, -0.00682830810546875, -0.035919189453125, -0.0006852149963378906, 0.0469970703125, -0.054107666015625, 0.05126953125, 0.022125244140625, 0.046844482421875, -0.1373291015625, -0.10589599609375, -0.11102294921875, 0.058074951171875, 0.031951904296875, 0.0770263671875, -0.034088134765625, 0.0623779296875, 0.006072998046875, -0.028167724609375, -0.036376953125, 0.09661865234375, -0.040283203125, 0.01250457763671875, -0.004863739013671875, -0.07672119140625, 0.03460693359375, 0.00649261474609375, -0.0836181640625, -0.051361083984375, 0.0281982421875, 0.041839599609375, -0.11383056640625, -0.1353759765625, -0.1136474609375, 0.0227203369140625, -0.0209808349609375, -0.0265960693359375, 0.057952880859375, 0.018280029296875, 0.0266265869140625, 0.046966552734375, 0.007965087890625, -0.016845703125, -0.0160675048828125, -0.10174560546875, 0.059356689453125, 0.047454833984375, 0.026580810546875, -0.10565185546875, 0.054168701171875, 0.04632568359375, -0.058441162109375, -0.024444580078125, -0.076171875, -0.0164337158203125, -0.04498291015625, 0.035491943359375, 0.1463623046875, 0.0222930908203125, -0.0257415771484375, 0.09588623046875, -0.1004638671875, -0.09075927734375, 0.158203125, -0.0060882568359375, 0.1619873046875, -0.0306854248046875, 0.01605224609375, -0.0178680419921875, 0.07635498046875, 0.0028667449951171875, -0.11376953125, 0.052978515625, -0.0261077880859375, 0.0863037109375, -0.04107666015625, 0.050506591796875, 0.038726806640625, 0.0244598388671875, -0.0223236083984375, 0.052947998046875, -0.05181884765625, -0.004467010498046875, 0.0438232421875, 0.0413818359375, 0.093505859375, 0.0721435546875, 0.005985260009765625, -0.00934600830078125, -0.0037593841552734375, 0.031494140625, -0.0195465087890625, 0.058441162109375, -0.01165008544921875, 0.0980224609375, -0.0079803466796875, -0.0281982421875, -0.05718994140625, -0.050750732421875, -0.07904052734375, 0.036651611328125, 0.0379638671875, -0.07366943359375, 0.0018281936645507812, -0.0290069580078125, 0.0682373046875, -0.08245849609375, 0.006244659423828125, -0.01373291015625, 0.01457977294921875, 0.0294189453125, -0.054656982421875, 0.07196044921875, 0.0625, 0.038726806640625, -0.0204925537109375, -0.017547607421875, -0.054931640625, -0.06256103515625, 0.06646728515625, 0.082275390625, 0.025177001953125, -0.08929443359375, 0.03143310546875, 0.0167083740234375, -0.05731201171875, 0.0225677490234375, -0.00618743896484375, -0.07867431640625, -0.0828857421875, -0.045745849609375, 0.0411376953125, -0.07562255859375, -0.02862548828125, -0.01183319091796875, -0.0667724609375, -0.04913330078125, 0.0247039794921875, -0.0892333984375, -0.03448486328125, -0.062164306640625, -0.035614013671875, -0.06683349609375, 0.08062744140625, 0.0003478527069091797, 0.1351318359375, -0.0053558349609375, -0.05377197265625, 0.01416015625, -0.08734130859375, -0.14501953125, 0.14306640625, 0.0019369125366210938, 0.0207977294921875, -0.003414154052734375, -0.0948486328125, 0.08612060546875, 0.039825439453125, -0.0765380859375, 0.0197296142578125, 0.07183837890625, 0.0159454345703125, -0.06903076171875, -0.0694580078125, -0.0335693359375, 0.103759765625, 0.11163330078125, -0.058258056640625, 0.050872802734375, 0.03253173828125, 0.0039825439453125, -0.0290069580078125, -0.02587890625, -0.1588134765625, 0.005718231201171875, -0.04437255859375, 0.058807373046875, 0.005382537841796875, -0.09930419921875, 0.109130859375, 0.075927734375, 0.02001953125, -0.00162506103515625, 0.130126953125, 0.0032062530517578125, 0.0257720947265625, -0.0034198760986328125, 0.0283050537109375, 0.035064697265625, -0.02679443359375, 0.035919189453125, -0.053070068359375, -0.09600830078125, 0.054534912109375, 0.03692626953125, -0.063232421875, 0.07916259765625, -0.0160980224609375, -0.06903076171875, 0.06378173828125, -0.0197296142578125, 0.129150390625, 0.18212890625, -0.04083251953125, -0.0814208984375, 0.027740478515625, 0.060333251953125, 0.0159149169921875, 0.026031494140625, 0.069091796875, -0.0989990234375, -0.03680419921875, -0.0051727294921875, 0.0307159423828125, 0.023162841796875, -0.06396484375, -0.08734130859375, -0.04071044921875, 0.045440673828125, 0.087890625, -0.10858154296875, 0.063232421875, 0.007137298583984375, -0.1011962890625, -0.054534912109375, -0.0430908203125, -0.0496826171875, -0.0015954971313476562, -0.060943603515625, 0.0662841796875, 0.03302001953125, 0.142333984375, 0.040069580078125, 0.0115814208984375, 0.057830810546875, -0.029327392578125, 0.055755615234375, -0.035064697265625, -0.019775390625, 0.019561767578125, 0.0726318359375, -0.03314208984375, 0.10040283203125, 0.052520751953125, 0.058258056640625, 0.040008544921875, -0.05706787109375, -0.00030159950256347656), num_tokens=9, model_version='06.12.2023')\n"
     ]
    }
   ],
   "execution_count": 34
  },
  {
   "metadata": {},
   "cell_type": "markdown",
   "source": "Проверяем индекс в clickhouse",
   "id": "fa1a5b645eb160c5"
  },
  {
   "metadata": {
    "ExecuteTime": {
     "end_time": "2025-09-27T16:23:25.132847Z",
     "start_time": "2025-09-27T16:23:25.123654Z"
    }
   },
   "cell_type": "code",
   "source": [
    "\n",
    "query_str = \",\".join(map(str, query_embedding))\n",
    "result = client.query(f\"\"\"\n",
    "SELECT id, cosineDistance(embedding, [{query_str}]) AS dist\n",
    "FROM test_clickhouse\n",
    "ORDER BY dist ASC\n",
    "LIMIT 2\n",
    "\"\"\")\n",
    "\n",
    "print(\"🔍 ClickHouse:\", [row[0] for row in result.result_rows])"
   ],
   "id": "639e93bdedef6286",
   "outputs": [
    {
     "name": "stdout",
     "output_type": "stream",
     "text": [
      "🔍 ClickHouse: [187834, 151543]\n"
     ]
    }
   ],
   "execution_count": 40
  },
  {
   "metadata": {},
   "cell_type": "markdown",
   "source": "Выносим код в функцию",
   "id": "dd2ff6b5a721c035"
  },
  {
   "metadata": {
    "ExecuteTime": {
     "end_time": "2025-09-27T16:23:39.608709Z",
     "start_time": "2025-09-27T16:23:39.373596Z"
    }
   },
   "cell_type": "code",
   "source": [
    "def search_similar_documents(query: str):\n",
    "    \"\"\"\n",
    "    Поиск похожих документов в ClickHouse с использованием косинусного расстояния\n",
    "\n",
    "    Parameters:\n",
    "        client (clickhouse_connect.Client): Подключённый клиент к ClickHouse\n",
    "        query_embedding (list[float]): Вектор-эмбеддинг запроса\n",
    "\n",
    "    Returns:\n",
    "        list[int]: Список ID найденных документов\n",
    "    \"\"\"\n",
    "\n",
    "    query_model = sdk.models.text_embeddings(\"query\")\n",
    "    query_embedding = query_model.run(query)\n",
    "\n",
    "    # Преобразуем эмбеддинг в строку для SQL-запроса\n",
    "    query_str = \",\".join(map(str, query_embedding))\n",
    "\n",
    "    # Выполняем запрос с расчётом косинусного расстояния\n",
    "    result = client.query(f\"\"\"\n",
    "        SELECT id, title, url, text, cosineDistance(embedding, [{query_str}]) AS dist\n",
    "        FROM test_clickhouse\n",
    "        ORDER BY dist ASC\n",
    "        LIMIT 2\n",
    "    \"\"\")\n",
    "\n",
    "    # Формируем список словарей с данными документов\n",
    "    similar_docs = [\n",
    "        {\n",
    "            \"id\": row[0],\n",
    "            \"title\": row[1],\n",
    "            \"url\": row[2],\n",
    "            \"text\": row[3]\n",
    "        }\n",
    "        for row in result.result_rows\n",
    "    ]\n",
    "\n",
    "    return similar_docs\n",
    "\n",
    "print(search_similar_documents(query))"
   ],
   "id": "1a3db87e45737c6",
   "outputs": [
    {
     "name": "stdout",
     "output_type": "stream",
     "text": [
      "[{'id': 187834, 'title': 'Добавление рассылки видеозаписи прошедшего мероприятия', 'url': 'https://inside.notamedia.ru/company/personal/user/4658/tasks/task/view/187834/', 'text': 'Добавление рассылки видеозаписи прошедшего мероприятия Требуется добавить элемент по управлению рассылками видеозаписи прошедшего мероприятия\\n\\n1. В карточку мероприятия добавить возможность прикрепление обработанной видеозаписи (смонтированной) и записи после мероприятия (автоматическая запись трансляции)\\nДоработать карточку мероприятия, добавить:\\n1. 1. Чек-бокс \"Добавить видеозапись после завершения мероприятия (автоматическая запись трансляции)\";\\n1. 2. Поле \"Добавить видеозапись после завершения мероприятия (Обработанная видеозапись)\"\\nСтандартное поле для загрузки видео (как в акселераторе и видеолекциях), добавление через загрузку с ПК или медиабиблиотеку\\nСнимок экрана 2023-02-11 в 16.57.29.png\\n\\n\\n1. 3. Новые поля разместить после поля: Количество зарегистрированных пользователей: 1'}, {'id': 151543, 'title': 'Реализовать страницу со списком акселераторов', 'url': 'https://inside.notamedia.ru/company/personal/user/4658/tasks/task/view/151543/', 'text': 'Текстовое описание\\n\\t\\n\\nКраткое описание - анонс\\n\\nДата старта сбора заявок\\n\\t\\n\\nПри наступлении дня начала сбора заявок,   активируется кнопка «Подать заявку», которая в дальнейшем может изменяться\\n\\nДата окончания сбора заявок\\n\\t\\n\\nДата, влияющая на подсказку рядом с   кнопкой «Подать заявку»\\n\\nПродление сбора заявок\\n\\t\\n\\nЧекбокс, активность которого означает,   что подсказка рядом с кнопкой «Подать заявку» зависит от второго поля «Дата   окончания сбора заявок»\\n\\nТакже чекбокс влияет на рассылку   уведомления о продлении периода сбора заявок\\n\\nДата окончания сбора заявок\\n\\t\\n\\nДата, влияющая на подсказку рядом с   кнопкой «Подать заявку» в случае, если активирован чекбокс «Продление сбора   заявок»\\n\\n\\nИзображение акселератора\\n\\t\\n\\nЛоготип акселератора, отображающееся в   превью карточки акселератора'}]\n"
     ]
    }
   ],
   "execution_count": 41
  },
  {
   "metadata": {},
   "cell_type": "markdown",
   "source": "Создаем модель",
   "id": "1e4d0a8335a58870"
  },
  {
   "metadata": {
    "ExecuteTime": {
     "end_time": "2025-09-27T16:25:06.069948Z",
     "start_time": "2025-09-27T16:25:06.051340Z"
    }
   },
   "cell_type": "code",
   "source": [
    "from langchain_community.llms import YandexGPT\n",
    "\n",
    "llm = YandexGPT(\n",
    "    folder_id=YC_FOLDER_ID,\n",
    "    iam_token=YC_API_KEY,\n",
    "    model=\"yandexgpt\",\n",
    "    temperature=0.3,\n",
    "    max_tokens=500\n",
    ")"
   ],
   "id": "77ec7ae215041018",
   "outputs": [],
   "execution_count": 43
  },
  {
   "metadata": {},
   "cell_type": "markdown",
   "source": "Подключаем промпт",
   "id": "ec4606456efee23a"
  },
  {
   "metadata": {
    "ExecuteTime": {
     "end_time": "2025-09-27T16:26:18.813110Z",
     "start_time": "2025-09-27T16:26:16.286141Z"
    }
   },
   "cell_type": "code",
   "source": [
    "from langchain.prompts import PromptTemplate\n",
    "from langchain.chains import LLMChain\n",
    "\n",
    "# Создаем шаблон промпта с полями из метаданных\n",
    "prompt_template = PromptTemplate(\n",
    "    input_variables=[\"question\", \"context\"],\n",
    "    template=\"\"\"Ответь на вопрос, используя следующие документы:\n",
    "\n",
    "Контекст:\n",
    "{context}\n",
    "\n",
    "Вопрос:\n",
    "{question}\n",
    "\n",
    "Ответ:\"\"\"\n",
    ")\n",
    "\n",
    "# цепочка с кастомным промтом\n",
    "llm_chain = LLMChain(llm=llm, prompt=prompt_template)\n",
    "\n",
    "relevants = search_similar_documents(query)\n",
    "\n",
    "# Формируем контекст и метаданные\n",
    "context = \"\\n\\n\".join([doc['text'] for doc in relevants])\n",
    "\n",
    "# Отправляем запрос в LLMChain\n",
    "result = llm_chain.invoke({\n",
    "    \"question\": query,\n",
    "    \"context\": context\n",
    "})\n",
    "\n",
    "print(\"Вопрос:\")\n",
    "print(query)\n",
    "\n",
    "print(\"Ответ:\")\n",
    "print(result[\"text\"])\n",
    "\n",
    "print(f\"\\n\\nПодробнее в задачах:\\n\")\n",
    "for doc in relevants:\n",
    "    print(f\"{doc[\"title\"]}\\n{doc[\"url\"]}\\n\")\n"
   ],
   "id": "adb878a751e9eb67",
   "outputs": [
    {
     "name": "stdout",
     "output_type": "stream",
     "text": [
      "Вопрос:\n",
      "Какие поля есть в карточке мероприятия?\n",
      "Ответ:\n",
      "В карточке мероприятия есть следующие поля:\n",
      "* Краткое описание — анонс.\n",
      "* Дата старта сбора заявок.\n",
      "* Дата окончания сбора заявок.\n",
      "* Продление сбора заявок (чек-бокс).\n",
      "* Поле для даты окончания сбора заявок (в случае активации чекбокса «Продление сбора заявок»).\n",
      "* Поле для загрузки смонтированной видеозаписи.\n",
      "* Чек-бокс «Добавить видеозапись после завершения мероприятия (автоматическая запись трансляции)».\n",
      "* Поле для загрузки автоматической записи трансляции после завершения мероприятия.\n",
      "* Поле «Количество зарегистрированных пользователей».\n",
      "\n",
      "\n",
      "Подробнее в задачах:\n",
      "\n",
      "Добавление рассылки видеозаписи прошедшего мероприятия\n",
      "https://inside.notamedia.ru/company/personal/user/4658/tasks/task/view/187834/\n",
      "\n",
      "Реализовать страницу со списком акселераторов\n",
      "https://inside.notamedia.ru/company/personal/user/4658/tasks/task/view/151543/\n",
      "\n"
     ]
    }
   ],
   "execution_count": 46
  }
 ],
 "metadata": {
  "kernelspec": {
   "display_name": "Python 3",
   "language": "python",
   "name": "python3"
  },
  "language_info": {
   "codemirror_mode": {
    "name": "ipython",
    "version": 2
   },
   "file_extension": ".py",
   "mimetype": "text/x-python",
   "name": "python",
   "nbconvert_exporter": "python",
   "pygments_lexer": "ipython2",
   "version": "2.7.6"
  }
 },
 "nbformat": 4,
 "nbformat_minor": 5
}
