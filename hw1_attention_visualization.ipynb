{
  "cells": [
    {
      "cell_type": "markdown",
      "metadata": {
        "id": "view-in-github",
        "colab_type": "text"
      },
      "source": [
        "<a href=\"https://colab.research.google.com/github/dmitryplus/otus_llm_develop_dz/blob/main/hw1_attention_visualization.ipynb\" target=\"_parent\"><img src=\"https://colab.research.google.com/assets/colab-badge.svg\" alt=\"Open In Colab\"/></a>"
      ]
    },
    {
      "cell_type": "markdown",
      "source": [
        "# ДЗ №1: Визуализация механизмов Attention в трансформерах\n",
        "\n",
        "## 🎯 Цель задания\n",
        "После выполнения задания вы сможете:\n",
        "- Визуализировать работу self-attention механизма\n",
        "- Сравнивать различные реализации QKV в BERT, GPT и T5\n",
        "- Анализировать позиционные векторы и их влияние на понимание последовательности\n",
        "- Интерпретировать attention-карты для объяснения решений модели\n",
        "\n",
        "## 📝 Структура задания\n",
        "- **Часть 1** (обязательная, 70% оценки): Базовая визуализация attention\n",
        "- **Часть 2** (дополнительная, 30% оценки): Продвинутый анализ\n",
        "\n",
        "## ⚡ Критерии оценки\n",
        "- Корректность кода: 40%\n",
        "- Качество визуализации: 30%\n",
        "- Анализ результатов: 30%\n"
      ],
      "metadata": {
        "id": "MxDqF_bldL05"
      }
    },
    {
      "cell_type": "markdown",
      "source": [
        "## 🔧 Установка зависимостей\n",
        "\n",
        "Установим необходимые библиотеки для работы с трансформерами и визуализации.\n"
      ],
      "metadata": {
        "id": "1E9aKTyCdSqE"
      }
    },
    {
      "cell_type": "code",
      "execution_count": null,
      "metadata": {
        "id": "jcc95BIlXZQY"
      },
      "outputs": [],
      "source": [
        "%pip install transformers torch matplotlib seaborn bertviz numpy pandas\n",
        "%pip install -q ipywidgets"
      ]
    },
    {
      "cell_type": "code",
      "execution_count": null,
      "metadata": {
        "id": "riGO2qpnXZQZ"
      },
      "outputs": [],
      "source": [
        "# Импорт необходимых библиотек\n",
        "import torch\n",
        "import numpy as np\n",
        "import matplotlib.pyplot as plt\n",
        "import seaborn as sns\n",
        "from transformers import (\n",
        "    AutoTokenizer, AutoModel,\n",
        "    BertTokenizer, BertModel,\n",
        "    GPT2Tokenizer, GPT2Model,\n",
        "    T5Tokenizer, T5Model\n",
        ")\n",
        "from bertviz import model_view, head_view\n",
        "import warnings\n",
        "warnings.filterwarnings('ignore')\n",
        "\n",
        "# Настройка отображения\n",
        "plt.style.use('default')\n",
        "sns.set_palette(\"husl\")\n",
        "%matplotlib inline\n"
      ]
    },
    {
      "cell_type": "markdown",
      "source": [
        "## 📊 Часть 1: Основные задания (обязательная часть)\n",
        "\n",
        "### Задание 1.1: Загрузка и подготовка моделей\n"
      ],
      "metadata": {
        "id": "jBKZfirbeNyU"
      }
    },
    {
      "cell_type": "code",
      "execution_count": null,
      "metadata": {
        "id": "m7wv662LXZQZ"
      },
      "outputs": [],
      "source": [
        "# Загружаем модели для сравнения\n",
        "models_info = {\n",
        "    'BERT': {\n",
        "        'model_name': 'bert-base-uncased',\n",
        "        'tokenizer': None,\n",
        "        'model': None\n",
        "    },\n",
        "    'GPT-2': {\n",
        "        'model_name': 'gpt2',\n",
        "        'tokenizer': None,\n",
        "        'model': None\n",
        "    }\n",
        "}\n",
        "\n",
        "# TODO: Загрузите токенизаторы и модели для BERT и GPT-2\n",
        "# используя библиотеку Transformers\n",
        "#\n",
        "# Заполните словарь models_info\n",
        "\n",
        "models_info['BERT']['tokenizer'] = ...\n",
        "models_info['BERT']['model'] = ...\n",
        "models_info['GPT-2']['tokenizer'] = ...\n",
        "models_info['GPT-2']['model'] = ...\n",
        "\n",
        "print(\"Модели загружены успешно!\")\n"
      ]
    },
    {
      "cell_type": "markdown",
      "source": [
        "### Задание 1.2: Токенизация и получение attention весов"
      ],
      "metadata": {
        "id": "-W7CSwzndYAC"
      }
    },
    {
      "cell_type": "code",
      "execution_count": null,
      "metadata": {
        "id": "gTKNeGW6XZQZ"
      },
      "outputs": [],
      "source": [
        "# Тестовый текст для анализа\n",
        "test_text = \"The cat sat on the mat and looked at the dog.\"\n",
        "print(f\"Анализируемый текст: {test_text}\")\n",
        "\n",
        "def get_attention_weights(text, model_name):\n",
        "    \"\"\"\n",
        "    Получение attention весов для заданного текста и модели\n",
        "    \"\"\"\n",
        "    tokenizer = models_info[model_name]['tokenizer']\n",
        "    model = models_info[model_name]['model']\n",
        "\n",
        "    # ......\n",
        "\n",
        "    return attention_weights, tokens, inputs\n",
        "\n",
        "# Получаем attention веса для обеих моделей\n",
        "bert_attention, bert_tokens, bert_inputs = get_attention_weights(test_text, 'BERT')\n",
        "gpt2_attention, gpt2_tokens, gpt2_inputs = get_attention_weights(test_text, 'GPT-2')\n",
        "\n",
        "print(f\"BERT tokens: {bert_tokens}\")\n",
        "print(f\"GPT-2 tokens: {gpt2_tokens}\")\n",
        "print(f\"BERT attention shape: {bert_attention[0].shape}\")\n",
        "print(f\"GPT-2 attention shape: {gpt2_attention[0].shape}\")\n"
      ]
    },
    {
      "cell_type": "markdown",
      "source": [
        "### Задание 1.3: Создание базовой attention heatmap"
      ],
      "metadata": {
        "id": "GjEP2rS6dc82"
      }
    },
    {
      "cell_type": "code",
      "execution_count": null,
      "metadata": {
        "id": "TWBKZMT7XZQZ"
      },
      "outputs": [],
      "source": [
        "def plot_attention_heatmap(attention_weights, tokens, model_name, layer_idx=0, head_idx=0):\n",
        "    \"\"\"\n",
        "    Создание heatmap для визуализации attention весов\n",
        "    \"\"\"\n",
        "    # TODO: Извлеките attention веса для указанного слоя и головы\n",
        "    attention_matrix = ...\n",
        "\n",
        "    # ToDo: Создаем heatmap\n",
        "\n",
        "\n",
        "    # TODO: Созданиее heatmap используя seaborn ( можно использовать другие библиотеки)\n",
        "    # основная задача - визуализировать веса на каждый токен ( слово )\n",
        "    # plt.figure(figsize=(10, 8))\n",
        "    # sns.heatmap(\n",
        "    #    attention_matrix,\n",
        "    #    xticklabels=tokens,\n",
        "    #    yticklabels=tokens,\n",
        "    #    cmap='Blues',\n",
        "    #    cbar=True,\n",
        "    #    square=True\n",
        "    # )\n",
        "\n",
        "    # plt.title(f'{model_name} - Layer {layer_idx}, Head {head_idx}\\\\nAttention Weights')\n",
        "    # plt.xlabel('Key (Attended to)')\n",
        "    # plt.ylabel('Query (Attending from)')\n",
        "    # plt.xticks(rotation=45)\n",
        "    # plt.yticks(rotation=0)\n",
        "    # plt.tight_layout()\n",
        "    # plt.show()\n",
        "\n",
        "# Визуализируем attention для первого слоя и первой головы\n",
        "plot_attention_heatmap(bert_attention, bert_tokens, 'BERT', layer_idx=0, head_idx=0)\n",
        "plot_attention_heatmap(gpt2_attention, gpt2_tokens, 'GPT-2', layer_idx=0, head_idx=0)\n"
      ]
    },
    {
      "cell_type": "markdown",
      "source": [
        "### Задание 1.4: Анализ результатов\n",
        "\n",
        "**TODO: Ответьте на следующие вопросы:**\n"
      ],
      "metadata": {
        "id": "lB3bsy80divi"
      }
    },
    {
      "cell_type": "markdown",
      "source": [
        "1. **Какие различия вы заметили в attention patterns между BERT и GPT-2?**\n",
        "\n",
        "   *Ваш ответ:*\n",
        "\n",
        "2. **Как изменяются attention веса в разных слоях?**\n",
        "\n",
        "   *Ваш ответ:*\n",
        "\n",
        "3. **Какую роль играют позиционные кодировки?**\n",
        "\n",
        "   *Ваш ответ:*\n"
      ],
      "metadata": {
        "id": "Yy3xITT8dlLw"
      }
    },
    {
      "cell_type": "markdown",
      "source": [
        "## 🚀 Часть 2: Дополнительные задания (30% оценки)\n",
        "\n",
        "### Задание 2.1: Исследование Multi-Head Attention\n"
      ],
      "metadata": {
        "id": "fRTHuMq4drCJ"
      }
    },
    {
      "cell_type": "code",
      "execution_count": null,
      "metadata": {
        "id": "glYob05iXZQa"
      },
      "outputs": [],
      "source": [
        "def analyze_multi_head_attention(attention_weights, tokens, model_name, layer_idx=6):\n",
        "    \"\"\"\n",
        "    Анализ того, как разные головы attention фокусируются на разных аспектах\n",
        "    \"\"\"\n",
        "    num_heads = ...\n",
        "\n",
        "    # TODO: Создайте визуализацию attention для всех голов в одном слое\n",
        "\n",
        "\n",
        "# Анализируем multi-head attention для средних слоев\n",
        "analyze_multi_head_attention(bert_attention, bert_tokens, 'BERT', layer_idx=6)\n"
      ]
    },
    {
      "cell_type": "markdown",
      "source": [
        "### Задание 2.2: Создание attention-карт для русскоязычного текста\n"
      ],
      "metadata": {
        "id": "jO-KRUnrdwt5"
      }
    },
    {
      "cell_type": "code",
      "execution_count": null,
      "metadata": {
        "id": "VH5iglp7XZQa"
      },
      "outputs": [],
      "source": [
        "# TODO: Загрузите русскоязычную модель и проанализируйте attention для русского текста\n",
        "# ========= РЕШЕНИЕ: =========\n",
        "from transformers import AutoTokenizer, AutoModel\n",
        "\n",
        "# Загружаем русскоязычную модель\n",
        "# Напрмимер можно использовать DeepPavlov/rubert-base-cased\n",
        "ru_tokenizer = ...\n",
        "ru_model = ...\n",
        "\n",
        "# Русский текст для анализа\n",
        "russian_text = \"Кот сидел на ковре и смотрел на собаку.\"\n",
        "\n",
        "def analyze_russian_attention(text, tokenizer, model):\n",
        "    \"\"\"\n",
        "    Анализ attention для русского текста\n",
        "    \"\"\"\n",
        "    # Токенизация\n",
        "    inputs = ...\n",
        "    outputs = ...\n",
        "    attention_weights = ...\n",
        "    tokens = ...\n",
        "\n",
        "    # Создаем heatmap для последнего слоя\n",
        "    attention_matrix = ...\n",
        "\n",
        "    plt.figure(figsize=(12, 10))\n",
        "    sns.heatmap(\n",
        "        attention_matrix,\n",
        "        xticklabels=tokens,\n",
        "        yticklabels=tokens,\n",
        "        cmap='Blues',\n",
        "        cbar=True,\n",
        "        square=True,\n",
        "        annot=True,\n",
        "        fmt='.2f'\n",
        "    )\n",
        "\n",
        "    plt.title(f'RuBERT Attention Heatmap\\\\nText: {text}')\n",
        "    plt.xlabel('Key (Attended to)')\n",
        "    plt.ylabel('Query (Attending from)')\n",
        "    plt.xticks(rotation=45)\n",
        "    plt.yticks(rotation=0)\n",
        "    plt.tight_layout()\n",
        "    plt.show()\n",
        "\n",
        "    return attention_weights, tokens\n",
        "\n",
        "# Анализируем русский текст\n",
        "ru_attention, ru_tokens = analyze_russian_attention(russian_text, ru_tokenizer, ru_model)\n",
        "\n",
        "print(f\"\\\\nТокены: {ru_tokens}\")\n",
        "print(f\"Количество слоев: {len(ru_attention)}\")\n",
        "print(f\"Количество голов: {ru_attention[0].shape[1]}\")\n"
      ]
    },
    {
      "cell_type": "markdown",
      "source": [
        "## 📈 Итоговый анализ и выводы\n",
        "\n",
        "### Задание 3: Сравнительный анализ\n",
        "\n",
        "**TODO: Сделайте итоговые выводы по результатам всех экспериментов:**\n"
      ],
      "metadata": {
        "id": "BrRiYPM5d1y-"
      }
    },
    {
      "cell_type": "markdown",
      "source": [
        "1. **Основные различия между BERT и GPT-2:**\n",
        "\n",
        "   *Ваш анализ:*\n",
        "\n",
        "2. **Как attention головы специализируются:**\n",
        "\n",
        "   *Ваш анализ:*\n",
        "\n",
        "3. **Особенности русскоязычных моделей:**\n",
        "\n",
        "   *Ваш анализ:*\n",
        "\n",
        "4. **Практические применения полученных знаний:**\n",
        "\n",
        "   *Ваш анализ:*\n"
      ],
      "metadata": {
        "id": "CwEd_Gjid4Lu"
      }
    },
    {
      "cell_type": "markdown",
      "source": [
        "## 🎯 Заключение\n",
        "\n",
        "В этом задании вы:\n",
        "- ✅ Изучили механизмы attention в трансформерах\n",
        "- ✅ Сравнили разные архитектуры (BERT vs GPT-2)\n",
        "- ✅ Проанализировали специализацию attention голов\n",
        "- ✅ Работали с русскоязычными моделями\n",
        "\n",
        "Полученные навыки визуализации и анализа attention будут полезны для:\n",
        "- Отладки и оптимизации моделей\n",
        "- Объяснения решений AI-систем\n",
        "- Выбора подходящей архитектуры для задач\n",
        "- Интерпретации поведения моделей\n",
        "\n",
        "## 📋 Критерии сдачи ДЗ\n",
        "\n",
        "### Обязательная часть (70% оценки):\n",
        "- [x] Загружены и настроены модели BERT и GPT-2\n",
        "- [x] Реализована функция получения attention весов\n",
        "- [x] Создана базовая визуализация attention heatmap\n",
        "- [x] Даны ответы на аналитические вопросы\n",
        "\n",
        "### Дополнительная часть (30% оценки):\n",
        "- [x] Проанализированы multi-head attention паттерны\n",
        "- [x] Работа с русскоязычной моделью\n",
        "- [x] Итоговый сравнительный анализ\n",
        "\n",
        "**Удачи в дальнейшем изучении трансформеров! 🚀**\n"
      ],
      "metadata": {
        "id": "OGX1jUBxd9uc"
      }
    }
  ],
  "metadata": {
    "language_info": {
      "name": "python"
    },
    "colab": {
      "provenance": [],
      "include_colab_link": true
    },
    "kernelspec": {
      "name": "python3",
      "display_name": "Python 3"
    }
  },
  "nbformat": 4,
  "nbformat_minor": 0
}